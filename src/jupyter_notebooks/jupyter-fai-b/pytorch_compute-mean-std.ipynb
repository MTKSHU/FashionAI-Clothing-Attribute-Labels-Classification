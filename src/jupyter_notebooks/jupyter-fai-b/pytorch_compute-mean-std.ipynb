{
 "cells": [
  {
   "cell_type": "code",
   "execution_count": null,
   "metadata": {
    "ExecuteTime": {
     "end_time": "2018-04-09T13:45:34.759285Z",
     "start_time": "2018-04-09T13:45:34.754345Z"
    },
    "collapsed": true
   },
   "outputs": [],
   "source": [
    "import cv2\n",
    "import numpy as np\n",
    "import pandas as pd\n",
    "from tqdm import tqdm\n",
    "import os\n",
    "import torch\n",
    "RESOLUTION = 331"
   ]
  },
  {
   "cell_type": "code",
   "execution_count": null,
   "metadata": {
    "collapsed": true
   },
   "outputs": [],
   "source": [
    "# Shape:  (89682, 331, 331, 3)\n",
    "# 8种属性总的means: [0.63894498, 0.5993557, 0.587506]\n",
    "# 8种属性总的stdevs: [0.28748438, 0.29435793, 0.29647669]\n",
    "# transforms.Normalize(mean = [0.63894498, 0.5993557, 0.587506], std = [0.28748438, 0.29435793, 0.29647669])"
   ]
  },
  {
   "cell_type": "code",
   "execution_count": null,
   "metadata": {
    "collapsed": true
   },
   "outputs": [],
   "source": [
    "#计算每个属性的mean和std\n",
    "classes = [ 'collar_design_labels','neckline_design_labels','skirt_length_labels', \n",
    "             'sleeve_length_labels', 'neck_design_labels', 'lapel_design_labels', \n",
    "             'pant_length_labels','coat_length_labels']  \n",
    "for cls in classes:\n",
    "    df_train = pd.read_csv('../train/Annotations/{0}.csv'.format(cls))\n",
    "    df_load = df_train.copy()\n",
    "    df_load.columns = ['image_id', 'class', 'label']\n",
    "    df_load.reset_index(inplace= True,drop=True)\n",
    "    \n",
    "    n = len(df_load)\n",
    "    X = np.zeros((n, RESOLUTION, RESOLUTION, 3), dtype='float32')\n",
    "    print(cls,'该属性样本数:{}'.format(n))\n",
    "    for i in range(n):\n",
    "        X[i] = cv2.resize(cv2.imread('../train/{0}'.format(df_load['image_id'][i])), (RESOLUTION, RESOLUTION))/255.\n",
    "\n",
    "    print(cls,\"DataShape: \", X.shape)\n",
    "\n",
    "    means =  []\n",
    "    stdevs = []\n",
    "    for i in range(3):\n",
    "        pixels = X[:,:,:,i].ravel()\n",
    "        means.append(np.mean(pixels))\n",
    "        stdevs.append(np.std(pixels))\n",
    "    print(cls,\"该属性means: {}\".format(means[::-1]))\n",
    "    print(cls,\"该属性stdevs: {}\".format(stdevs[::-1]))\n",
    "    print(cls,':','transforms.Normalize(mean = {}, std = {})'.format(means[::-1], stdevs[::-1]))\n",
    "    print()"
   ]
  },
  {
   "cell_type": "code",
   "execution_count": null,
   "metadata": {
    "ExecuteTime": {
     "end_time": "2018-04-09T17:50:51.729196Z",
     "start_time": "2018-04-09T13:52:58.211210Z"
    },
    "collapsed": true
   },
   "outputs": [],
   "source": [
    "#计算所有属性的平均means和std\n",
    "# Ideally we shouldn't be resizing but I'm lacking memory\n",
    "df_train = pd.read_csv('../train/Annotations/train.csv')\n",
    "df_load = df_train.copy()\n",
    "df_load.columns = ['image_id', 'class', 'label']\n",
    "df_load.reset_index(inplace= True,drop=True)\n",
    "\n",
    "n = len(df_load)\n",
    "X = np.zeros((n, RESOLUTION, RESOLUTION, 3), dtype='float32')\n",
    "\n",
    "\n",
    "for i in range(n):\n",
    "    X[i] = cv2.resize(cv2.imread('../train/{0}'.format(df_load['image_id'][i])), (RESOLUTION, RESOLUTION))/255.\n",
    "    #if i == 100:\n",
    "    #    print(X[i])\n",
    "#train_images = df_load['image_id'].tolist()\n",
    "# for file in tqdm(train_images, miniters=256):\n",
    "#     #print(file)\n",
    "#     train_img_name = os.path.join('../train/',file)\n",
    "#     img = cv2.imread(train_img_name)\n",
    "#     data.append(cv2.resize(img,(RESOLUTION,RESOLUTION)))\n",
    "#data = np.array(data, np.float32) / 255 # Must use float32 at least otherwise we get over float16 limits\n",
    "#XX = torch.from_numpy(X)\n",
    "means =  []\n",
    "stdevs = []\n",
    "for i in range(3):\n",
    "    pixels = X[:,:,:,i].ravel()\n",
    "    means.append(np.mean(pixels))\n",
    "    stdevs.append(np.std(pixels))\n",
    "print(\"Shape: \", X.shape)\n",
    "print(\"8种属性总的means: {}\".format(means[::-1])) #RGB\n",
    "print(\"8种属性总的stdevs: {}\".format(stdevs[::-1]))#RGB\n",
    "print('transforms.Normalize(mean = {}, std = {})'.format(means[::-1], stdevs[::-1]))\n"
   ]
  },
  {
   "cell_type": "code",
   "execution_count": null,
   "metadata": {
    "collapsed": true
   },
   "outputs": [],
   "source": []
  }
 ],
 "metadata": {
  "kernelspec": {
   "display_name": "Python 3",
   "language": "python",
   "name": "python3"
  },
  "language_info": {
   "codemirror_mode": {
    "name": "ipython",
    "version": 3
   },
   "file_extension": ".py",
   "mimetype": "text/x-python",
   "name": "python",
   "nbconvert_exporter": "python",
   "pygments_lexer": "ipython3",
   "version": "3.6.2"
  }
 },
 "nbformat": 4,
 "nbformat_minor": 2
}
