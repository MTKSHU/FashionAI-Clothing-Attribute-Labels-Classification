{
 "cells": [
  {
   "cell_type": "code",
   "execution_count": 1,
   "metadata": {
    "ExecuteTime": {
     "end_time": "2018-04-20T06:25:58.359452Z",
     "start_time": "2018-04-20T06:25:53.078674Z"
    }
   },
   "outputs": [
    {
     "name": "stderr",
     "output_type": "stream",
     "text": [
      "Using TensorFlow backend.\n"
     ]
    }
   ],
   "source": [
    "import os\n",
    "os.environ['CUDA_VISIBLE_DEVICES'] = '2'\n",
    "n_gpus = len(os.environ['CUDA_VISIBLE_DEVICES'].split(','))\n",
    "model_name = 'ception_8classifier_trained'\n",
    "\n",
    "trainval_split_ratio = 0.88\n",
    "train_batch_size =16\n",
    "\n",
    "import keras.backend as K\n",
    "import tensorflow as tf\n",
    "\n",
    "# gpu_options = tf.GPUOptions(per_process_gpu_memory_fraction=0.7)\n",
    "# sess = tf.Session(config=tf.ConfigProto(gpu_options=gpu_options))"
   ]
  },
  {
   "cell_type": "markdown",
   "metadata": {},
   "source": [
    "# 导入必要的库"
   ]
  },
  {
   "cell_type": "code",
   "execution_count": 2,
   "metadata": {
    "ExecuteTime": {
     "end_time": "2018-04-20T06:25:59.308967Z",
     "start_time": "2018-04-20T06:25:58.362614Z"
    }
   },
   "outputs": [],
   "source": [
    "import numpy as np\n",
    "import pandas as pd\n",
    "from keras.layers import *\n",
    "from keras.models import *\n",
    "from keras.optimizers import *\n",
    "from keras.applications import *\n",
    "from keras.regularizers import l2\n",
    "\n",
    "from keras.preprocessing.image import *\n",
    "\n",
    "import matplotlib.pyplot as plt\n",
    "import random\n",
    "import os\n",
    "import cv2\n",
    "from tqdm import tqdm\n",
    "from glob import glob\n",
    "import multiprocessing\n",
    "\n",
    "from sklearn.model_selection import train_test_split\n",
    "from collections import Counter\n",
    "from keras import backend as K\n",
    "from keras.utils import multi_gpu_model\n",
    "\n",
    "from IPython.display import display, Image\n",
    "\n",
    "%matplotlib inline\n",
    "%config InlineBackend.figure_format = 'retina'"
   ]
  },
  {
   "cell_type": "markdown",
   "metadata": {},
   "source": [
    "# 读取数据集"
   ]
  },
  {
   "cell_type": "code",
   "execution_count": 3,
   "metadata": {
    "ExecuteTime": {
     "end_time": "2018-04-20T06:25:59.755906Z",
     "start_time": "2018-04-20T06:25:59.313431Z"
    }
   },
   "outputs": [
    {
     "data": {
      "text/html": [
       "<div>\n",
       "<style scoped>\n",
       "    .dataframe tbody tr th:only-of-type {\n",
       "        vertical-align: middle;\n",
       "    }\n",
       "\n",
       "    .dataframe tbody tr th {\n",
       "        vertical-align: top;\n",
       "    }\n",
       "\n",
       "    .dataframe thead th {\n",
       "        text-align: right;\n",
       "    }\n",
       "</style>\n",
       "<table border=\"1\" class=\"dataframe\">\n",
       "  <thead>\n",
       "    <tr style=\"text-align: right;\">\n",
       "      <th></th>\n",
       "      <th>filename</th>\n",
       "      <th>label_name</th>\n",
       "      <th>label</th>\n",
       "    </tr>\n",
       "  </thead>\n",
       "  <tbody>\n",
       "    <tr>\n",
       "      <th>0</th>\n",
       "      <td>Images/collar_design_labels/c120f26a3dbfaeb602...</td>\n",
       "      <td>collar_design</td>\n",
       "      <td>ynnnn</td>\n",
       "    </tr>\n",
       "    <tr>\n",
       "      <th>1</th>\n",
       "      <td>Images/coat_length_labels/2eafe3fabc96c20f6eb9...</td>\n",
       "      <td>coat_length</td>\n",
       "      <td>nnnnnnyn</td>\n",
       "    </tr>\n",
       "    <tr>\n",
       "      <th>2</th>\n",
       "      <td>Images/skirt_length_labels/2db264dcce17ab2e332...</td>\n",
       "      <td>skirt_length</td>\n",
       "      <td>nynnnn</td>\n",
       "    </tr>\n",
       "    <tr>\n",
       "      <th>3</th>\n",
       "      <td>Images/lapel_design_labels/63e18c4274595aa011d...</td>\n",
       "      <td>lapel_design</td>\n",
       "      <td>nnynn</td>\n",
       "    </tr>\n",
       "    <tr>\n",
       "      <th>4</th>\n",
       "      <td>Images/lapel_design_labels/5aeb6e3a5dd7704f93d...</td>\n",
       "      <td>lapel_design</td>\n",
       "      <td>nnnny</td>\n",
       "    </tr>\n",
       "  </tbody>\n",
       "</table>\n",
       "</div>"
      ],
      "text/plain": [
       "                                            filename     label_name     label\n",
       "0  Images/collar_design_labels/c120f26a3dbfaeb602...  collar_design     ynnnn\n",
       "1  Images/coat_length_labels/2eafe3fabc96c20f6eb9...    coat_length  nnnnnnyn\n",
       "2  Images/skirt_length_labels/2db264dcce17ab2e332...   skirt_length    nynnnn\n",
       "3  Images/lapel_design_labels/63e18c4274595aa011d...   lapel_design     nnynn\n",
       "4  Images/lapel_design_labels/5aeb6e3a5dd7704f93d...   lapel_design     nnnny"
      ]
     },
     "metadata": {},
     "output_type": "display_data"
    },
    {
     "data": {
      "text/plain": [
       "Counter({'coat_length': 11320,\n",
       "         'collar_design': 8393,\n",
       "         'lapel_design': 7034,\n",
       "         'neck_design': 5696,\n",
       "         'neckline_design': 17148,\n",
       "         'pant_length': 7460,\n",
       "         'skirt_length': 19333,\n",
       "         'sleeve_length': 13299})"
      ]
     },
     "execution_count": 3,
     "metadata": {},
     "output_type": "execute_result"
    }
   ],
   "source": [
    "df = pd.read_csv('../train/Annotations/train.csv', header=None)\n",
    "df.columns = ['filename', 'label_name', 'label']\n",
    "df = df.sample(frac=1).reset_index(drop=True) # shuffle\n",
    "\n",
    "df.label_name = df.label_name.str.replace('_labels', '')\n",
    "\n",
    "display(df.head())\n",
    "c = Counter(df.label_name)\n",
    "c"
   ]
  },
  {
   "cell_type": "code",
   "execution_count": 4,
   "metadata": {
    "ExecuteTime": {
     "end_time": "2018-04-20T06:25:59.865178Z",
     "start_time": "2018-04-20T06:25:59.758928Z"
    },
    "code_folding": []
   },
   "outputs": [
    {
     "data": {
      "text/plain": [
       "{'coat_length': 8,\n",
       " 'collar_design': 5,\n",
       " 'lapel_design': 5,\n",
       " 'neck_design': 5,\n",
       " 'neckline_design': 10,\n",
       " 'pant_length': 6,\n",
       " 'skirt_length': 6,\n",
       " 'sleeve_length': 9}"
      ]
     },
     "metadata": {},
     "output_type": "display_data"
    }
   ],
   "source": [
    "label_count = dict([(x, len(df[df.label_name == x].label.values[0])) for x in c.keys()])\n",
    "label_names = list(label_count.keys())\n",
    "display(label_count)"
   ]
  },
  {
   "cell_type": "markdown",
   "metadata": {},
   "source": [
    "## 生成 y"
   ]
  },
  {
   "cell_type": "code",
   "execution_count": 5,
   "metadata": {
    "ExecuteTime": {
     "end_time": "2018-04-20T06:26:04.912674Z",
     "start_time": "2018-04-20T06:25:59.870514Z"
    }
   },
   "outputs": [],
   "source": [
    "fnames = df['filename'].values\n",
    "#width = 331\n",
    "width = 299\n",
    "n = len(df)\n",
    "y = [np.zeros((n, label_count[x])) for x in label_count.keys()]\n",
    "for i in range(n):\n",
    "    label_name = df.label_name[i]\n",
    "    label = df.label[i]\n",
    "    y[label_names.index(label_name)][i, label.find('y')] = 1"
   ]
  },
  {
   "cell_type": "markdown",
   "metadata": {},
   "source": [
    "## 读取图片"
   ]
  },
  {
   "cell_type": "code",
   "execution_count": 6,
   "metadata": {
    "ExecuteTime": {
     "end_time": "2018-04-20T06:29:21.200306Z",
     "start_time": "2018-04-20T06:26:04.915641Z"
    },
    "code_folding": []
   },
   "outputs": [
    {
     "name": "stderr",
     "output_type": "stream",
     "text": [
      "100%|██████████| 89683/89683 [03:15<00:00, 458.01it/s]\n"
     ]
    }
   ],
   "source": [
    "def f(index):\n",
    "    return index, cv2.resize(cv2.imread('../train/'+fnames[index]), (width, width))\n",
    "\n",
    "X = np.zeros((n, width, width, 3), dtype=np.uint8)\n",
    "with multiprocessing.Pool(30) as pool:\n",
    "    with tqdm(pool.imap_unordered(f, range(n)), total=n) as pbar:\n",
    "        for i, img in pbar:\n",
    "            X[i] = img[:,:,::-1]"
   ]
  },
  {
   "cell_type": "code",
   "execution_count": 7,
   "metadata": {
    "ExecuteTime": {
     "end_time": "2018-04-20T06:29:21.210485Z",
     "start_time": "2018-04-20T06:29:21.203176Z"
    }
   },
   "outputs": [],
   "source": [
    "n_train = int(n*trainval_split_ratio)\n",
    "\n",
    "X_train = X[:n_train]\n",
    "X_valid = X[n_train:]\n",
    "y_train = [x[:n_train] for x in y]\n",
    "y_valid = [x[n_train:] for x in y]"
   ]
  },
  {
   "cell_type": "code",
   "execution_count": 8,
   "metadata": {
    "ExecuteTime": {
     "end_time": "2018-04-20T06:29:21.312912Z",
     "start_time": "2018-04-20T06:29:21.212962Z"
    }
   },
   "outputs": [],
   "source": [
    "def display_images(imgs, w=8, h=4, figsize=(24, 12)):\n",
    "    plt.figure(figsize=figsize)\n",
    "    for i in range(w*h):\n",
    "        plt.subplot(h, w, i+1)\n",
    "        plt.imshow(imgs[i])"
   ]
  },
  {
   "cell_type": "code",
   "execution_count": 9,
   "metadata": {
    "ExecuteTime": {
     "end_time": "2018-04-20T06:29:21.404634Z",
     "start_time": "2018-04-20T06:29:21.315653Z"
    }
   },
   "outputs": [],
   "source": [
    "class Generator():\n",
    "    def __init__(self, X, y, batch_size=32, aug=False):\n",
    "        def generator():\n",
    "            idg = ImageDataGenerator(horizontal_flip=True,\n",
    "                                     rotation_range=20,\n",
    "                                     zoom_range=0.15)\n",
    "            while True:\n",
    "                for i in range(0, len(X), batch_size):\n",
    "                    X_batch = X[i:i+batch_size].copy()\n",
    "                    y_barch = [x[i:i+batch_size] for x in y]\n",
    "                    if aug:\n",
    "                        for j in range(len(X_batch)):\n",
    "                            X_batch[j] = idg.random_transform(X_batch[j])\n",
    "                    yield X_batch, y_barch\n",
    "        self.generator = generator()\n",
    "        self.steps = len(X) // batch_size + 1"
   ]
  },
  {
   "cell_type": "code",
   "execution_count": 10,
   "metadata": {
    "ExecuteTime": {
     "end_time": "2018-04-20T06:29:21.577755Z",
     "start_time": "2018-04-20T06:29:21.407377Z"
    }
   },
   "outputs": [],
   "source": [
    "gen_train = Generator(X_train, y_train, batch_size=train_batch_size, aug=True)"
   ]
  },
  {
   "cell_type": "markdown",
   "metadata": {},
   "source": [
    "# 数据集探索\n",
    "\n",
    "## 类别分布"
   ]
  },
  {
   "cell_type": "code",
   "execution_count": 11,
   "metadata": {
    "ExecuteTime": {
     "end_time": "2018-04-20T06:29:21.763266Z",
     "start_time": "2018-04-20T06:29:21.579640Z"
    }
   },
   "outputs": [],
   "source": [
    "# plt.figure(figsize=(26, 14))\n",
    "# for i in range(8):\n",
    "#     plt.subplot(2, 4, i+1)\n",
    "#     counts = Counter(y[i].argmax(axis=-1)[np.where(y[i].any(axis=-1))])\n",
    "#     pd.Series(counts).plot('bar')"
   ]
  },
  {
   "cell_type": "markdown",
   "metadata": {},
   "source": [
    "### 抽样可视化"
   ]
  },
  {
   "cell_type": "code",
   "execution_count": 12,
   "metadata": {
    "ExecuteTime": {
     "end_time": "2018-04-20T06:29:21.870097Z",
     "start_time": "2018-04-20T06:29:21.765715Z"
    }
   },
   "outputs": [],
   "source": [
    "# plt.figure(figsize=(26, 14))\n",
    "# w = 8\n",
    "# h = 4\n",
    "# for i in range(w*h):\n",
    "#     plt.subplot(h, w, i+1)\n",
    "#     index = np.random.randint(n)\n",
    "#     plt.title(str([y[x][index].argmax() if y[x][index].any() else -1 for x in range(8) ]))\n",
    "#     plt.imshow(X[index])\n",
    "#     plt.axis('off')"
   ]
  },
  {
   "cell_type": "markdown",
   "metadata": {},
   "source": [
    "# 搭建模型并训练\n",
    "\n",
    "## 搭建模型"
   ]
  },
  {
   "cell_type": "code",
   "execution_count": 13,
   "metadata": {
    "ExecuteTime": {
     "end_time": "2018-04-20T06:29:22.005203Z",
     "start_time": "2018-04-20T06:29:21.872304Z"
    }
   },
   "outputs": [],
   "source": [
    "def acc(y_true, y_pred):\n",
    "    index = tf.reduce_any(y_true > 0.5, axis=-1)\n",
    "    res = tf.equal(tf.argmax(y_true, axis=-1), tf.argmax(y_pred, axis=-1))\n",
    "    index = tf.cast(index, tf.float32)\n",
    "    res = tf.cast(res, tf.float32)\n",
    "    return tf.reduce_sum(res * index) / (tf.reduce_sum(index) + 1e-7)"
   ]
  },
  {
   "cell_type": "code",
   "execution_count": 14,
   "metadata": {
    "ExecuteTime": {
     "end_time": "2018-04-20T06:30:31.234236Z",
     "start_time": "2018-04-20T06:29:22.021488Z"
    }
   },
   "outputs": [],
   "source": [
    "base_model = InceptionResNetV2(weights='imagenet', input_shape=(width, width, 3), include_top=False, pooling='avg')\n",
    "#InceptionResNetV2,Xception\n",
    "input_tensor = Input((width, width, 3))\n",
    "x = input_tensor\n",
    "x = Lambda(nasnet.preprocess_input)(x)\n",
    "x = base_model(x)\n",
    "x = Dropout(0.5)(x)\n",
    "x = [Dense(count, activation='softmax', name=name)(x) for name, count in label_count.items()]\n",
    "\n",
    "model = Model(input_tensor, x)\n",
    "model.compile(optimizer='adam', loss='categorical_crossentropy', metrics=['acc'])\n",
    "\n",
    "from IPython.display import SVG\n",
    "#from keras.utils.vis_utils import model_to_dot, plot_model\n",
    "\n",
    "#plot_model(model, show_shapes=True, to_file='model_simple.png')\n",
    "#SVG(model_to_dot(model, show_shapes=True).create(prog='dot', format='svg'))"
   ]
  },
  {
   "cell_type": "code",
   "execution_count": 15,
   "metadata": {
    "ExecuteTime": {
     "end_time": "2018-04-20T06:30:31.254231Z",
     "start_time": "2018-04-20T06:30:31.236326Z"
    }
   },
   "outputs": [],
   "source": [
    "#model2 = multi_gpu_model(model, n_gpus)\n",
    "model2 = model"
   ]
  },
  {
   "cell_type": "code",
   "execution_count": 16,
   "metadata": {
    "ExecuteTime": {
     "end_time": "2018-04-20T06:30:31.405042Z",
     "start_time": "2018-04-20T06:30:31.256896Z"
    }
   },
   "outputs": [],
   "source": [
    "opt = SGD(1e-2, momentum=0.9, nesterov=True, decay=0.01/40)"
   ]
  },
  {
   "cell_type": "code",
   "execution_count": 17,
   "metadata": {
    "ExecuteTime": {
     "end_time": "2018-04-20T09:20:47.662966Z",
     "start_time": "2018-04-20T06:30:31.407071Z"
    }
   },
   "outputs": [
    {
     "name": "stdout",
     "output_type": "stream",
     "text": [
      "Epoch 1/4\n",
      "5317/5317 [==============================] - 2388s 449ms/step - loss: 0.9098 - collar_design_loss: 0.0866 - coat_length_loss: 0.1155 - skirt_length_loss: 0.1398 - lapel_design_loss: 0.0704 - sleeve_length_loss: 0.1423 - neck_design_loss: 0.0722 - neckline_design_loss: 0.2223 - pant_length_loss: 0.0607 - collar_design_acc: 0.4753 - coat_length_acc: 0.5541 - skirt_length_acc: 0.7397 - lapel_design_acc: 0.4404 - sleeve_length_acc: 0.5716 - neck_design_acc: 0.3199 - neckline_design_acc: 0.5570 - pant_length_acc: 0.5072 - val_loss: 0.5492 - val_collar_design_loss: 0.0655 - val_coat_length_loss: 0.0655 - val_skirt_length_loss: 0.0856 - val_lapel_design_loss: 0.0379 - val_sleeve_length_loss: 0.0714 - val_neck_design_loss: 0.0529 - val_neckline_design_loss: 0.1303 - val_pant_length_loss: 0.0401 - val_collar_design_acc: 0.5347 - val_coat_length_acc: 0.6402 - val_skirt_length_acc: 0.8196 - val_lapel_design_acc: 0.5286 - val_sleeve_length_acc: 0.6813 - val_neck_design_acc: 0.3749 - val_neckline_design_acc: 0.7170 - val_pant_length_acc: 0.5298\n",
      "Epoch 2/4\n",
      "5317/5317 [==============================] - 2615s 492ms/step - loss: 0.5135 - collar_design_loss: 0.0524 - coat_length_loss: 0.0704 - skirt_length_loss: 0.0772 - lapel_design_loss: 0.0383 - sleeve_length_loss: 0.0747 - neck_design_loss: 0.0456 - neckline_design_loss: 0.1193 - pant_length_loss: 0.0357 - collar_design_acc: 0.5881 - coat_length_acc: 0.6769 - skirt_length_acc: 0.8447 - lapel_design_acc: 0.5581 - sleeve_length_acc: 0.7310 - neck_design_acc: 0.4345 - neckline_design_acc: 0.7459 - pant_length_acc: 0.5881 - val_loss: 0.4653 - val_collar_design_loss: 0.0487 - val_coat_length_loss: 0.0566 - val_skirt_length_loss: 0.0676 - val_lapel_design_loss: 0.0351 - val_sleeve_length_loss: 0.0642 - val_neck_design_loss: 0.0481 - val_neckline_design_loss: 0.1108 - val_pant_length_loss: 0.0340 - val_collar_design_acc: 0.5784 - val_coat_length_acc: 0.6611 - val_skirt_length_acc: 0.8558 - val_lapel_design_acc: 0.5305 - val_sleeve_length_acc: 0.6851 - val_neck_design_acc: 0.3927 - val_neckline_design_acc: 0.7474 - val_pant_length_acc: 0.5442\n",
      "Epoch 3/4\n",
      "5317/5317 [==============================] - 2562s 482ms/step - loss: 0.3794 - collar_design_loss: 0.0388 - coat_length_loss: 0.0519 - skirt_length_loss: 0.0574 - lapel_design_loss: 0.0262 - sleeve_length_loss: 0.0548 - neck_design_loss: 0.0348 - neckline_design_loss: 0.0884 - pant_length_loss: 0.0271 - collar_design_acc: 0.6255 - coat_length_acc: 0.7271 - skirt_length_acc: 0.8763 - lapel_design_acc: 0.5981 - sleeve_length_acc: 0.7816 - neck_design_acc: 0.4772 - neckline_design_acc: 0.8012 - pant_length_acc: 0.6127 - val_loss: 0.4268 - val_collar_design_loss: 0.0468 - val_coat_length_loss: 0.0528 - val_skirt_length_loss: 0.0600 - val_lapel_design_loss: 0.0286 - val_sleeve_length_loss: 0.0590 - val_neck_design_loss: 0.0408 - val_neckline_design_loss: 0.1013 - val_pant_length_loss: 0.0374 - val_collar_design_acc: 0.5912 - val_coat_length_acc: 0.6765 - val_skirt_length_acc: 0.8666 - val_lapel_design_acc: 0.5509 - val_sleeve_length_acc: 0.7013 - val_neck_design_acc: 0.4211 - val_neckline_design_acc: 0.7682 - val_pant_length_acc: 0.5331\n",
      "Epoch 4/4\n",
      "5317/5317 [==============================] - 2635s 495ms/step - loss: 0.2896 - collar_design_loss: 0.0307 - coat_length_loss: 0.0402 - skirt_length_loss: 0.0412 - lapel_design_loss: 0.0195 - sleeve_length_loss: 0.0406 - neck_design_loss: 0.0280 - neckline_design_loss: 0.0681 - pant_length_loss: 0.0214 - collar_design_acc: 0.6563 - coat_length_acc: 0.7511 - skirt_length_acc: 0.9040 - lapel_design_acc: 0.6177 - sleeve_length_acc: 0.8117 - neck_design_acc: 0.5041 - neckline_design_acc: 0.8367 - pant_length_acc: 0.6333 - val_loss: 0.4067 - val_collar_design_loss: 0.0412 - val_coat_length_loss: 0.0502 - val_skirt_length_loss: 0.0524 - val_lapel_design_loss: 0.0255 - val_sleeve_length_loss: 0.0585 - val_neck_design_loss: 0.0408 - val_neckline_design_loss: 0.1039 - val_pant_length_loss: 0.0342 - val_collar_design_acc: 0.6005 - val_coat_length_acc: 0.6826 - val_skirt_length_acc: 0.8708 - val_lapel_design_acc: 0.5610 - val_sleeve_length_acc: 0.7099 - val_neck_design_acc: 0.4171 - val_neckline_design_acc: 0.7758 - val_pant_length_acc: 0.5473\n"
     ]
    },
    {
     "data": {
      "text/plain": [
       "<keras.callbacks.History at 0x7fc660e4cef0>"
      ]
     },
     "execution_count": 17,
     "metadata": {},
     "output_type": "execute_result"
    }
   ],
   "source": [
    "model2.compile(optimizer=opt, loss='categorical_crossentropy', metrics=[acc])\n",
    "model2.fit_generator(gen_train.generator, steps_per_epoch=gen_train.steps, epochs=4, validation_data=(X_valid, y_valid))"
   ]
  },
  {
   "cell_type": "code",
   "execution_count": 18,
   "metadata": {
    "ExecuteTime": {
     "end_time": "2018-04-20T10:42:50.882819Z",
     "start_time": "2018-04-20T09:20:47.670094Z"
    },
    "scrolled": false
   },
   "outputs": [
    {
     "name": "stdout",
     "output_type": "stream",
     "text": [
      "Epoch 1/2\n",
      "5317/5317 [==============================] - 2461s 463ms/step - loss: 0.4188 - collar_design_loss: 0.0419 - coat_length_loss: 0.0583 - skirt_length_loss: 0.0663 - lapel_design_loss: 0.0299 - sleeve_length_loss: 0.0607 - neck_design_loss: 0.0363 - neckline_design_loss: 0.0952 - pant_length_loss: 0.0302 - collar_design_acc: 0.6192 - coat_length_acc: 0.7083 - skirt_length_acc: 0.8621 - lapel_design_acc: 0.5862 - sleeve_length_acc: 0.7659 - neck_design_acc: 0.4709 - neckline_design_acc: 0.7882 - pant_length_acc: 0.6042 - val_loss: 0.4551 - val_collar_design_loss: 0.0458 - val_coat_length_loss: 0.0551 - val_skirt_length_loss: 0.0723 - val_lapel_design_loss: 0.0321 - val_sleeve_length_loss: 0.0659 - val_neck_design_loss: 0.0399 - val_neckline_design_loss: 0.1032 - val_pant_length_loss: 0.0408 - val_collar_design_acc: 0.6444 - val_coat_length_acc: 0.6901 - val_skirt_length_acc: 0.8610 - val_lapel_design_acc: 0.5950 - val_sleeve_length_acc: 0.7223 - val_neck_design_acc: 0.4518 - val_neckline_design_acc: 0.7877 - val_pant_length_acc: 0.5759\n",
      "Epoch 2/2\n",
      "5317/5317 [==============================] - 2438s 459ms/step - loss: 0.3658 - collar_design_loss: 0.0358 - coat_length_loss: 0.0520 - skirt_length_loss: 0.0592 - lapel_design_loss: 0.0251 - sleeve_length_loss: 0.0529 - neck_design_loss: 0.0311 - neckline_design_loss: 0.0824 - pant_length_loss: 0.0273 - collar_design_acc: 0.6360 - coat_length_acc: 0.7218 - skirt_length_acc: 0.8715 - lapel_design_acc: 0.5985 - sleeve_length_acc: 0.7830 - neck_design_acc: 0.4926 - neckline_design_acc: 0.8086 - pant_length_acc: 0.6127 - val_loss: 0.4567 - val_collar_design_loss: 0.0464 - val_coat_length_loss: 0.0587 - val_skirt_length_loss: 0.0666 - val_lapel_design_loss: 0.0316 - val_sleeve_length_loss: 0.0661 - val_neck_design_loss: 0.0441 - val_neckline_design_loss: 0.1115 - val_pant_length_loss: 0.0315 - val_collar_design_acc: 0.6390 - val_coat_length_acc: 0.6890 - val_skirt_length_acc: 0.8741 - val_lapel_design_acc: 0.5961 - val_sleeve_length_acc: 0.7327 - val_neck_design_acc: 0.4597 - val_neckline_design_acc: 0.7769 - val_pant_length_acc: 0.5992\n"
     ]
    },
    {
     "data": {
      "text/plain": [
       "<keras.callbacks.History at 0x7fc660e4c3c8>"
      ]
     },
     "execution_count": 18,
     "metadata": {},
     "output_type": "execute_result"
    }
   ],
   "source": [
    "model2.compile(optimizer=Adam(1e-4), loss='categorical_crossentropy', metrics=[acc])\n",
    "model2.fit_generator(gen_train.generator, steps_per_epoch=gen_train.steps, epochs=2, validation_data=(X_valid, y_valid))"
   ]
  },
  {
   "cell_type": "code",
   "execution_count": 19,
   "metadata": {
    "ExecuteTime": {
     "end_time": "2018-04-20T12:46:57.854022Z",
     "start_time": "2018-04-20T10:42:50.885302Z"
    }
   },
   "outputs": [
    {
     "name": "stdout",
     "output_type": "stream",
     "text": [
      "Epoch 1/3\n",
      "5317/5317 [==============================] - 2476s 466ms/step - loss: 0.2155 - collar_design_loss: 0.0219 - coat_length_loss: 0.0309 - skirt_length_loss: 0.0311 - lapel_design_loss: 0.0137 - sleeve_length_loss: 0.0301 - neck_design_loss: 0.0192 - neckline_design_loss: 0.0521 - pant_length_loss: 0.0165 - collar_design_acc: 0.6841 - coat_length_acc: 0.7773 - skirt_length_acc: 0.9198 - lapel_design_acc: 0.6377 - sleeve_length_acc: 0.8372 - neck_design_acc: 0.5302 - neckline_design_acc: 0.8614 - pant_length_acc: 0.6509 - val_loss: 0.3674 - val_collar_design_loss: 0.0440 - val_coat_length_loss: 0.0511 - val_skirt_length_loss: 0.0455 - val_lapel_design_loss: 0.0239 - val_sleeve_length_loss: 0.0496 - val_neck_design_loss: 0.0341 - val_neckline_design_loss: 0.0919 - val_pant_length_loss: 0.0274 - val_collar_design_acc: 0.6594 - val_coat_length_acc: 0.7103 - val_skirt_length_acc: 0.9024 - val_lapel_design_acc: 0.6118 - val_sleeve_length_acc: 0.7688 - val_neck_design_acc: 0.4907 - val_neckline_design_acc: 0.8212 - val_pant_length_acc: 0.6188\n",
      "Epoch 2/3\n",
      "5317/5317 [==============================] - 2477s 466ms/step - loss: 0.1587 - collar_design_loss: 0.0169 - coat_length_loss: 0.0215 - skirt_length_loss: 0.0208 - lapel_design_loss: 0.0098 - sleeve_length_loss: 0.0228 - neck_design_loss: 0.0149 - neckline_design_loss: 0.0399 - pant_length_loss: 0.0123 - collar_design_acc: 0.6956 - coat_length_acc: 0.8039 - skirt_length_acc: 0.9350 - lapel_design_acc: 0.6502 - sleeve_length_acc: 0.8511 - neck_design_acc: 0.5477 - neckline_design_acc: 0.8866 - pant_length_acc: 0.6612 - val_loss: 0.3744 - val_collar_design_loss: 0.0437 - val_coat_length_loss: 0.0521 - val_skirt_length_loss: 0.0435 - val_lapel_design_loss: 0.0244 - val_sleeve_length_loss: 0.0516 - val_neck_design_loss: 0.0350 - val_neckline_design_loss: 0.0962 - val_pant_length_loss: 0.0280 - val_collar_design_acc: 0.6589 - val_coat_length_acc: 0.7130 - val_skirt_length_acc: 0.9087 - val_lapel_design_acc: 0.6148 - val_sleeve_length_acc: 0.7710 - val_neck_design_acc: 0.4942 - val_neckline_design_acc: 0.8140 - val_pant_length_acc: 0.6203\n",
      "Epoch 3/3\n",
      "5317/5317 [==============================] - 2470s 464ms/step - loss: 0.1327 - collar_design_loss: 0.0130 - coat_length_loss: 0.0188 - skirt_length_loss: 0.0176 - lapel_design_loss: 0.0073 - sleeve_length_loss: 0.0183 - neck_design_loss: 0.0120 - neckline_design_loss: 0.0349 - pant_length_loss: 0.0107 - collar_design_acc: 0.7031 - coat_length_acc: 0.8091 - skirt_length_acc: 0.9438 - lapel_design_acc: 0.6580 - sleeve_length_acc: 0.8610 - neck_design_acc: 0.5538 - neckline_design_acc: 0.8919 - pant_length_acc: 0.6696 - val_loss: 0.3789 - val_collar_design_loss: 0.0451 - val_coat_length_loss: 0.0544 - val_skirt_length_loss: 0.0414 - val_lapel_design_loss: 0.0241 - val_sleeve_length_loss: 0.0534 - val_neck_design_loss: 0.0362 - val_neckline_design_loss: 0.0966 - val_pant_length_loss: 0.0277 - val_collar_design_acc: 0.6548 - val_coat_length_acc: 0.7067 - val_skirt_length_acc: 0.9119 - val_lapel_design_acc: 0.6180 - val_sleeve_length_acc: 0.7714 - val_neck_design_acc: 0.4923 - val_neckline_design_acc: 0.8221 - val_pant_length_acc: 0.6214\n"
     ]
    },
    {
     "data": {
      "text/plain": [
       "<keras.callbacks.History at 0x7fc62fd03c50>"
      ]
     },
     "execution_count": 19,
     "metadata": {},
     "output_type": "execute_result"
    }
   ],
   "source": [
    "model2.compile(optimizer=Adam(1e-5), loss='categorical_crossentropy', metrics=[acc])\n",
    "model2.fit_generator(gen_train.generator, steps_per_epoch=gen_train.steps, epochs=3, validation_data=(X_valid, y_valid))"
   ]
  },
  {
   "cell_type": "code",
   "execution_count": 20,
   "metadata": {
    "ExecuteTime": {
     "end_time": "2018-04-20T13:28:39.618798Z",
     "start_time": "2018-04-20T12:46:57.857404Z"
    }
   },
   "outputs": [
    {
     "name": "stdout",
     "output_type": "stream",
     "text": [
      "Epoch 1/1\n",
      "5317/5317 [==============================] - 2476s 466ms/step - loss: 0.1037 - collar_design_loss: 0.0102 - coat_length_loss: 0.0137 - skirt_length_loss: 0.0129 - lapel_design_loss: 0.0055 - sleeve_length_loss: 0.0147 - neck_design_loss: 0.0100 - neckline_design_loss: 0.0286 - pant_length_loss: 0.0082 - collar_design_acc: 0.7167 - coat_length_acc: 0.8227 - skirt_length_acc: 0.9499 - lapel_design_acc: 0.6649 - sleeve_length_acc: 0.8710 - neck_design_acc: 0.5655 - neckline_design_acc: 0.9016 - pant_length_acc: 0.6772 - val_loss: 0.3744 - val_collar_design_loss: 0.0448 - val_coat_length_loss: 0.0545 - val_skirt_length_loss: 0.0397 - val_lapel_design_loss: 0.0241 - val_sleeve_length_loss: 0.0518 - val_neck_design_loss: 0.0363 - val_neckline_design_loss: 0.0961 - val_pant_length_loss: 0.0270 - val_collar_design_acc: 0.6553 - val_coat_length_acc: 0.7101 - val_skirt_length_acc: 0.9174 - val_lapel_design_acc: 0.6226 - val_sleeve_length_acc: 0.7744 - val_neck_design_acc: 0.4909 - val_neckline_design_acc: 0.8268 - val_pant_length_acc: 0.6220\n"
     ]
    },
    {
     "data": {
      "text/plain": [
       "<keras.callbacks.History at 0x7fc5f31237f0>"
      ]
     },
     "execution_count": 20,
     "metadata": {},
     "output_type": "execute_result"
    }
   ],
   "source": [
    "model2.compile(optimizer=Adam(1e-6), loss='categorical_crossentropy', metrics=[acc])\n",
    "model2.fit_generator(gen_train.generator, steps_per_epoch=gen_train.steps, epochs=1, validation_data=(X_valid, y_valid))"
   ]
  },
  {
   "cell_type": "markdown",
   "metadata": {},
   "source": [
    "# 计算验证集准确率"
   ]
  },
  {
   "cell_type": "code",
   "execution_count": 21,
   "metadata": {
    "ExecuteTime": {
     "end_time": "2018-04-20T13:29:00.656746Z",
     "start_time": "2018-04-20T13:28:39.622013Z"
    }
   },
   "outputs": [],
   "source": [
    "model.save('B_model_%s.h5' % model_name)"
   ]
  },
  {
   "cell_type": "code",
   "execution_count": 22,
   "metadata": {
    "ExecuteTime": {
     "end_time": "2018-04-20T13:31:50.198068Z",
     "start_time": "2018-04-20T13:29:00.661259Z"
    }
   },
   "outputs": [
    {
     "name": "stdout",
     "output_type": "stream",
     "text": [
      "15247/15247 [==============================] - 169s 11ms/step\n",
      "collar_design 0.860259032038\n",
      "coat_length 0.86307277628\n",
      "skirt_length 0.946342925659\n",
      "lapel_design 0.906688687036\n",
      "sleeve_length 0.885052248978\n",
      "neck_design 0.821503131524\n",
      "neckline_design 0.866824805151\n",
      "pant_length 0.892744479495\n"
     ]
    }
   ],
   "source": [
    "y_pred = model2.predict(X_valid, batch_size=128, verbose=1)\n",
    "a = np.array([x.any(axis=-1) for x in y_valid]).T.astype('uint8')\n",
    "b = [np.where((a == np.eye(8)[x]).all(axis=-1))[0] for x in range(8)]\n",
    "for c in range(8):\n",
    "    y_pred2 = y_pred[c][b[c]].argmax(axis=-1)\n",
    "    y_true2 = y_valid[c][b[c]].argmax(axis=-1)\n",
    "    print(label_names[c], (y_pred2 == y_true2).mean())"
   ]
  },
  {
   "cell_type": "code",
   "execution_count": 23,
   "metadata": {
    "ExecuteTime": {
     "end_time": "2018-04-20T13:31:50.356058Z",
     "start_time": "2018-04-20T13:31:50.209774Z"
    }
   },
   "outputs": [
    {
     "data": {
      "text/plain": [
       "Counter({'coat_length': 11320,\n",
       "         'collar_design': 8393,\n",
       "         'lapel_design': 7034,\n",
       "         'neck_design': 5696,\n",
       "         'neckline_design': 17148,\n",
       "         'pant_length': 7460,\n",
       "         'skirt_length': 19333,\n",
       "         'sleeve_length': 13299})"
      ]
     },
     "execution_count": 23,
     "metadata": {},
     "output_type": "execute_result"
    }
   ],
   "source": [
    "counts = Counter(df.label_name)\n",
    "counts"
   ]
  },
  {
   "cell_type": "code",
   "execution_count": 24,
   "metadata": {
    "ExecuteTime": {
     "end_time": "2018-04-20T13:31:50.604401Z",
     "start_time": "2018-04-20T13:31:50.358122Z"
    }
   },
   "outputs": [
    {
     "name": "stdout",
     "output_type": "stream",
     "text": [
      "0.887985584357\n"
     ]
    }
   ],
   "source": [
    "s = 0\n",
    "n = 0\n",
    "for c in range(8):\n",
    "    y_pred2 = y_pred[c][b[c]].argmax(axis=-1)\n",
    "    y_true2 = y_valid[c][b[c]].argmax(axis=-1)\n",
    "    s += counts[label_names[c]] * (y_pred2 == y_true2).mean()\n",
    "    n += counts[label_names[c]]\n",
    "print(s / n)"
   ]
  },
  {
   "cell_type": "markdown",
   "metadata": {},
   "source": [
    "# 在测试集上预测"
   ]
  },
  {
   "cell_type": "code",
   "execution_count": 25,
   "metadata": {
    "ExecuteTime": {
     "end_time": "2018-04-20T13:31:50.899439Z",
     "start_time": "2018-04-20T13:31:50.606569Z"
    }
   },
   "outputs": [
    {
     "data": {
      "text/html": [
       "<div>\n",
       "<style scoped>\n",
       "    .dataframe tbody tr th:only-of-type {\n",
       "        vertical-align: middle;\n",
       "    }\n",
       "\n",
       "    .dataframe tbody tr th {\n",
       "        vertical-align: top;\n",
       "    }\n",
       "\n",
       "    .dataframe thead th {\n",
       "        text-align: right;\n",
       "    }\n",
       "</style>\n",
       "<table border=\"1\" class=\"dataframe\">\n",
       "  <thead>\n",
       "    <tr style=\"text-align: right;\">\n",
       "      <th></th>\n",
       "      <th>filename</th>\n",
       "      <th>label_name</th>\n",
       "      <th>label</th>\n",
       "    </tr>\n",
       "  </thead>\n",
       "  <tbody>\n",
       "    <tr>\n",
       "      <th>0</th>\n",
       "      <td>Images/collar_design_labels/faad3490a16c7f3d4f...</td>\n",
       "      <td>collar_design_labels</td>\n",
       "      <td>?</td>\n",
       "    </tr>\n",
       "    <tr>\n",
       "      <th>1</th>\n",
       "      <td>Images/collar_design_labels/0b2b4254f35ce3a41a...</td>\n",
       "      <td>collar_design_labels</td>\n",
       "      <td>?</td>\n",
       "    </tr>\n",
       "    <tr>\n",
       "      <th>2</th>\n",
       "      <td>Images/collar_design_labels/7f2be608e06f804dd5...</td>\n",
       "      <td>collar_design_labels</td>\n",
       "      <td>?</td>\n",
       "    </tr>\n",
       "    <tr>\n",
       "      <th>3</th>\n",
       "      <td>Images/collar_design_labels/4b09d4dca80caac42e...</td>\n",
       "      <td>collar_design_labels</td>\n",
       "      <td>?</td>\n",
       "    </tr>\n",
       "    <tr>\n",
       "      <th>4</th>\n",
       "      <td>Images/collar_design_labels/de91f00a05e84d7239...</td>\n",
       "      <td>collar_design_labels</td>\n",
       "      <td>?</td>\n",
       "    </tr>\n",
       "  </tbody>\n",
       "</table>\n",
       "</div>"
      ],
      "text/plain": [
       "                                            filename            label_name  \\\n",
       "0  Images/collar_design_labels/faad3490a16c7f3d4f...  collar_design_labels   \n",
       "1  Images/collar_design_labels/0b2b4254f35ce3a41a...  collar_design_labels   \n",
       "2  Images/collar_design_labels/7f2be608e06f804dd5...  collar_design_labels   \n",
       "3  Images/collar_design_labels/4b09d4dca80caac42e...  collar_design_labels   \n",
       "4  Images/collar_design_labels/de91f00a05e84d7239...  collar_design_labels   \n",
       "\n",
       "  label  \n",
       "0     ?  \n",
       "1     ?  \n",
       "2     ?  \n",
       "3     ?  \n",
       "4     ?  "
      ]
     },
     "execution_count": 25,
     "metadata": {},
     "output_type": "execute_result"
    }
   ],
   "source": [
    "df_test = pd.read_csv('../test/z_rank/Tests/question.csv', header=None)\n",
    "df_test.columns = ['filename', 'label_name', 'label']\n",
    "\n",
    "fnames_test = df_test.filename\n",
    "\n",
    "n_test = len(df_test)\n",
    "df_test.head()"
   ]
  },
  {
   "cell_type": "code",
   "execution_count": 27,
   "metadata": {
    "ExecuteTime": {
     "end_time": "2018-04-20T13:40:21.654753Z",
     "start_time": "2018-04-20T13:38:52.936636Z"
    }
   },
   "outputs": [
    {
     "name": "stderr",
     "output_type": "stream",
     "text": [
      "100%|██████████| 15042/15042 [01:18<00:00, 190.50it/s]\n"
     ]
    }
   ],
   "source": [
    "def f(index):\n",
    "    return index, cv2.resize(cv2.imread('../test/z_rank/'+fnames_test[index]), (width, width))\n",
    "\n",
    "X_test = np.zeros((n_test, width, width, 3), dtype=np.uint8)\n",
    "with multiprocessing.Pool(12) as pool:\n",
    "    with tqdm(pool.imap_unordered(f, range(n_test)), total=n_test) as pbar:\n",
    "        for i, img in pbar:\n",
    "            X_test[i] = img[:,:,::-1]"
   ]
  },
  {
   "cell_type": "code",
   "execution_count": 28,
   "metadata": {
    "ExecuteTime": {
     "end_time": "2018-04-20T13:53:06.507229Z",
     "start_time": "2018-04-20T13:50:25.886395Z"
    }
   },
   "outputs": [
    {
     "name": "stdout",
     "output_type": "stream",
     "text": [
      "15042/15042 [==============================] - 161s 11ms/step\n"
     ]
    }
   ],
   "source": [
    "y_pred = model2.predict(X_test, batch_size=128, verbose=1)"
   ]
  },
  {
   "cell_type": "code",
   "execution_count": 29,
   "metadata": {
    "ExecuteTime": {
     "end_time": "2018-04-20T13:53:30.470042Z",
     "start_time": "2018-04-20T13:53:25.673886Z"
    }
   },
   "outputs": [],
   "source": [
    "for i in range(n_test):\n",
    "    problem_name = df_test.label_name[i].replace('_labels', '')\n",
    "    problem_index = label_names.index(problem_name)\n",
    "    probs = y_pred[problem_index][i]\n",
    "    df_test.label[i] = ';'.join(np.char.mod('%.8f', probs))"
   ]
  },
  {
   "cell_type": "code",
   "execution_count": 30,
   "metadata": {
    "ExecuteTime": {
     "end_time": "2018-04-20T13:53:33.624887Z",
     "start_time": "2018-04-20T13:53:33.459973Z"
    }
   },
   "outputs": [],
   "source": [
    "fname_csv = 'B_test_%s.csv' % model_name\n",
    "df_test.to_csv(fname_csv, index=None, header=None)"
   ]
  }
 ],
 "metadata": {
  "kernelspec": {
   "display_name": "Python 3",
   "language": "python",
   "name": "python3"
  },
  "language_info": {
   "codemirror_mode": {
    "name": "ipython",
    "version": 3
   },
   "file_extension": ".py",
   "mimetype": "text/x-python",
   "name": "python",
   "nbconvert_exporter": "python",
   "pygments_lexer": "ipython3",
   "version": "3.6.4"
  },
  "toc": {
   "nav_menu": {},
   "number_sections": true,
   "sideBar": true,
   "skip_h1_title": false,
   "toc_cell": false,
   "toc_position": {},
   "toc_section_display": "block",
   "toc_window_display": false
  },
  "varInspector": {
   "cols": {
    "lenName": "40",
    "lenType": 16,
    "lenVar": 40
   },
   "kernels_config": {
    "python": {
     "delete_cmd_postfix": "",
     "delete_cmd_prefix": "del ",
     "library": "var_list.py",
     "varRefreshCmd": "print(var_dic_list())"
    },
    "r": {
     "delete_cmd_postfix": ") ",
     "delete_cmd_prefix": "rm(",
     "library": "var_list.r",
     "varRefreshCmd": "cat(var_dic_list()) "
    }
   },
   "position": {
    "height": "456px",
    "left": "980px",
    "right": "20px",
    "top": "134px",
    "width": "521px"
   },
   "types_to_exclude": [
    "module",
    "function",
    "builtin_function_or_method",
    "instance",
    "_Feature"
   ],
   "window_display": false
  }
 },
 "nbformat": 4,
 "nbformat_minor": 2
}
