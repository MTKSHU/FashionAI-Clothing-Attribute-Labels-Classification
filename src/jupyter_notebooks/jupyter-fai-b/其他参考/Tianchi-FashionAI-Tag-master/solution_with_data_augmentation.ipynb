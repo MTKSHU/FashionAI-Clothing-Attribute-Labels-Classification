{
 "cells": [
  {
   "cell_type": "code",
   "execution_count": null,
   "metadata": {
    "collapsed": true
   },
   "outputs": [],
   "source": [
    "import os\n",
    "import shutil\n",
    "import cv2\n",
    "import random\n",
    "import re\n",
    "import numpy as np\n",
    "import pandas as pd\n",
    "import seaborn as sns\n",
    "import matplotlib.pyplot as plt\n",
    "from PIL import Image\n",
    "\n",
    "%matplotlib inline"
   ]
  },
  {
   "cell_type": "markdown",
   "metadata": {},
   "source": [
    "# 数据集目录结构\n",
    "```\n",
    "FashionAI-Attributes\n",
    "├── models/\n",
    "├── data/\n",
    "│   ├── base/\n",
    "│   ├── rank/\n",
    "│   └── web/\n",
    "└── solution.ipynb\n",
    "```"
   ]
  },
  {
   "cell_type": "markdown",
   "metadata": {},
   "source": [
    "image_demo = cv2.imread('./data/base/Images/coat_length_labels/fff3f9da02b33c0d2619a1dde0914737.jpg')\n",
    "image_demo.shape"
   ]
  },
  {
   "cell_type": "code",
   "execution_count": null,
   "metadata": {
    "collapsed": true
   },
   "outputs": [],
   "source": [
    "df_train = pd.read_csv('./data/base/Annotations/label.csv', header=None)\n",
    "df_train.columns = ['image_id', 'class', 'label']\n",
    "df_train.head()"
   ]
  },
  {
   "cell_type": "code",
   "execution_count": null,
   "metadata": {
    "collapsed": true
   },
   "outputs": [],
   "source": [
    "classes = ['collar_design_labels', 'neckline_design_labels', 'skirt_length_labels', \n",
    "           'sleeve_length_labels', 'neck_design_labels', 'coat_length_labels', 'lapel_design_labels', \n",
    "           'pant_length_labels']"
   ]
  },
  {
   "cell_type": "code",
   "execution_count": null,
   "metadata": {
    "collapsed": true
   },
   "outputs": [],
   "source": [
    "cur_class = classes[0]\n",
    "df_load = df_train[(df_train['class'] == cur_class)].copy()\n",
    "# df_load = df_train[(df_train['class'] == cur_class)].head(1000)\n",
    "df_load.reset_index(inplace=True)\n",
    "del df_load['index']\n",
    "\n",
    "#print('{0}: {1}'.format(cur_class, len(df_load)))\n",
    "df_load.head()"
   ]
  },
  {
   "cell_type": "code",
   "execution_count": null,
   "metadata": {
    "collapsed": true
   },
   "outputs": [],
   "source": [
    "n_class = len(df_load['label'][0])"
   ]
  },
  {
   "cell_type": "code",
   "execution_count": null,
   "metadata": {
    "collapsed": true
   },
   "outputs": [],
   "source": [
    "n_class"
   ]
  },
  {
   "cell_type": "code",
   "execution_count": null,
   "metadata": {
    "collapsed": true
   },
   "outputs": [],
   "source": [
    "len(df_load)"
   ]
  },
  {
   "cell_type": "code",
   "execution_count": null,
   "metadata": {
    "collapsed": true
   },
   "outputs": [],
   "source": [
    "base_dir = './data/base/'\n",
    "train_dir = os.path.join(base_dir, 'train', cur_class)\n",
    "valid_dir = os.path.join(base_dir, 'valid', cur_class)\n",
    "data_sets = ['train','valid']\n",
    "\n",
    "for data_set in data_sets:\n",
    "    set_dir = os.path.join(base_dir, data_set, cur_class)\n",
    "    if not os.path.exists(set_dir):\n",
    "        os.makedirs(set_dir)\n",
    "    for i in range(n_class):\n",
    "        label_dir = os.path.join(set_dir, str(i))\n",
    "        if not os.path.exists(label_dir):\n",
    "            os.makedirs(label_dir)"
   ]
  },
  {
   "cell_type": "code",
   "execution_count": null,
   "metadata": {
    "collapsed": true
   },
   "outputs": [],
   "source": [
    "data_length = len(df_load)\n",
    "batch_size = 32\n",
    "train_valid_split_ratio = 0.90\n",
    "train_length = int(data_length * train_valid_split_ratio)\n",
    "valid_length = int(data_length * (1 - train_valid_split_ratio))\n",
    "\n",
    "for i in range(data_length):\n",
    "    tmp_label = df_load['label'][i]\n",
    "    image_id = df_load['image_id'][i]\n",
    "    image_id_array = image_id.split('/')\n",
    "    # Get image name\n",
    "    jpg_name = image_id_array[len(image_id_array) - 1]\n",
    "    # Get image tag label\n",
    "    label = str(tmp_label.find('y'))\n",
    "    \n",
    "    src = os.path.join(base_dir, image_id)\n",
    "    \n",
    "    if i < data_length * train_valid_split_ratio: \n",
    "        dst = os.path.join(base_dir, 'train', cur_class, label, jpg_name)\n",
    "    else:\n",
    "        dst = os.path.join(base_dir, 'valid', cur_class, label, jpg_name)\n",
    "    if not os.path.exists(dst):\n",
    "        shutil.copyfile(src, dst)"
   ]
  },
  {
   "cell_type": "code",
   "execution_count": null,
   "metadata": {
    "collapsed": true
   },
   "outputs": [],
   "source": [
    "from keras import models\n",
    "from keras import layers\n",
    "from keras import optimizers\n",
    "from keras.applications import ResNet50\n",
    "from keras import backend as K\n",
    "from keras.callbacks import EarlyStopping, ModelCheckpoint\n",
    "from keras.preprocessing.image import ImageDataGenerator\n",
    "from keras.callbacks import EarlyStopping, ModelCheckpoint"
   ]
  },
  {
   "cell_type": "code",
   "execution_count": null,
   "metadata": {
    "collapsed": true
   },
   "outputs": [],
   "source": [
    "train_datagen = ImageDataGenerator(\n",
    "    rescale=1./255,\n",
    "    rotation_range=40\n",
    ") \n",
    "valid__datagen = ImageDataGenerator(rescale=1./255)"
   ]
  },
  {
   "cell_type": "code",
   "execution_count": null,
   "metadata": {
    "collapsed": true
   },
   "outputs": [],
   "source": [
    "#image_width = 512\n",
    "image_width = 256\n",
    "train_generator = train_datagen.flow_from_directory(\n",
    "    train_dir,\n",
    "    target_size=(image_width, image_width),\n",
    "    batch_size=32,\n",
    "    shuffle=True\n",
    ")\n",
    "valid_generator = valid__datagen.flow_from_directory(\n",
    "    valid_dir,\n",
    "    target_size=(image_width, image_width)\n",
    ")"
   ]
  },
  {
   "cell_type": "code",
   "execution_count": null,
   "metadata": {
    "collapsed": true
   },
   "outputs": [],
   "source": [
    "conv_base = ResNet50(weights='imagenet', include_top=False, input_shape=(image_width, image_width, 3))"
   ]
  },
  {
   "cell_type": "code",
   "execution_count": null,
   "metadata": {
    "collapsed": true
   },
   "outputs": [],
   "source": [
    "#conv_base.summary()"
   ]
  },
  {
   "cell_type": "code",
   "execution_count": null,
   "metadata": {
    "collapsed": true
   },
   "outputs": [],
   "source": [
    "for layer in conv_base.layers:\n",
    "    if re.search(r'^res5', layer.name) is not None:\n",
    "        layer.trainable = True\n",
    "    else:\n",
    "         layer.trainable = False"
   ]
  },
  {
   "cell_type": "code",
   "execution_count": null,
   "metadata": {
    "collapsed": true
   },
   "outputs": [],
   "source": [
    "model = models.Sequential() \n",
    "model.add(conv_base) \n",
    "model.add(layers.Flatten())\n",
    "model.add(layers.Dense(256, activation='relu')) \n",
    "model.add(layers.Dropout(0.4))\n",
    "model.add(layers.Dense(n_class, activation='softmax'))"
   ]
  },
  {
   "cell_type": "code",
   "execution_count": null,
   "metadata": {
    "collapsed": true
   },
   "outputs": [],
   "source": [
    "model.summary()"
   ]
  },
  {
   "cell_type": "code",
   "execution_count": null,
   "metadata": {
    "collapsed": true
   },
   "outputs": [],
   "source": [
    "model.compile(optimizer=optimizers.Adam(lr=0.001),\n",
    "              loss='categorical_crossentropy',\n",
    "              metrics=['accuracy'])\n",
    "\n",
    "\n",
    "file_path=\"model_best.h5\"\n",
    "checkpoint = ModelCheckpoint(file_path, monitor='val_loss', verbose=1, save_best_only=True, mode='min')\n",
    "early = EarlyStopping(monitor=\"val_loss\", mode=\"min\", patience=20)\n",
    "\n",
    "callbacks_list = [checkpoint, early] #early\n",
    "\n",
    "histroy = model.fit_generator(\n",
    "    train_generator,\n",
    "    steps_per_epoch=int(train_length/batch_size),\n",
    "    epochs=100,\n",
    "    validation_data=valid_generator,\n",
    "    validation_steps=int(valid_length/batch_size),\n",
    "    callbacks=callbacks_list\n",
    ")"
   ]
  },
  {
   "cell_type": "code",
   "execution_count": null,
   "metadata": {
    "collapsed": true
   },
   "outputs": [],
   "source": [
    "import matplotlib.pyplot as plt\n",
    "\n",
    "history \n",
    "acc = history.history['acc'] \n",
    "val_acc = history.history['val_acc'] \n",
    "loss = history.history['loss'] \n",
    "val_loss = history.history['val_loss']\n",
    "\n",
    "epochs = range(1, len(acc) + 1)\n",
    "\n",
    "plt.plot(epochs, acc, 'bo', label='Training acc') \n",
    "plt.plot(epochs, val_acc, 'b', label='Validation acc') \n",
    "plt.title('Training and validation accuracy') \n",
    "plt.legend()\n",
    "\n",
    "plt.figure()\n",
    "\n",
    "plt.plot(epochs, loss, 'bo', label='Training loss') \n",
    "plt.plot(epochs, val_loss, 'b', label='Validation loss') \n",
    "plt.title('Training and validation loss') \n",
    "plt.legend()\n",
    "\n",
    "plt.show()"
   ]
  },
  {
   "cell_type": "code",
   "execution_count": null,
   "metadata": {
    "collapsed": true
   },
   "outputs": [],
   "source": [
    "from keras.preprocessing import image\n",
    "\n",
    "\n",
    "def load_image(img_path, show=False):\n",
    "\n",
    "    img = image.load_img(img_path, target_size=(224, 224))\n",
    "    img_tensor = image.img_to_array(img)                    # (height, width, channels)\n",
    "    img_tensor = np.expand_dims(img_tensor, axis=0)         # (1, height, width, channels), add a dimension because the model expects this shape: (batch_size, height, width, channels)\n",
    "    img_tensor /= 255.                                      # imshow expects values in the range [0, 1]\n",
    "\n",
    "    if show:\n",
    "        plt.imshow(img_tensor[0])                           \n",
    "        plt.axis('off')\n",
    "        plt.show()\n",
    "\n",
    "    return img_tensor\n",
    "\n",
    "df_new = df_train[(df_train['class'] == cur_class)].head(2000)\n",
    "image_id = df_new['image_id'][1200]\n",
    "new_image_label = df_new['label'][1200]\n",
    "\n",
    "img_path = os.path.join(base_dir, image_id)\n",
    "new_image = load_image(img_path)\n",
    "pred = model.predict(new_image) \n",
    "# test_data = os.path.join('data/rank/Images', cur_class)\n",
    "\n",
    "# generator = datagen.flow_from_directory(\n",
    "#         'data/test',\n",
    "#         target_size=(150, 150),\n",
    "#         batch_size=16,\n",
    "#         class_mode=None,  # only data, no labels\n",
    "#         shuffle=False)  # keep data in same order as labels\n",
    "\n",
    "# probabilities = model.predict_generator(generator, )"
   ]
  },
  {
   "cell_type": "code",
   "execution_count": null,
   "metadata": {
    "collapsed": true
   },
   "outputs": [],
   "source": [
    "print(pred)\n",
    "print(new_image_label)"
   ]
  }
 ],
 "metadata": {
  "kernelspec": {
   "display_name": "Python 2",
   "language": "python",
   "name": "python2"
  },
  "language_info": {
   "codemirror_mode": {
    "name": "ipython",
    "version": 2
   },
   "file_extension": ".py",
   "mimetype": "text/x-python",
   "name": "python",
   "nbconvert_exporter": "python",
   "pygments_lexer": "ipython2",
   "version": "2.7.14"
  }
 },
 "nbformat": 4,
 "nbformat_minor": 2
}
