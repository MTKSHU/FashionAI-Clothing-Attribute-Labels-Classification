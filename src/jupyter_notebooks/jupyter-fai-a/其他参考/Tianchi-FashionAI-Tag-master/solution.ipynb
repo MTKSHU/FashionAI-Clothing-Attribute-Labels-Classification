{
 "cells": [
  {
   "cell_type": "markdown",
   "metadata": {},
   "source": [
    "# 数据集目录结构\n",
    "```\n",
    "FashionAI-Attributes\n",
    "├── models/\n",
    "├── data/\n",
    "│   ├── base/\n",
    "│   ├── rank/\n",
    "│   └── web/\n",
    "└── solution.ipynb\n",
    "```"
   ]
  },
  {
   "cell_type": "code",
   "execution_count": 1,
   "metadata": {
    "collapsed": true
   },
   "outputs": [],
   "source": [
    "import os\n",
    "import cv2\n",
    "import random\n",
    "import re\n",
    "import numpy as np\n",
    "import pandas as pd\n",
    "import seaborn as sns\n",
    "import matplotlib.pyplot as plt\n",
    "from sklearn.utils import shuffle\n",
    "from sklearn.model_selection import train_test_split\n",
    "from PIL import Image\n",
    "\n",
    "%matplotlib inline"
   ]
  },
  {
   "cell_type": "code",
   "execution_count": null,
   "metadata": {
    "collapsed": true
   },
   "outputs": [],
   "source": [
    "image_demo = cv2.imread('./data/base/Images/coat_length_labels/fff3f9da02b33c0d2619a1dde0914737.jpg')\n",
    "image_demo.shape"
   ]
  },
  {
   "cell_type": "code",
   "execution_count": 2,
   "metadata": {},
   "outputs": [
    {
     "data": {
      "text/html": [
       "<div>\n",
       "<style scoped>\n",
       "    .dataframe tbody tr th:only-of-type {\n",
       "        vertical-align: middle;\n",
       "    }\n",
       "\n",
       "    .dataframe tbody tr th {\n",
       "        vertical-align: top;\n",
       "    }\n",
       "\n",
       "    .dataframe thead th {\n",
       "        text-align: right;\n",
       "    }\n",
       "</style>\n",
       "<table border=\"1\" class=\"dataframe\">\n",
       "  <thead>\n",
       "    <tr style=\"text-align: right;\">\n",
       "      <th></th>\n",
       "      <th>image_id</th>\n",
       "      <th>class</th>\n",
       "      <th>label</th>\n",
       "    </tr>\n",
       "  </thead>\n",
       "  <tbody>\n",
       "    <tr>\n",
       "      <th>0</th>\n",
       "      <td>Images/collar_design_labels/4d8a38b29930a403e5...</td>\n",
       "      <td>collar_design_labels</td>\n",
       "      <td>nnynn</td>\n",
       "    </tr>\n",
       "    <tr>\n",
       "      <th>1</th>\n",
       "      <td>Images/collar_design_labels/bd0981f231180d2b00...</td>\n",
       "      <td>collar_design_labels</td>\n",
       "      <td>nynnn</td>\n",
       "    </tr>\n",
       "    <tr>\n",
       "      <th>2</th>\n",
       "      <td>Images/collar_design_labels/26937e1724feadfe39...</td>\n",
       "      <td>collar_design_labels</td>\n",
       "      <td>ynnnn</td>\n",
       "    </tr>\n",
       "    <tr>\n",
       "      <th>3</th>\n",
       "      <td>Images/collar_design_labels/cf4140ec542887270f...</td>\n",
       "      <td>collar_design_labels</td>\n",
       "      <td>nynnn</td>\n",
       "    </tr>\n",
       "    <tr>\n",
       "      <th>4</th>\n",
       "      <td>Images/collar_design_labels/50644b2b9de045f2d1...</td>\n",
       "      <td>collar_design_labels</td>\n",
       "      <td>nynnn</td>\n",
       "    </tr>\n",
       "  </tbody>\n",
       "</table>\n",
       "</div>"
      ],
      "text/plain": [
       "                                            image_id                 class  \\\n",
       "0  Images/collar_design_labels/4d8a38b29930a403e5...  collar_design_labels   \n",
       "1  Images/collar_design_labels/bd0981f231180d2b00...  collar_design_labels   \n",
       "2  Images/collar_design_labels/26937e1724feadfe39...  collar_design_labels   \n",
       "3  Images/collar_design_labels/cf4140ec542887270f...  collar_design_labels   \n",
       "4  Images/collar_design_labels/50644b2b9de045f2d1...  collar_design_labels   \n",
       "\n",
       "   label  \n",
       "0  nnynn  \n",
       "1  nynnn  \n",
       "2  ynnnn  \n",
       "3  nynnn  \n",
       "4  nynnn  "
      ]
     },
     "execution_count": 2,
     "metadata": {},
     "output_type": "execute_result"
    }
   ],
   "source": [
    "df_train = pd.read_csv('./data/base/Annotations/label.csv', header=None)\n",
    "df_train.columns = ['image_id', 'class', 'label']\n",
    "df_train.head()"
   ]
  },
  {
   "cell_type": "code",
   "execution_count": 3,
   "metadata": {
    "collapsed": true
   },
   "outputs": [],
   "source": [
    "classes = ['collar_design_labels', 'neckline_design_labels', 'skirt_length_labels', \n",
    "           'sleeve_length_labels', 'neck_design_labels', 'coat_length_labels', 'lapel_design_labels', \n",
    "           'pant_length_labels']"
   ]
  },
  {
   "cell_type": "code",
   "execution_count": 4,
   "metadata": {},
   "outputs": [
    {
     "name": "stdout",
     "output_type": "stream",
     "text": [
      "collar_design_labels: 1000\n"
     ]
    },
    {
     "data": {
      "text/html": [
       "<div>\n",
       "<style scoped>\n",
       "    .dataframe tbody tr th:only-of-type {\n",
       "        vertical-align: middle;\n",
       "    }\n",
       "\n",
       "    .dataframe tbody tr th {\n",
       "        vertical-align: top;\n",
       "    }\n",
       "\n",
       "    .dataframe thead th {\n",
       "        text-align: right;\n",
       "    }\n",
       "</style>\n",
       "<table border=\"1\" class=\"dataframe\">\n",
       "  <thead>\n",
       "    <tr style=\"text-align: right;\">\n",
       "      <th></th>\n",
       "      <th>image_id</th>\n",
       "      <th>class</th>\n",
       "      <th>label</th>\n",
       "    </tr>\n",
       "  </thead>\n",
       "  <tbody>\n",
       "    <tr>\n",
       "      <th>0</th>\n",
       "      <td>Images/collar_design_labels/4d8a38b29930a403e5...</td>\n",
       "      <td>collar_design_labels</td>\n",
       "      <td>nnynn</td>\n",
       "    </tr>\n",
       "    <tr>\n",
       "      <th>1</th>\n",
       "      <td>Images/collar_design_labels/bd0981f231180d2b00...</td>\n",
       "      <td>collar_design_labels</td>\n",
       "      <td>nynnn</td>\n",
       "    </tr>\n",
       "    <tr>\n",
       "      <th>2</th>\n",
       "      <td>Images/collar_design_labels/26937e1724feadfe39...</td>\n",
       "      <td>collar_design_labels</td>\n",
       "      <td>ynnnn</td>\n",
       "    </tr>\n",
       "    <tr>\n",
       "      <th>3</th>\n",
       "      <td>Images/collar_design_labels/cf4140ec542887270f...</td>\n",
       "      <td>collar_design_labels</td>\n",
       "      <td>nynnn</td>\n",
       "    </tr>\n",
       "    <tr>\n",
       "      <th>4</th>\n",
       "      <td>Images/collar_design_labels/50644b2b9de045f2d1...</td>\n",
       "      <td>collar_design_labels</td>\n",
       "      <td>nynnn</td>\n",
       "    </tr>\n",
       "  </tbody>\n",
       "</table>\n",
       "</div>"
      ],
      "text/plain": [
       "                                            image_id                 class  \\\n",
       "0  Images/collar_design_labels/4d8a38b29930a403e5...  collar_design_labels   \n",
       "1  Images/collar_design_labels/bd0981f231180d2b00...  collar_design_labels   \n",
       "2  Images/collar_design_labels/26937e1724feadfe39...  collar_design_labels   \n",
       "3  Images/collar_design_labels/cf4140ec542887270f...  collar_design_labels   \n",
       "4  Images/collar_design_labels/50644b2b9de045f2d1...  collar_design_labels   \n",
       "\n",
       "   label  \n",
       "0  nnynn  \n",
       "1  nynnn  \n",
       "2  ynnnn  \n",
       "3  nynnn  \n",
       "4  nynnn  "
      ]
     },
     "execution_count": 4,
     "metadata": {},
     "output_type": "execute_result"
    }
   ],
   "source": [
    "cur_class = classes[0]\n",
    "df_load = df_train[(df_train['class'] == cur_class)].copy\n",
    "#df_load = df_train[(df_train['class'] == cur_class)].head(1000)\n",
    "df_load.reset_index(inplace=True)\n",
    "del df_load['index']\n",
    "\n",
    "print('{0}: {1}'.format(cur_class, len(df_load)))\n",
    "df_load.head()"
   ]
  },
  {
   "cell_type": "code",
   "execution_count": 5,
   "metadata": {
    "collapsed": true
   },
   "outputs": [],
   "source": [
    "width = 224\n",
    "n = len(df_load)\n",
    "n_class = len(df_load['label'][0])\n",
    "\n",
    "X = np.zeros((n, width, width, 3), dtype='float32')\n",
    "Y = np.zeros((n, n_class), dtype='float32')"
   ]
  },
  {
   "cell_type": "code",
   "execution_count": 6,
   "metadata": {},
   "outputs": [
    {
     "name": "stdout",
     "output_type": "stream",
     "text": [
      "[[[0.5647059  0.53333336 0.53333336]\n",
      "  [0.5686275  0.5372549  0.5372549 ]\n",
      "  [0.5647059  0.5372549  0.5372549 ]\n",
      "  ...\n",
      "  [0.46666667 0.4392157  0.42745098]\n",
      "  [0.45882353 0.43137255 0.41960785]\n",
      "  [0.4627451  0.43529412 0.41960785]]\n",
      "\n",
      " [[0.5647059  0.53333336 0.53333336]\n",
      "  [0.5686275  0.5372549  0.5372549 ]\n",
      "  [0.57254905 0.5411765  0.5411765 ]\n",
      "  ...\n",
      "  [0.4627451  0.43529412 0.42352942]\n",
      "  [0.45490196 0.42745098 0.41568628]\n",
      "  [0.45882353 0.43137255 0.41960785]]\n",
      "\n",
      " [[0.5686275  0.5372549  0.5372549 ]\n",
      "  [0.5686275  0.5372549  0.5372549 ]\n",
      "  [0.5686275  0.5372549  0.5372549 ]\n",
      "  ...\n",
      "  [0.4745098  0.4392157  0.42745098]\n",
      "  [0.4745098  0.4392157  0.42745098]\n",
      "  [0.4745098  0.43529412 0.42745098]]\n",
      "\n",
      " ...\n",
      "\n",
      " [[0.81960785 0.7921569  0.75686276]\n",
      "  [0.8235294  0.79607844 0.7607843 ]\n",
      "  [0.81960785 0.7921569  0.75686276]\n",
      "  ...\n",
      "  [0.7372549  0.70980394 0.6745098 ]\n",
      "  [0.7372549  0.70980394 0.6745098 ]\n",
      "  [0.7411765  0.7137255  0.6784314 ]]\n",
      "\n",
      " [[0.827451   0.8        0.7647059 ]\n",
      "  [0.8235294  0.79607844 0.7607843 ]\n",
      "  [0.8235294  0.79607844 0.7607843 ]\n",
      "  ...\n",
      "  [0.74509805 0.7176471  0.68235296]\n",
      "  [0.7411765  0.7137255  0.6784314 ]\n",
      "  [0.7411765  0.7137255  0.6784314 ]]\n",
      "\n",
      " [[0.827451   0.8        0.7647059 ]\n",
      "  [0.827451   0.8039216  0.76862746]\n",
      "  [0.83137256 0.8039216  0.76862746]\n",
      "  ...\n",
      "  [0.7529412  0.7254902  0.6901961 ]\n",
      "  [0.7529412  0.7254902  0.6901961 ]\n",
      "  [0.7529412  0.7254902  0.6901961 ]]]\n",
      "[0. 1. 0. 0. 0.]\n",
      "nynnn\n"
     ]
    }
   ],
   "source": [
    "for i in range(n):\n",
    "    tmp_label = df_load['label'][i]\n",
    "    if len(tmp_label) > n_class:\n",
    "        print(df_load['image_id'][i])\n",
    "    X[i] = cv2.resize(cv2.imread('./data/base/{0}'.format(df_load['image_id'][i])), (width, width))/255.\n",
    "    Y[i][tmp_label.find('y')] = 1\n",
    "    if i == 100:\n",
    "        print(X[i])\n",
    "        print(Y[i])\n",
    "        print(tmp_label)"
   ]
  },
  {
   "cell_type": "code",
   "execution_count": 22,
   "metadata": {
    "collapsed": true
   },
   "outputs": [],
   "source": [
    "from keras import models\n",
    "from keras import layers\n",
    "from keras import optimizers\n",
    "from keras.applications import ResNet50, VGG16\n",
    "from keras import backend as K\n",
    "from keras.callbacks import EarlyStopping, ModelCheckpoint"
   ]
  },
  {
   "cell_type": "code",
   "execution_count": 23,
   "metadata": {
    "collapsed": true
   },
   "outputs": [],
   "source": [
    "conv_base = ResNet50(weights='imagenet', include_top=False, input_shape=(width, width, 3))\n",
    "# conv_base = VGG16(weights='imagenet', include_top=False, input_shape=(width, width, 3))"
   ]
  },
  {
   "cell_type": "code",
   "execution_count": 24,
   "metadata": {},
   "outputs": [
    {
     "name": "stdout",
     "output_type": "stream",
     "text": [
      "_________________________________________________________________\n",
      "Layer (type)                 Output Shape              Param #   \n",
      "=================================================================\n",
      "input_2 (InputLayer)         (None, 224, 224, 3)       0         \n",
      "_________________________________________________________________\n",
      "block1_conv1 (Conv2D)        (None, 224, 224, 64)      1792      \n",
      "_________________________________________________________________\n",
      "block1_conv2 (Conv2D)        (None, 224, 224, 64)      36928     \n",
      "_________________________________________________________________\n",
      "block1_pool (MaxPooling2D)   (None, 112, 112, 64)      0         \n",
      "_________________________________________________________________\n",
      "block2_conv1 (Conv2D)        (None, 112, 112, 128)     73856     \n",
      "_________________________________________________________________\n",
      "block2_conv2 (Conv2D)        (None, 112, 112, 128)     147584    \n",
      "_________________________________________________________________\n",
      "block2_pool (MaxPooling2D)   (None, 56, 56, 128)       0         \n",
      "_________________________________________________________________\n",
      "block3_conv1 (Conv2D)        (None, 56, 56, 256)       295168    \n",
      "_________________________________________________________________\n",
      "block3_conv2 (Conv2D)        (None, 56, 56, 256)       590080    \n",
      "_________________________________________________________________\n",
      "block3_conv3 (Conv2D)        (None, 56, 56, 256)       590080    \n",
      "_________________________________________________________________\n",
      "block3_pool (MaxPooling2D)   (None, 28, 28, 256)       0         \n",
      "_________________________________________________________________\n",
      "block4_conv1 (Conv2D)        (None, 28, 28, 512)       1180160   \n",
      "_________________________________________________________________\n",
      "block4_conv2 (Conv2D)        (None, 28, 28, 512)       2359808   \n",
      "_________________________________________________________________\n",
      "block4_conv3 (Conv2D)        (None, 28, 28, 512)       2359808   \n",
      "_________________________________________________________________\n",
      "block4_pool (MaxPooling2D)   (None, 14, 14, 512)       0         \n",
      "_________________________________________________________________\n",
      "block5_conv1 (Conv2D)        (None, 14, 14, 512)       2359808   \n",
      "_________________________________________________________________\n",
      "block5_conv2 (Conv2D)        (None, 14, 14, 512)       2359808   \n",
      "_________________________________________________________________\n",
      "block5_conv3 (Conv2D)        (None, 14, 14, 512)       2359808   \n",
      "_________________________________________________________________\n",
      "block5_pool (MaxPooling2D)   (None, 7, 7, 512)         0         \n",
      "=================================================================\n",
      "Total params: 14,714,688\n",
      "Trainable params: 14,714,688\n",
      "Non-trainable params: 0\n",
      "_________________________________________________________________\n"
     ]
    }
   ],
   "source": [
    "conv_base.summary()"
   ]
  },
  {
   "cell_type": "code",
   "execution_count": 10,
   "metadata": {},
   "outputs": [
    {
     "name": "stdout",
     "output_type": "stream",
     "text": [
      "<keras.engine.topology.InputLayer object at 0x14cd86400> False\n",
      "<keras.layers.convolutional.ZeroPadding2D object at 0x14cd86588> False\n",
      "<keras.layers.convolutional.Conv2D object at 0x14cd86518> False\n",
      "<keras.layers.normalization.BatchNormalization object at 0x11ba595c0> False\n",
      "<keras.layers.core.Activation object at 0x14cd869e8> False\n",
      "<keras.layers.pooling.MaxPooling2D object at 0x14ce193c8> False\n",
      "<keras.layers.convolutional.Conv2D object at 0x14cdb1198> False\n",
      "<keras.layers.normalization.BatchNormalization object at 0x14ce2e828> False\n",
      "<keras.layers.core.Activation object at 0x14cf04c50> False\n",
      "<keras.layers.convolutional.Conv2D object at 0x14cf1c908> False\n",
      "<keras.layers.normalization.BatchNormalization object at 0x14cf1c6d8> False\n",
      "<keras.layers.core.Activation object at 0x14cf9a6d8> False\n",
      "<keras.layers.convolutional.Conv2D object at 0x14d0588d0> False\n",
      "<keras.layers.convolutional.Conv2D object at 0x14d0da6a0> False\n",
      "<keras.layers.normalization.BatchNormalization object at 0x14d0586a0> False\n",
      "<keras.layers.normalization.BatchNormalization object at 0x14d198e80> False\n",
      "<keras.layers.merge.Add object at 0x14d25b828> False\n",
      "<keras.layers.core.Activation object at 0x14d2d6c88> False\n",
      "<keras.layers.convolutional.Conv2D object at 0x14d2d6400> False\n",
      "<keras.layers.normalization.BatchNormalization object at 0x14d3059b0> False\n",
      "<keras.layers.core.Activation object at 0x14d400b70> False\n",
      "<keras.layers.convolutional.Conv2D object at 0x14d41b860> False\n",
      "<keras.layers.normalization.BatchNormalization object at 0x14d41b630> False\n",
      "<keras.layers.core.Activation object at 0x14d49a630> False\n",
      "<keras.layers.convolutional.Conv2D object at 0x14d558828> False\n",
      "<keras.layers.normalization.BatchNormalization object at 0x14d5585f8> False\n",
      "<keras.layers.merge.Add object at 0x14d5da5f8> False\n",
      "<keras.layers.core.Activation object at 0x14d697e48> False\n",
      "<keras.layers.convolutional.Conv2D object at 0x14d6975c0> False\n",
      "<keras.layers.normalization.BatchNormalization object at 0x14cdfa710> False\n",
      "<keras.layers.core.Activation object at 0x14ce23390> False\n",
      "<keras.layers.convolutional.Conv2D object at 0x14d800cc0> False\n",
      "<keras.layers.normalization.BatchNormalization object at 0x14d888eb8> False\n",
      "<keras.layers.core.Activation object at 0x14d8cbeb8> False\n",
      "<keras.layers.convolutional.Conv2D object at 0x14d92b6d8> False\n",
      "<keras.layers.normalization.BatchNormalization object at 0x14d9c8eb8> False\n",
      "<keras.layers.merge.Add object at 0x14da0af98> False\n",
      "<keras.layers.core.Activation object at 0x14da680f0> False\n",
      "<keras.layers.convolutional.Conv2D object at 0x14da687b8> False\n",
      "<keras.layers.normalization.BatchNormalization object at 0x14da968d0> False\n",
      "<keras.layers.core.Activation object at 0x14db46cc0> False\n",
      "<keras.layers.convolutional.Conv2D object at 0x14dba6438> False\n",
      "<keras.layers.normalization.BatchNormalization object at 0x14dc6b4e0> False\n",
      "<keras.layers.core.Activation object at 0x14dcad400> False\n",
      "<keras.layers.convolutional.Conv2D object at 0x14dce4518> False\n",
      "<keras.layers.convolutional.Conv2D object at 0x14dded4e0> False\n",
      "<keras.layers.normalization.BatchNormalization object at 0x14dd7ebe0> False\n",
      "<keras.layers.normalization.BatchNormalization object at 0x14de24c50> False\n",
      "<keras.layers.merge.Add object at 0x14dea5630> False\n",
      "<keras.layers.core.Activation object at 0x14df65b00> False\n",
      "<keras.layers.convolutional.Conv2D object at 0x14df65278> False\n",
      "<keras.layers.normalization.BatchNormalization object at 0x14df91828> False\n",
      "<keras.layers.core.Activation object at 0x14e06e470> False\n",
      "<keras.layers.convolutional.Conv2D object at 0x14e0a57f0> False\n",
      "<keras.layers.normalization.BatchNormalization object at 0x14e169358> False\n",
      "<keras.layers.core.Activation object at 0x14e1ad7b8> False\n",
      "<keras.layers.convolutional.Conv2D object at 0x14e1e48d0> False\n",
      "<keras.layers.normalization.BatchNormalization object at 0x14e2a6438> False\n",
      "<keras.layers.merge.Add object at 0x14e2ec898> False\n",
      "<keras.layers.core.Activation object at 0x14e322f60> False\n",
      "<keras.layers.convolutional.Conv2D object at 0x14e322780> False\n",
      "<keras.layers.normalization.BatchNormalization object at 0x14e353780> False\n",
      "<keras.layers.core.Activation object at 0x14e42b5c0> False\n",
      "<keras.layers.convolutional.Conv2D object at 0x14e460748> False\n",
      "<keras.layers.normalization.BatchNormalization object at 0x14e516eb8> False\n",
      "<keras.layers.core.Activation object at 0x14e568cc0> False\n",
      "<keras.layers.convolutional.Conv2D object at 0x14e5b8438> False\n",
      "<keras.layers.normalization.BatchNormalization object at 0x14e657908> False\n",
      "<keras.layers.merge.Add object at 0x14e6a7da0> False\n",
      "<keras.layers.core.Activation object at 0x14e6dec88> False\n",
      "<keras.layers.convolutional.Conv2D object at 0x14e6de780> False\n",
      "<keras.layers.normalization.BatchNormalization object at 0x14e7266d8> False\n",
      "<keras.layers.core.Activation object at 0x14e7dfac8> False\n",
      "<keras.layers.convolutional.Conv2D object at 0x14e83b1d0> False\n",
      "<keras.layers.normalization.BatchNormalization object at 0x14e8fd208> False\n",
      "<keras.layers.core.Activation object at 0x14e919f28> False\n",
      "<keras.layers.convolutional.Conv2D object at 0x14e979320> False\n",
      "<keras.layers.normalization.BatchNormalization object at 0x14ea3d3c8> False\n",
      "<keras.layers.merge.Add object at 0x14ea882e8> False\n",
      "<keras.layers.core.Activation object at 0x14eab9a58> False\n",
      "<keras.layers.convolutional.Conv2D object at 0x14eab91d0> False\n",
      "<keras.layers.normalization.BatchNormalization object at 0x14ebdecf8> False\n",
      "<keras.layers.core.Activation object at 0x14ebc03c8> False\n",
      "<keras.layers.convolutional.Conv2D object at 0x14ebfa748> False\n",
      "<keras.layers.normalization.BatchNormalization object at 0x14ecbb278> False\n",
      "<keras.layers.core.Activation object at 0x14ed04710> False\n",
      "<keras.layers.convolutional.Conv2D object at 0x14ed38828> False\n",
      "<keras.layers.convolutional.Conv2D object at 0x14ee417f0> False\n",
      "<keras.layers.normalization.BatchNormalization object at 0x14edfc390> False\n",
      "<keras.layers.normalization.BatchNormalization object at 0x14ee79fd0> False\n",
      "<keras.layers.merge.Add object at 0x14eefb710> False\n",
      "<keras.layers.core.Activation object at 0x14efb7e10> False\n",
      "<keras.layers.convolutional.Conv2D object at 0x14efb7588> False\n",
      "<keras.layers.normalization.BatchNormalization object at 0x14efe5b38> False\n",
      "<keras.layers.core.Activation object at 0x14f0c0940> False\n",
      "<keras.layers.convolutional.Conv2D object at 0x14f0f6b00> False\n",
      "<keras.layers.normalization.BatchNormalization object at 0x14f21c080> False\n",
      "<keras.layers.core.Activation object at 0x14f1fa898> False\n",
      "<keras.layers.convolutional.Conv2D object at 0x14f233be0> False\n",
      "<keras.layers.normalization.BatchNormalization object at 0x14f176ba8> False\n",
      "<keras.layers.merge.Add object at 0x14f33cba8> False\n",
      "<keras.layers.core.Activation object at 0x14f371c18> False\n",
      "<keras.layers.convolutional.Conv2D object at 0x14f371a90> False\n",
      "<keras.layers.normalization.BatchNormalization object at 0x14f3a1b00> False\n",
      "<keras.layers.core.Activation object at 0x14f47b9b0> False\n",
      "<keras.layers.convolutional.Conv2D object at 0x14f4aefd0> False\n",
      "<keras.layers.normalization.BatchNormalization object at 0x14f534710> False\n",
      "<keras.layers.core.Activation object at 0x14f5aefd0> False\n",
      "<keras.layers.convolutional.Conv2D object at 0x14f5f5f98> False\n",
      "<keras.layers.normalization.BatchNormalization object at 0x14f676668> False\n",
      "<keras.layers.merge.Add object at 0x14f734a90> False\n",
      "<keras.layers.core.Activation object at 0x14f74c048> False\n",
      "<keras.layers.convolutional.Conv2D object at 0x14f74cac8> False\n",
      "<keras.layers.normalization.BatchNormalization object at 0x14f779358> False\n",
      "<keras.layers.core.Activation object at 0x14f85a390> False\n",
      "<keras.layers.convolutional.Conv2D object at 0x14f888550> False\n",
      "<keras.layers.normalization.BatchNormalization object at 0x14f926f98> False\n",
      "<keras.layers.core.Activation object at 0x14f994518> False\n",
      "<keras.layers.convolutional.Conv2D object at 0x14f9c9630> False\n",
      "<keras.layers.normalization.BatchNormalization object at 0x14fa8b198> False\n",
      "<keras.layers.merge.Add object at 0x14fad35f8> False\n",
      "<keras.layers.core.Activation object at 0x14fb05d68> False\n",
      "<keras.layers.convolutional.Conv2D object at 0x14fb054e0> False\n",
      "<keras.layers.normalization.BatchNormalization object at 0x14fc2df98> False\n",
      "<keras.layers.core.Activation object at 0x14fc136d8> False\n",
      "<keras.layers.convolutional.Conv2D object at 0x14fc47a58> False\n",
      "<keras.layers.normalization.BatchNormalization object at 0x14fd085c0> False\n",
      "<keras.layers.core.Activation object at 0x14fd4da20> False\n",
      "<keras.layers.convolutional.Conv2D object at 0x14fd85b38> False\n",
      "<keras.layers.normalization.BatchNormalization object at 0x14fe4bb00> False\n",
      "<keras.layers.merge.Add object at 0x14fe90b00> False\n",
      "<keras.layers.core.Activation object at 0x14fec5b70> False\n",
      "<keras.layers.convolutional.Conv2D object at 0x14fec59e8> False\n",
      "<keras.layers.normalization.BatchNormalization object at 0x14fef69e8> False\n",
      "<keras.layers.core.Activation object at 0x14ffca828> False\n",
      "<keras.layers.convolutional.Conv2D object at 0x150020668> False\n",
      "<keras.layers.normalization.BatchNormalization object at 0x1500bcef0> False\n",
      "<keras.layers.core.Activation object at 0x1500fff28> False\n",
      "<keras.layers.convolutional.Conv2D object at 0x150144fd0> False\n",
      "<keras.layers.normalization.BatchNormalization object at 0x1501c55c0> False\n",
      "<keras.layers.merge.Add object at 0x15023efd0> False\n",
      "<keras.layers.core.Activation object at 0x15029d160> False\n",
      "<keras.layers.convolutional.Conv2D object at 0x15029d828> True\n",
      "<keras.layers.normalization.BatchNormalization object at 0x1502c94a8> False\n",
      "<keras.layers.core.Activation object at 0x15037ad30> False\n",
      "<keras.layers.convolutional.Conv2D object at 0x1503dd4a8> True\n",
      "<keras.layers.normalization.BatchNormalization object at 0x1504a0978> False\n",
      "<keras.layers.core.Activation object at 0x1504e7470> False\n",
      "<keras.layers.convolutional.Conv2D object at 0x15051c588> True\n",
      "<keras.layers.convolutional.Conv2D object at 0x150624550> True\n",
      "<keras.layers.normalization.BatchNormalization object at 0x1505b5c88> False\n",
      "<keras.layers.normalization.BatchNormalization object at 0x15065dcc0> False\n",
      "<keras.layers.merge.Add object at 0x1506de470> False\n",
      "<keras.layers.core.Activation object at 0x150799b70> False\n",
      "<keras.layers.convolutional.Conv2D object at 0x1507992e8> True\n",
      "<keras.layers.normalization.BatchNormalization object at 0x1508c3e10> False\n",
      "<keras.layers.core.Activation object at 0x1508a74e0> False\n",
      "<keras.layers.convolutional.Conv2D object at 0x1508dc860> True\n",
      "<keras.layers.normalization.BatchNormalization object at 0x15099f390> False\n",
      "<keras.layers.core.Activation object at 0x1509e4828> False\n",
      "<keras.layers.convolutional.Conv2D object at 0x150a1b940> True\n",
      "<keras.layers.normalization.BatchNormalization object at 0x150add4a8> False\n",
      "<keras.layers.merge.Add object at 0x150b23908> False\n",
      "<keras.layers.core.Activation object at 0x150b59cc0> False\n",
      "<keras.layers.convolutional.Conv2D object at 0x150b597f0> True\n",
      "<keras.layers.normalization.BatchNormalization object at 0x150b8c7f0> False\n",
      "<keras.layers.core.Activation object at 0x150c65630> False\n",
      "<keras.layers.convolutional.Conv2D object at 0x150cb4438> True\n",
      "<keras.layers.normalization.BatchNormalization object at 0x150d528d0> False\n",
      "<keras.layers.core.Activation object at 0x150d9fd30> False\n",
      "<keras.layers.convolutional.Conv2D object at 0x150df2550> True\n",
      "<keras.layers.normalization.BatchNormalization object at 0x150e919b0> False\n",
      "<keras.layers.merge.Add object at 0x150edce10> False\n",
      "<keras.layers.core.Activation object at 0x150f1acf8> False\n",
      "<keras.layers.pooling.AveragePooling2D object at 0x150f1a7f0> False\n"
     ]
    }
   ],
   "source": [
    "for layer in conv_base.layers:\n",
    "    if re.search(r'^res5', layer.name) is not None:\n",
    "        layer.trainable = True\n",
    "    else:\n",
    "         layer.trainable = False\n",
    "for layer in conv_base.layers:\n",
    "    print(layer, layer.trainable)"
   ]
  },
  {
   "cell_type": "code",
   "execution_count": 25,
   "metadata": {
    "collapsed": true
   },
   "outputs": [],
   "source": [
    "model = models.Sequential() \n",
    "model.add(conv_base) \n",
    "model.add(layers.GlobalAveragePooling2D())\n",
    "model.add(layers.Dense(512, activation='relu'))\n",
    "model.add(layers.Dropout(0.5))\n",
    "model.add(layers.Dense(n_class, activation='softmax'))"
   ]
  },
  {
   "cell_type": "code",
   "execution_count": 26,
   "metadata": {},
   "outputs": [
    {
     "name": "stdout",
     "output_type": "stream",
     "text": [
      "_________________________________________________________________\n",
      "Layer (type)                 Output Shape              Param #   \n",
      "=================================================================\n",
      "vgg16 (Model)                (None, 7, 7, 512)         14714688  \n",
      "_________________________________________________________________\n",
      "global_average_pooling2d_2 ( (None, 512)               0         \n",
      "_________________________________________________________________\n",
      "dense_3 (Dense)              (None, 512)               262656    \n",
      "_________________________________________________________________\n",
      "dropout_2 (Dropout)          (None, 512)               0         \n",
      "_________________________________________________________________\n",
      "dense_4 (Dense)              (None, 5)                 2565      \n",
      "=================================================================\n",
      "Total params: 14,979,909\n",
      "Trainable params: 14,979,909\n",
      "Non-trainable params: 0\n",
      "_________________________________________________________________\n"
     ]
    }
   ],
   "source": [
    "model.summary()"
   ]
  },
  {
   "cell_type": "code",
   "execution_count": 28,
   "metadata": {
    "collapsed": true
   },
   "outputs": [],
   "source": [
    "X_train,X_test, y_train, y_test = train_test_split(X, Y, test_size=0.10, random_state=42)"
   ]
  },
  {
   "cell_type": "code",
   "execution_count": 29,
   "metadata": {},
   "outputs": [
    {
     "name": "stdout",
     "output_type": "stream",
     "text": [
      "(900, 224, 224, 3)\n",
      "(100, 224, 224, 3)\n",
      "Length of X_train: 900\n",
      "Length of X_test: 100\n"
     ]
    }
   ],
   "source": [
    "print(X_train.shape)\n",
    "print(X_test.shape)\n",
    "print(\"Length of X_train: \" + str(len(X_train)))\n",
    "print(\"Length of X_test: \" + str(len(X_test)))"
   ]
  },
  {
   "cell_type": "code",
   "execution_count": 32,
   "metadata": {},
   "outputs": [
    {
     "name": "stdout",
     "output_type": "stream",
     "text": [
      "Train on 810 samples, validate on 90 samples\n",
      "Epoch 1/10\n",
      " 50/810 [>.............................] - ETA: 28:54 - loss: 1.6792 - acc: 0.2400"
     ]
    },
    {
     "ename": "KeyboardInterrupt",
     "evalue": "",
     "output_type": "error",
     "traceback": [
      "\u001b[0;31m---------------------------------------------------------------------------\u001b[0m",
      "\u001b[0;31mKeyboardInterrupt\u001b[0m                         Traceback (most recent call last)",
      "\u001b[0;32m<ipython-input-32-b9d345986ba7>\u001b[0m in \u001b[0;36m<module>\u001b[0;34m()\u001b[0m\n\u001b[1;32m     16\u001b[0m     \u001b[0mcallbacks\u001b[0m\u001b[0;34m=\u001b[0m\u001b[0mcallbacks_list\u001b[0m\u001b[0;34m,\u001b[0m\u001b[0;34m\u001b[0m\u001b[0m\n\u001b[1;32m     17\u001b[0m     \u001b[0mshuffle\u001b[0m\u001b[0;34m=\u001b[0m\u001b[0;32mTrue\u001b[0m\u001b[0;34m,\u001b[0m\u001b[0;34m\u001b[0m\u001b[0m\n\u001b[0;32m---> 18\u001b[0;31m     validation_split=0.1)\n\u001b[0m",
      "\u001b[0;32m/usr/local/lib/python3.6/site-packages/keras/models.py\u001b[0m in \u001b[0;36mfit\u001b[0;34m(self, x, y, batch_size, epochs, verbose, callbacks, validation_split, validation_data, shuffle, class_weight, sample_weight, initial_epoch, steps_per_epoch, validation_steps, **kwargs)\u001b[0m\n\u001b[1;32m    961\u001b[0m                               \u001b[0minitial_epoch\u001b[0m\u001b[0;34m=\u001b[0m\u001b[0minitial_epoch\u001b[0m\u001b[0;34m,\u001b[0m\u001b[0;34m\u001b[0m\u001b[0m\n\u001b[1;32m    962\u001b[0m                               \u001b[0msteps_per_epoch\u001b[0m\u001b[0;34m=\u001b[0m\u001b[0msteps_per_epoch\u001b[0m\u001b[0;34m,\u001b[0m\u001b[0;34m\u001b[0m\u001b[0m\n\u001b[0;32m--> 963\u001b[0;31m                               validation_steps=validation_steps)\n\u001b[0m\u001b[1;32m    964\u001b[0m \u001b[0;34m\u001b[0m\u001b[0m\n\u001b[1;32m    965\u001b[0m     def evaluate(self, x=None, y=None,\n",
      "\u001b[0;32m/usr/local/lib/python3.6/site-packages/keras/engine/training.py\u001b[0m in \u001b[0;36mfit\u001b[0;34m(self, x, y, batch_size, epochs, verbose, callbacks, validation_split, validation_data, shuffle, class_weight, sample_weight, initial_epoch, steps_per_epoch, validation_steps, **kwargs)\u001b[0m\n\u001b[1;32m   1703\u001b[0m                               \u001b[0minitial_epoch\u001b[0m\u001b[0;34m=\u001b[0m\u001b[0minitial_epoch\u001b[0m\u001b[0;34m,\u001b[0m\u001b[0;34m\u001b[0m\u001b[0m\n\u001b[1;32m   1704\u001b[0m                               \u001b[0msteps_per_epoch\u001b[0m\u001b[0;34m=\u001b[0m\u001b[0msteps_per_epoch\u001b[0m\u001b[0;34m,\u001b[0m\u001b[0;34m\u001b[0m\u001b[0m\n\u001b[0;32m-> 1705\u001b[0;31m                               validation_steps=validation_steps)\n\u001b[0m\u001b[1;32m   1706\u001b[0m \u001b[0;34m\u001b[0m\u001b[0m\n\u001b[1;32m   1707\u001b[0m     def evaluate(self, x=None, y=None,\n",
      "\u001b[0;32m/usr/local/lib/python3.6/site-packages/keras/engine/training.py\u001b[0m in \u001b[0;36m_fit_loop\u001b[0;34m(self, f, ins, out_labels, batch_size, epochs, verbose, callbacks, val_f, val_ins, shuffle, callback_metrics, initial_epoch, steps_per_epoch, validation_steps)\u001b[0m\n\u001b[1;32m   1233\u001b[0m                         \u001b[0mins_batch\u001b[0m\u001b[0;34m[\u001b[0m\u001b[0mi\u001b[0m\u001b[0;34m]\u001b[0m \u001b[0;34m=\u001b[0m \u001b[0mins_batch\u001b[0m\u001b[0;34m[\u001b[0m\u001b[0mi\u001b[0m\u001b[0;34m]\u001b[0m\u001b[0;34m.\u001b[0m\u001b[0mtoarray\u001b[0m\u001b[0;34m(\u001b[0m\u001b[0;34m)\u001b[0m\u001b[0;34m\u001b[0m\u001b[0m\n\u001b[1;32m   1234\u001b[0m \u001b[0;34m\u001b[0m\u001b[0m\n\u001b[0;32m-> 1235\u001b[0;31m                     \u001b[0mouts\u001b[0m \u001b[0;34m=\u001b[0m \u001b[0mf\u001b[0m\u001b[0;34m(\u001b[0m\u001b[0mins_batch\u001b[0m\u001b[0;34m)\u001b[0m\u001b[0;34m\u001b[0m\u001b[0m\n\u001b[0m\u001b[1;32m   1236\u001b[0m                     \u001b[0;32mif\u001b[0m \u001b[0;32mnot\u001b[0m \u001b[0misinstance\u001b[0m\u001b[0;34m(\u001b[0m\u001b[0mouts\u001b[0m\u001b[0;34m,\u001b[0m \u001b[0mlist\u001b[0m\u001b[0;34m)\u001b[0m\u001b[0;34m:\u001b[0m\u001b[0;34m\u001b[0m\u001b[0m\n\u001b[1;32m   1237\u001b[0m                         \u001b[0mouts\u001b[0m \u001b[0;34m=\u001b[0m \u001b[0;34m[\u001b[0m\u001b[0mouts\u001b[0m\u001b[0;34m]\u001b[0m\u001b[0;34m\u001b[0m\u001b[0m\n",
      "\u001b[0;32m/usr/local/lib/python3.6/site-packages/keras/backend/tensorflow_backend.py\u001b[0m in \u001b[0;36m__call__\u001b[0;34m(self, inputs)\u001b[0m\n\u001b[1;32m   2476\u001b[0m         \u001b[0msession\u001b[0m \u001b[0;34m=\u001b[0m \u001b[0mget_session\u001b[0m\u001b[0;34m(\u001b[0m\u001b[0;34m)\u001b[0m\u001b[0;34m\u001b[0m\u001b[0m\n\u001b[1;32m   2477\u001b[0m         updated = session.run(fetches=fetches, feed_dict=feed_dict,\n\u001b[0;32m-> 2478\u001b[0;31m                               **self.session_kwargs)\n\u001b[0m\u001b[1;32m   2479\u001b[0m         \u001b[0;32mreturn\u001b[0m \u001b[0mupdated\u001b[0m\u001b[0;34m[\u001b[0m\u001b[0;34m:\u001b[0m\u001b[0mlen\u001b[0m\u001b[0;34m(\u001b[0m\u001b[0mself\u001b[0m\u001b[0;34m.\u001b[0m\u001b[0moutputs\u001b[0m\u001b[0;34m)\u001b[0m\u001b[0;34m]\u001b[0m\u001b[0;34m\u001b[0m\u001b[0m\n\u001b[1;32m   2480\u001b[0m \u001b[0;34m\u001b[0m\u001b[0m\n",
      "\u001b[0;32m/usr/local/lib/python3.6/site-packages/tensorflow/python/client/session.py\u001b[0m in \u001b[0;36mrun\u001b[0;34m(self, fetches, feed_dict, options, run_metadata)\u001b[0m\n\u001b[1;32m    903\u001b[0m     \u001b[0;32mtry\u001b[0m\u001b[0;34m:\u001b[0m\u001b[0;34m\u001b[0m\u001b[0m\n\u001b[1;32m    904\u001b[0m       result = self._run(None, fetches, feed_dict, options_ptr,\n\u001b[0;32m--> 905\u001b[0;31m                          run_metadata_ptr)\n\u001b[0m\u001b[1;32m    906\u001b[0m       \u001b[0;32mif\u001b[0m \u001b[0mrun_metadata\u001b[0m\u001b[0;34m:\u001b[0m\u001b[0;34m\u001b[0m\u001b[0m\n\u001b[1;32m    907\u001b[0m         \u001b[0mproto_data\u001b[0m \u001b[0;34m=\u001b[0m \u001b[0mtf_session\u001b[0m\u001b[0;34m.\u001b[0m\u001b[0mTF_GetBuffer\u001b[0m\u001b[0;34m(\u001b[0m\u001b[0mrun_metadata_ptr\u001b[0m\u001b[0;34m)\u001b[0m\u001b[0;34m\u001b[0m\u001b[0m\n",
      "\u001b[0;32m/usr/local/lib/python3.6/site-packages/tensorflow/python/client/session.py\u001b[0m in \u001b[0;36m_run\u001b[0;34m(self, handle, fetches, feed_dict, options, run_metadata)\u001b[0m\n\u001b[1;32m   1135\u001b[0m     \u001b[0;32mif\u001b[0m \u001b[0mfinal_fetches\u001b[0m \u001b[0;32mor\u001b[0m \u001b[0mfinal_targets\u001b[0m \u001b[0;32mor\u001b[0m \u001b[0;34m(\u001b[0m\u001b[0mhandle\u001b[0m \u001b[0;32mand\u001b[0m \u001b[0mfeed_dict_tensor\u001b[0m\u001b[0;34m)\u001b[0m\u001b[0;34m:\u001b[0m\u001b[0;34m\u001b[0m\u001b[0m\n\u001b[1;32m   1136\u001b[0m       results = self._do_run(handle, final_targets, final_fetches,\n\u001b[0;32m-> 1137\u001b[0;31m                              feed_dict_tensor, options, run_metadata)\n\u001b[0m\u001b[1;32m   1138\u001b[0m     \u001b[0;32melse\u001b[0m\u001b[0;34m:\u001b[0m\u001b[0;34m\u001b[0m\u001b[0m\n\u001b[1;32m   1139\u001b[0m       \u001b[0mresults\u001b[0m \u001b[0;34m=\u001b[0m \u001b[0;34m[\u001b[0m\u001b[0;34m]\u001b[0m\u001b[0;34m\u001b[0m\u001b[0m\n",
      "\u001b[0;32m/usr/local/lib/python3.6/site-packages/tensorflow/python/client/session.py\u001b[0m in \u001b[0;36m_do_run\u001b[0;34m(self, handle, target_list, fetch_list, feed_dict, options, run_metadata)\u001b[0m\n\u001b[1;32m   1353\u001b[0m     \u001b[0;32mif\u001b[0m \u001b[0mhandle\u001b[0m \u001b[0;32mis\u001b[0m \u001b[0;32mNone\u001b[0m\u001b[0;34m:\u001b[0m\u001b[0;34m\u001b[0m\u001b[0m\n\u001b[1;32m   1354\u001b[0m       return self._do_call(_run_fn, self._session, feeds, fetches, targets,\n\u001b[0;32m-> 1355\u001b[0;31m                            options, run_metadata)\n\u001b[0m\u001b[1;32m   1356\u001b[0m     \u001b[0;32melse\u001b[0m\u001b[0;34m:\u001b[0m\u001b[0;34m\u001b[0m\u001b[0m\n\u001b[1;32m   1357\u001b[0m       \u001b[0;32mreturn\u001b[0m \u001b[0mself\u001b[0m\u001b[0;34m.\u001b[0m\u001b[0m_do_call\u001b[0m\u001b[0;34m(\u001b[0m\u001b[0m_prun_fn\u001b[0m\u001b[0;34m,\u001b[0m \u001b[0mself\u001b[0m\u001b[0;34m.\u001b[0m\u001b[0m_session\u001b[0m\u001b[0;34m,\u001b[0m \u001b[0mhandle\u001b[0m\u001b[0;34m,\u001b[0m \u001b[0mfeeds\u001b[0m\u001b[0;34m,\u001b[0m \u001b[0mfetches\u001b[0m\u001b[0;34m)\u001b[0m\u001b[0;34m\u001b[0m\u001b[0m\n",
      "\u001b[0;32m/usr/local/lib/python3.6/site-packages/tensorflow/python/client/session.py\u001b[0m in \u001b[0;36m_do_call\u001b[0;34m(self, fn, *args)\u001b[0m\n\u001b[1;32m   1359\u001b[0m   \u001b[0;32mdef\u001b[0m \u001b[0m_do_call\u001b[0m\u001b[0;34m(\u001b[0m\u001b[0mself\u001b[0m\u001b[0;34m,\u001b[0m \u001b[0mfn\u001b[0m\u001b[0;34m,\u001b[0m \u001b[0;34m*\u001b[0m\u001b[0margs\u001b[0m\u001b[0;34m)\u001b[0m\u001b[0;34m:\u001b[0m\u001b[0;34m\u001b[0m\u001b[0m\n\u001b[1;32m   1360\u001b[0m     \u001b[0;32mtry\u001b[0m\u001b[0;34m:\u001b[0m\u001b[0;34m\u001b[0m\u001b[0m\n\u001b[0;32m-> 1361\u001b[0;31m       \u001b[0;32mreturn\u001b[0m \u001b[0mfn\u001b[0m\u001b[0;34m(\u001b[0m\u001b[0;34m*\u001b[0m\u001b[0margs\u001b[0m\u001b[0;34m)\u001b[0m\u001b[0;34m\u001b[0m\u001b[0m\n\u001b[0m\u001b[1;32m   1362\u001b[0m     \u001b[0;32mexcept\u001b[0m \u001b[0merrors\u001b[0m\u001b[0;34m.\u001b[0m\u001b[0mOpError\u001b[0m \u001b[0;32mas\u001b[0m \u001b[0me\u001b[0m\u001b[0;34m:\u001b[0m\u001b[0;34m\u001b[0m\u001b[0m\n\u001b[1;32m   1363\u001b[0m       \u001b[0mmessage\u001b[0m \u001b[0;34m=\u001b[0m \u001b[0mcompat\u001b[0m\u001b[0;34m.\u001b[0m\u001b[0mas_text\u001b[0m\u001b[0;34m(\u001b[0m\u001b[0me\u001b[0m\u001b[0;34m.\u001b[0m\u001b[0mmessage\u001b[0m\u001b[0;34m)\u001b[0m\u001b[0;34m\u001b[0m\u001b[0m\n",
      "\u001b[0;32m/usr/local/lib/python3.6/site-packages/tensorflow/python/client/session.py\u001b[0m in \u001b[0;36m_run_fn\u001b[0;34m(session, feed_dict, fetch_list, target_list, options, run_metadata)\u001b[0m\n\u001b[1;32m   1338\u001b[0m         \u001b[0;32melse\u001b[0m\u001b[0;34m:\u001b[0m\u001b[0;34m\u001b[0m\u001b[0m\n\u001b[1;32m   1339\u001b[0m           return tf_session.TF_Run(session, options, feed_dict, fetch_list,\n\u001b[0;32m-> 1340\u001b[0;31m                                    target_list, status, run_metadata)\n\u001b[0m\u001b[1;32m   1341\u001b[0m \u001b[0;34m\u001b[0m\u001b[0m\n\u001b[1;32m   1342\u001b[0m     \u001b[0;32mdef\u001b[0m \u001b[0m_prun_fn\u001b[0m\u001b[0;34m(\u001b[0m\u001b[0msession\u001b[0m\u001b[0;34m,\u001b[0m \u001b[0mhandle\u001b[0m\u001b[0;34m,\u001b[0m \u001b[0mfeed_dict\u001b[0m\u001b[0;34m,\u001b[0m \u001b[0mfetch_list\u001b[0m\u001b[0;34m)\u001b[0m\u001b[0;34m:\u001b[0m\u001b[0;34m\u001b[0m\u001b[0m\n",
      "\u001b[0;31mKeyboardInterrupt\u001b[0m: "
     ]
    }
   ],
   "source": [
    "prefix_cls = cur_class.split('_')[0]\n",
    "\n",
    "model.compile(loss='categorical_crossentropy',\n",
    "              optimizer=optimizers.RMSprop(lr=1e-4),\n",
    "              metrics=['acc'])\n",
    "\n",
    "checkpoint = ModelCheckpoint(filepath='./models/{0}.best.h5'.format(prefix_cls), monitor='val_loss', verbose=1, save_best_only=True, mode='min')\n",
    "early = EarlyStopping(monitor=\"val_loss\", mode=\"min\", patience=20)\n",
    "\n",
    "callbacks_list = [checkpoint, early] #early\n",
    "history = model.fit(\n",
    "    X_train, \n",
    "    y_train, \n",
    "    batch_size=int(810/32), \n",
    "    epochs=10,\n",
    "    callbacks=callbacks_list,\n",
    "    shuffle=True, \n",
    "    validation_split=0.1)"
   ]
  },
  {
   "cell_type": "code",
   "execution_count": 18,
   "metadata": {},
   "outputs": [
    {
     "name": "stdout",
     "output_type": "stream",
     "text": [
      "100/100 [==============================] - 36s 357ms/step\n"
     ]
    },
    {
     "data": {
      "text/plain": [
       "[1.9702762794494628, 0.15]"
      ]
     },
     "execution_count": 18,
     "metadata": {},
     "output_type": "execute_result"
    }
   ],
   "source": [
    "model.evaluate(X_test, y_test)"
   ]
  },
  {
   "cell_type": "code",
   "execution_count": null,
   "metadata": {
    "collapsed": true
   },
   "outputs": [],
   "source": [
    "import matplotlib.pyplot as plt\n",
    "\n",
    "acc = history.history['acc'] \n",
    "val_acc = history.history['val_acc'] \n",
    "loss = history.history['loss'] \n",
    "val_loss = history.history['val_loss']\n",
    "\n",
    "epochs = range(1, len(acc) + 1)\n",
    "\n",
    "plt.plot(epochs, acc, 'bo', label='Training acc') \n",
    "plt.plot(epochs, val_acc, 'b', label='Validation acc') \n",
    "plt.title('Training and validation accuracy') \n",
    "plt.legend()\n",
    "\n",
    "plt.figure()\n",
    "\n",
    "plt.plot(epochs, loss, 'bo', label='Training loss') \n",
    "plt.plot(epochs, val_loss, 'b', label='Validation loss') \n",
    "plt.title('Training and validation loss') \n",
    "plt.legend()\n",
    "\n",
    "plt.show()"
   ]
  },
  {
   "cell_type": "code",
   "execution_count": 21,
   "metadata": {},
   "outputs": [
    {
     "name": "stdout",
     "output_type": "stream",
     "text": [
      "[[0.11388171 0.25267315 0.4675808  0.04555008 0.12031426]]\n",
      "nnynn\n"
     ]
    }
   ],
   "source": [
    "from keras.preprocessing import image\n",
    "\n",
    "\n",
    "def load_image(img_path, show=False):\n",
    "\n",
    "    img = image.load_img(img_path, target_size=(224, 224))\n",
    "    img_tensor = image.img_to_array(img)                    # (height, width, channels)\n",
    "    img_tensor = np.expand_dims(img_tensor, axis=0)         # (1, height, width, channels), add a dimension because the model expects this shape: (batch_size, height, width, channels)\n",
    "    img_tensor /= 255.                                      # imshow expects values in the range [0, 1]\n",
    "\n",
    "    if show:\n",
    "        plt.imshow(img_tensor[0])                           \n",
    "        plt.axis('off')\n",
    "        plt.show()\n",
    "\n",
    "    return img_tensor\n",
    "\n",
    "df_new = df_train[(df_train['class'] == cur_class)].head(2000)\n",
    "image_id = df_new['image_id'][1200]\n",
    "new_image_label = df_new['label'][1200]\n",
    "\n",
    "img_path = os.path.join(\"./data/base/\", image_id)\n",
    "new_image = load_image(img_path)\n",
    "pred = model.predict(new_image) \n",
    "print(pred)\n",
    "print(new_image_label)"
   ]
  },
  {
   "cell_type": "code",
   "execution_count": null,
   "metadata": {
    "collapsed": true
   },
   "outputs": [],
   "source": []
  }
 ],
 "metadata": {
  "kernelspec": {
   "display_name": "Python 2",
   "language": "python",
   "name": "python2"
  },
  "language_info": {
   "codemirror_mode": {
    "name": "ipython",
    "version": 2
   },
   "file_extension": ".py",
   "mimetype": "text/x-python",
   "name": "python",
   "nbconvert_exporter": "python",
   "pygments_lexer": "ipython2",
   "version": "2.7.14"
  }
 },
 "nbformat": 4,
 "nbformat_minor": 2
}
