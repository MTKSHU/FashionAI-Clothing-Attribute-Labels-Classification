{
 "cells": [
  {
   "cell_type": "code",
   "execution_count": 1,
   "metadata": {
    "ExecuteTime": {
     "end_time": "2018-04-20T14:56:14.351592Z",
     "start_time": "2018-04-20T14:55:49.552087Z"
    }
   },
   "outputs": [
    {
     "name": "stderr",
     "output_type": "stream",
     "text": [
      "Using TensorFlow backend.\n"
     ]
    }
   ],
   "source": [
    "import os\n",
    "os.environ['CUDA_VISIBLE_DEVICES'] = '1'\n",
    "n_gpus = len(os.environ['CUDA_VISIBLE_DEVICES'].split(','))\n",
    "model_name = 'ception_8classifier_trained'\n",
    "trainval_split_ratio = 0.88\n",
    "train_batch_size =16\n",
    "\n",
    "import keras.backend as K\n",
    "import tensorflow as tf\n",
    "\n",
    "# gpu_options = tf.GPUOptions(per_process_gpu_memory_fraction=0.7)\n",
    "# sess = tf.Session(config=tf.ConfigProto(gpu_options=gpu_options))"
   ]
  },
  {
   "cell_type": "markdown",
   "metadata": {},
   "source": [
    "# 导入必要的库"
   ]
  },
  {
   "cell_type": "code",
   "execution_count": 2,
   "metadata": {
    "ExecuteTime": {
     "end_time": "2018-04-20T14:56:16.837065Z",
     "start_time": "2018-04-20T14:56:14.354418Z"
    }
   },
   "outputs": [],
   "source": [
    "import numpy as np\n",
    "import pandas as pd\n",
    "from keras.layers import *\n",
    "from keras.models import *\n",
    "from keras.optimizers import *\n",
    "from keras.applications import *\n",
    "from keras.regularizers import l2\n",
    "\n",
    "from keras.preprocessing.image import *\n",
    "\n",
    "import matplotlib.pyplot as plt\n",
    "import random\n",
    "import os\n",
    "import cv2\n",
    "from tqdm import tqdm\n",
    "from glob import glob\n",
    "import multiprocessing\n",
    "\n",
    "from sklearn.model_selection import train_test_split\n",
    "from collections import Counter\n",
    "from keras import backend as K\n",
    "from keras.utils import multi_gpu_model\n",
    "\n",
    "from IPython.display import display, Image\n",
    "\n",
    "%matplotlib inline\n",
    "%config InlineBackend.figure_format = 'retina'"
   ]
  },
  {
   "cell_type": "markdown",
   "metadata": {},
   "source": [
    "# 读取数据集"
   ]
  },
  {
   "cell_type": "code",
   "execution_count": 3,
   "metadata": {
    "ExecuteTime": {
     "end_time": "2018-04-20T14:56:17.340855Z",
     "start_time": "2018-04-20T14:56:16.839642Z"
    }
   },
   "outputs": [
    {
     "data": {
      "text/html": [
       "<div>\n",
       "<style scoped>\n",
       "    .dataframe tbody tr th:only-of-type {\n",
       "        vertical-align: middle;\n",
       "    }\n",
       "\n",
       "    .dataframe tbody tr th {\n",
       "        vertical-align: top;\n",
       "    }\n",
       "\n",
       "    .dataframe thead th {\n",
       "        text-align: right;\n",
       "    }\n",
       "</style>\n",
       "<table border=\"1\" class=\"dataframe\">\n",
       "  <thead>\n",
       "    <tr style=\"text-align: right;\">\n",
       "      <th></th>\n",
       "      <th>filename</th>\n",
       "      <th>label_name</th>\n",
       "      <th>label</th>\n",
       "    </tr>\n",
       "  </thead>\n",
       "  <tbody>\n",
       "    <tr>\n",
       "      <th>0</th>\n",
       "      <td>Images/skirt_length_labels/b25a30c958f2c730829...</td>\n",
       "      <td>skirt_length</td>\n",
       "      <td>nnnnny</td>\n",
       "    </tr>\n",
       "    <tr>\n",
       "      <th>1</th>\n",
       "      <td>Images/coat_length_labels/7f8906613615aa828171...</td>\n",
       "      <td>coat_length</td>\n",
       "      <td>nynnnnnn</td>\n",
       "    </tr>\n",
       "    <tr>\n",
       "      <th>2</th>\n",
       "      <td>Images/sleeve_length_labels/2a0928a3ad9b3d2287...</td>\n",
       "      <td>sleeve_length</td>\n",
       "      <td>nnynnnnnn</td>\n",
       "    </tr>\n",
       "    <tr>\n",
       "      <th>3</th>\n",
       "      <td>Images/skirt_length_labels/ccc4dc71ddf9dc7f404...</td>\n",
       "      <td>skirt_length</td>\n",
       "      <td>nnnynn</td>\n",
       "    </tr>\n",
       "    <tr>\n",
       "      <th>4</th>\n",
       "      <td>Images/sleeve_length_labels/333f6914602312723f...</td>\n",
       "      <td>sleeve_length</td>\n",
       "      <td>nymnnnnnn</td>\n",
       "    </tr>\n",
       "  </tbody>\n",
       "</table>\n",
       "</div>"
      ],
      "text/plain": [
       "                                            filename     label_name      label\n",
       "0  Images/skirt_length_labels/b25a30c958f2c730829...   skirt_length     nnnnny\n",
       "1  Images/coat_length_labels/7f8906613615aa828171...    coat_length   nynnnnnn\n",
       "2  Images/sleeve_length_labels/2a0928a3ad9b3d2287...  sleeve_length  nnynnnnnn\n",
       "3  Images/skirt_length_labels/ccc4dc71ddf9dc7f404...   skirt_length     nnnynn\n",
       "4  Images/sleeve_length_labels/333f6914602312723f...  sleeve_length  nymnnnnnn"
      ]
     },
     "metadata": {},
     "output_type": "display_data"
    },
    {
     "data": {
      "text/plain": [
       "Counter({'coat_length': 11320,\n",
       "         'collar_design': 8393,\n",
       "         'lapel_design': 7034,\n",
       "         'neck_design': 5696,\n",
       "         'neckline_design': 17148,\n",
       "         'pant_length': 7460,\n",
       "         'skirt_length': 19333,\n",
       "         'sleeve_length': 13299})"
      ]
     },
     "execution_count": 3,
     "metadata": {},
     "output_type": "execute_result"
    }
   ],
   "source": [
    "df = pd.read_csv('../train/Annotations/train.csv', header=None)\n",
    "df.columns = ['filename', 'label_name', 'label']\n",
    "df = df.sample(frac=1).reset_index(drop=True) # shuffle\n",
    "\n",
    "df.label_name = df.label_name.str.replace('_labels', '')\n",
    "\n",
    "display(df.head())\n",
    "c = Counter(df.label_name)\n",
    "c"
   ]
  },
  {
   "cell_type": "code",
   "execution_count": 4,
   "metadata": {
    "ExecuteTime": {
     "end_time": "2018-04-20T14:56:18.071349Z",
     "start_time": "2018-04-20T14:56:17.342873Z"
    },
    "code_folding": []
   },
   "outputs": [
    {
     "data": {
      "text/plain": [
       "{'coat_length': 8,\n",
       " 'collar_design': 5,\n",
       " 'lapel_design': 5,\n",
       " 'neck_design': 5,\n",
       " 'neckline_design': 10,\n",
       " 'pant_length': 6,\n",
       " 'skirt_length': 6,\n",
       " 'sleeve_length': 9}"
      ]
     },
     "metadata": {},
     "output_type": "display_data"
    }
   ],
   "source": [
    "label_count = dict([(x, len(df[df.label_name == x].label.values[0])) for x in c.keys()])\n",
    "label_names = list(label_count.keys())\n",
    "display(label_count)"
   ]
  },
  {
   "cell_type": "markdown",
   "metadata": {},
   "source": [
    "## 生成 y"
   ]
  },
  {
   "cell_type": "code",
   "execution_count": 5,
   "metadata": {
    "ExecuteTime": {
     "end_time": "2018-04-20T14:56:24.320602Z",
     "start_time": "2018-04-20T14:56:18.074167Z"
    }
   },
   "outputs": [],
   "source": [
    "fnames = df['filename'].values\n",
    "#width = 331\n",
    "width = 299\n",
    "n = len(df)\n",
    "y = [np.zeros((n, label_count[x])) for x in label_count.keys()]\n",
    "for i in range(n):\n",
    "    label_name = df.label_name[i]\n",
    "    label = df.label[i]\n",
    "    y[label_names.index(label_name)][i, label.find('y')] = 1"
   ]
  },
  {
   "cell_type": "markdown",
   "metadata": {},
   "source": [
    "## 读取图片"
   ]
  },
  {
   "cell_type": "code",
   "execution_count": 6,
   "metadata": {
    "ExecuteTime": {
     "end_time": "2018-04-20T15:14:40.559798Z",
     "start_time": "2018-04-20T14:56:24.323021Z"
    },
    "code_folding": []
   },
   "outputs": [
    {
     "name": "stderr",
     "output_type": "stream",
     "text": [
      "100%|██████████| 89683/89683 [18:15<00:00, 81.88it/s] \n"
     ]
    }
   ],
   "source": [
    "def f(index):\n",
    "    return index, cv2.resize(cv2.imread('../train/'+fnames[index]), (width, width))\n",
    "\n",
    "X = np.zeros((n, width, width, 3), dtype=np.uint8)\n",
    "with multiprocessing.Pool(30) as pool:\n",
    "    with tqdm(pool.imap_unordered(f, range(n)), total=n) as pbar:\n",
    "        for i, img in pbar:\n",
    "            X[i] = img[:,:,::-1]"
   ]
  },
  {
   "cell_type": "code",
   "execution_count": 7,
   "metadata": {
    "ExecuteTime": {
     "end_time": "2018-04-20T15:14:43.813353Z",
     "start_time": "2018-04-20T15:14:41.486546Z"
    }
   },
   "outputs": [],
   "source": [
    "n_train = int(n*trainval_split_ratio)\n",
    "\n",
    "X_train = X[:n_train]\n",
    "X_valid = X[n_train:]\n",
    "y_train = [x[:n_train] for x in y]\n",
    "y_valid = [x[n_train:] for x in y]"
   ]
  },
  {
   "cell_type": "code",
   "execution_count": 8,
   "metadata": {
    "ExecuteTime": {
     "end_time": "2018-04-20T15:14:45.865806Z",
     "start_time": "2018-04-20T15:14:43.816247Z"
    }
   },
   "outputs": [],
   "source": [
    "def display_images(imgs, w=8, h=4, figsize=(24, 12)):\n",
    "    plt.figure(figsize=figsize)\n",
    "    for i in range(w*h):\n",
    "        plt.subplot(h, w, i+1)\n",
    "        plt.imshow(imgs[i])"
   ]
  },
  {
   "cell_type": "code",
   "execution_count": 9,
   "metadata": {
    "ExecuteTime": {
     "end_time": "2018-04-20T15:14:46.658451Z",
     "start_time": "2018-04-20T15:14:45.868437Z"
    }
   },
   "outputs": [],
   "source": [
    "class Generator():\n",
    "    def __init__(self, X, y, batch_size=32, aug=False):\n",
    "        def generator():\n",
    "            idg = ImageDataGenerator(horizontal_flip=True,\n",
    "                                     rotation_range=15,\n",
    "                                     zoom_range=0.15)\n",
    "            while True:\n",
    "                for i in range(0, len(X), batch_size):\n",
    "                    X_batch = X[i:i+batch_size].copy()\n",
    "                    y_barch = [x[i:i+batch_size] for x in y]\n",
    "                    if aug:\n",
    "                        for j in range(len(X_batch)):\n",
    "                            X_batch[j] = idg.random_transform(X_batch[j])\n",
    "                    yield X_batch, y_barch\n",
    "        self.generator = generator()\n",
    "        self.steps = len(X) // batch_size + 1"
   ]
  },
  {
   "cell_type": "code",
   "execution_count": 10,
   "metadata": {
    "ExecuteTime": {
     "end_time": "2018-04-20T15:14:47.242919Z",
     "start_time": "2018-04-20T15:14:46.661108Z"
    }
   },
   "outputs": [],
   "source": [
    "gen_train = Generator(X_train, y_train, batch_size=train_batch_size, aug=True)"
   ]
  },
  {
   "cell_type": "markdown",
   "metadata": {},
   "source": [
    "# 数据集探索\n",
    "\n",
    "## 类别分布"
   ]
  },
  {
   "cell_type": "code",
   "execution_count": 11,
   "metadata": {
    "ExecuteTime": {
     "end_time": "2018-04-20T15:14:47.699674Z",
     "start_time": "2018-04-20T15:14:47.245322Z"
    }
   },
   "outputs": [],
   "source": [
    "# plt.figure(figsize=(26, 14))\n",
    "# for i in range(8):\n",
    "#     plt.subplot(2, 4, i+1)\n",
    "#     counts = Counter(y[i].argmax(axis=-1)[np.where(y[i].any(axis=-1))])\n",
    "#     pd.Series(counts).plot('bar')"
   ]
  },
  {
   "cell_type": "markdown",
   "metadata": {},
   "source": [
    "### 抽样可视化"
   ]
  },
  {
   "cell_type": "code",
   "execution_count": 12,
   "metadata": {
    "ExecuteTime": {
     "end_time": "2018-04-20T15:14:48.050277Z",
     "start_time": "2018-04-20T15:14:47.702008Z"
    }
   },
   "outputs": [],
   "source": [
    "# plt.figure(figsize=(26, 14))\n",
    "# w = 8\n",
    "# h = 4\n",
    "# for i in range(w*h):\n",
    "#     plt.subplot(h, w, i+1)\n",
    "#     index = np.random.randint(n)\n",
    "#     plt.title(str([y[x][index].argmax() if y[x][index].any() else -1 for x in range(8) ]))\n",
    "#     plt.imshow(X[index])\n",
    "#     plt.axis('off')"
   ]
  },
  {
   "cell_type": "markdown",
   "metadata": {},
   "source": [
    "# 搭建模型并训练\n",
    "\n",
    "## 搭建模型"
   ]
  },
  {
   "cell_type": "code",
   "execution_count": 13,
   "metadata": {
    "ExecuteTime": {
     "end_time": "2018-04-20T15:14:48.534710Z",
     "start_time": "2018-04-20T15:14:48.053947Z"
    }
   },
   "outputs": [],
   "source": [
    "def acc(y_true, y_pred):\n",
    "    index = tf.reduce_any(y_true > 0.5, axis=-1)\n",
    "    res = tf.equal(tf.argmax(y_true, axis=-1), tf.argmax(y_pred, axis=-1))\n",
    "    index = tf.cast(index, tf.float32)\n",
    "    res = tf.cast(res, tf.float32)\n",
    "    return tf.reduce_sum(res * index) / (tf.reduce_sum(index) + 1e-7)"
   ]
  },
  {
   "cell_type": "code",
   "execution_count": 14,
   "metadata": {
    "ExecuteTime": {
     "end_time": "2018-04-20T15:16:42.942025Z",
     "start_time": "2018-04-20T15:14:48.538461Z"
    }
   },
   "outputs": [],
   "source": [
    "base_model = InceptionResNetV2(weights='imagenet', input_shape=(width, width, 3), include_top=False, pooling='avg')\n",
    "#InceptionResNetV2,Xception\n",
    "input_tensor = Input((width, width, 3))\n",
    "x = input_tensor\n",
    "x = Lambda(nasnet.preprocess_input)(x)\n",
    "x = base_model(x)\n",
    "x = Dropout(0.5)(x)\n",
    "x = [Dense(count, activation='softmax', name=name)(x) for name, count in label_count.items()]\n",
    "\n",
    "model = Model(input_tensor, x)\n",
    "model.compile(optimizer='adam', loss='categorical_crossentropy', metrics=['acc'])\n",
    "\n",
    "from IPython.display import SVG\n",
    "#from keras.utils.vis_utils import model_to_dot, plot_model\n",
    "\n",
    "#plot_model(model, show_shapes=True, to_file='model_simple.png')\n",
    "#SVG(model_to_dot(model, show_shapes=True).create(prog='dot', format='svg'))"
   ]
  },
  {
   "cell_type": "code",
   "execution_count": 15,
   "metadata": {
    "ExecuteTime": {
     "end_time": "2018-04-20T15:16:43.207161Z",
     "start_time": "2018-04-20T15:16:42.993890Z"
    }
   },
   "outputs": [],
   "source": [
    "#model2 = multi_gpu_model(model, n_gpus)\n",
    "model2 = model"
   ]
  },
  {
   "cell_type": "code",
   "execution_count": 16,
   "metadata": {
    "ExecuteTime": {
     "end_time": "2018-04-20T15:16:43.884175Z",
     "start_time": "2018-04-20T15:16:43.209862Z"
    }
   },
   "outputs": [],
   "source": [
    "opt = SGD(1e-2, momentum=0.9, nesterov=True, decay=0.01/40)"
   ]
  },
  {
   "cell_type": "code",
   "execution_count": 17,
   "metadata": {
    "ExecuteTime": {
     "end_time": "2018-04-20T17:50:57.650281Z",
     "start_time": "2018-04-20T15:16:43.963238Z"
    }
   },
   "outputs": [
    {
     "name": "stdout",
     "output_type": "stream",
     "text": [
      "Epoch 1/4\n",
      "4933/4933 [==============================] - 2401s 487ms/step - loss: 0.8771 - skirt_length_loss: 0.1390 - coat_length_loss: 0.1130 - sleeve_length_loss: 0.1350 - lapel_design_loss: 0.0679 - neckline_design_loss: 0.2116 - collar_design_loss: 0.0830 - pant_length_loss: 0.0589 - neck_design_loss: 0.0685 - skirt_length_acc: 0.7480 - coat_length_acc: 0.5936 - sleeve_length_acc: 0.6009 - lapel_design_acc: 0.4883 - neckline_design_acc: 0.5939 - collar_design_acc: 0.5248 - pant_length_acc: 0.5490 - neck_design_acc: 0.3722 - val_loss: 0.5512 - val_skirt_length_loss: 0.0928 - val_coat_length_loss: 0.0634 - val_sleeve_length_loss: 0.0747 - val_lapel_design_loss: 0.0452 - val_neckline_design_loss: 0.1280 - val_collar_design_loss: 0.0622 - val_pant_length_loss: 0.0349 - val_neck_design_loss: 0.0500 - val_skirt_length_acc: 0.7626 - val_coat_length_acc: 0.5751 - val_sleeve_length_acc: 0.6176 - val_lapel_design_acc: 0.3922 - val_neckline_design_acc: 0.6700 - val_collar_design_acc: 0.4525 - val_pant_length_acc: 0.4351 - val_neck_design_acc: 0.3239\n",
      "Epoch 2/4\n",
      "4933/4933 [==============================] - 2329s 472ms/step - loss: 0.4824 - skirt_length_loss: 0.0755 - coat_length_loss: 0.0659 - sleeve_length_loss: 0.0691 - lapel_design_loss: 0.0350 - neckline_design_loss: 0.1119 - collar_design_loss: 0.0485 - pant_length_loss: 0.0334 - neck_design_loss: 0.0432 - skirt_length_acc: 0.8555 - coat_length_acc: 0.7218 - sleeve_length_acc: 0.7621 - lapel_design_acc: 0.6146 - neckline_design_acc: 0.7779 - collar_design_acc: 0.6433 - pant_length_acc: 0.6389 - neck_design_acc: 0.4846 - val_loss: 0.4214 - val_skirt_length_loss: 0.0662 - val_coat_length_loss: 0.0494 - val_sleeve_length_loss: 0.0626 - val_lapel_design_loss: 0.0337 - val_neckline_design_loss: 0.0979 - val_collar_design_loss: 0.0444 - val_pant_length_loss: 0.0280 - val_neck_design_loss: 0.0392 - val_skirt_length_acc: 0.8033 - val_coat_length_acc: 0.6012 - val_sleeve_length_acc: 0.6465 - val_lapel_design_acc: 0.4252 - val_neckline_design_acc: 0.7141 - val_collar_design_acc: 0.5051 - val_pant_length_acc: 0.4478 - val_neck_design_acc: 0.3535\n",
      "Epoch 3/4\n",
      "4933/4933 [==============================] - 2291s 464ms/step - loss: 0.3495 - skirt_length_loss: 0.0528 - coat_length_loss: 0.0490 - sleeve_length_loss: 0.0500 - lapel_design_loss: 0.0235 - neckline_design_loss: 0.0820 - collar_design_loss: 0.0356 - pant_length_loss: 0.0244 - neck_design_loss: 0.0323 - skirt_length_acc: 0.8924 - coat_length_acc: 0.7605 - sleeve_length_acc: 0.8068 - lapel_design_acc: 0.6537 - neckline_design_acc: 0.8268 - collar_design_acc: 0.6846 - pant_length_acc: 0.6748 - neck_design_acc: 0.5296 - val_loss: 0.4016 - val_skirt_length_loss: 0.0605 - val_coat_length_loss: 0.0518 - val_sleeve_length_loss: 0.0532 - val_lapel_design_loss: 0.0346 - val_neckline_design_loss: 0.0935 - val_collar_design_loss: 0.0418 - val_pant_length_loss: 0.0287 - val_neck_design_loss: 0.0375 - val_skirt_length_acc: 0.8082 - val_coat_length_acc: 0.6043 - val_sleeve_length_acc: 0.6706 - val_lapel_design_acc: 0.4286 - val_neckline_design_acc: 0.7321 - val_collar_design_acc: 0.5108 - val_pant_length_acc: 0.4529 - val_neck_design_acc: 0.3639\n",
      "Epoch 4/4\n",
      "4933/4933 [==============================] - 2217s 449ms/step - loss: 0.2658 - skirt_length_loss: 0.0385 - coat_length_loss: 0.0375 - sleeve_length_loss: 0.0371 - lapel_design_loss: 0.0172 - neckline_design_loss: 0.0631 - collar_design_loss: 0.0272 - pant_length_loss: 0.0195 - neck_design_loss: 0.0257 - skirt_length_acc: 0.9193 - coat_length_acc: 0.7911 - sleeve_length_acc: 0.8390 - lapel_design_acc: 0.6765 - neckline_design_acc: 0.8607 - collar_design_acc: 0.7135 - pant_length_acc: 0.6930 - neck_design_acc: 0.5583 - val_loss: 0.3834 - val_skirt_length_loss: 0.0477 - val_coat_length_loss: 0.0512 - val_sleeve_length_loss: 0.0562 - val_lapel_design_loss: 0.0332 - val_neckline_design_loss: 0.0923 - val_collar_design_loss: 0.0417 - val_pant_length_loss: 0.0265 - val_neck_design_loss: 0.0346 - val_skirt_length_acc: 0.8254 - val_coat_length_acc: 0.6016 - val_sleeve_length_acc: 0.6657 - val_lapel_design_acc: 0.4397 - val_neckline_design_acc: 0.7323 - val_collar_design_acc: 0.5133 - val_pant_length_acc: 0.4570 - val_neck_design_acc: 0.3682\n"
     ]
    },
    {
     "data": {
      "text/plain": [
       "<keras.callbacks.History at 0x7ef621fa6198>"
      ]
     },
     "execution_count": 17,
     "metadata": {},
     "output_type": "execute_result"
    }
   ],
   "source": [
    "model2.compile(optimizer=opt, loss='categorical_crossentropy', metrics=[acc])\n",
    "model2.fit_generator(gen_train.generator, steps_per_epoch=gen_train.steps, epochs=4, validation_data=(X_valid, y_valid))"
   ]
  },
  {
   "cell_type": "code",
   "execution_count": 18,
   "metadata": {
    "ExecuteTime": {
     "end_time": "2018-04-20T20:20:59.199961Z",
     "start_time": "2018-04-20T17:50:57.653916Z"
    },
    "scrolled": false
   },
   "outputs": [
    {
     "name": "stdout",
     "output_type": "stream",
     "text": [
      "Epoch 1/4\n",
      "4933/4933 [==============================] - 2258s 458ms/step - loss: 0.3937 - skirt_length_loss: 0.0625 - coat_length_loss: 0.0549 - sleeve_length_loss: 0.0563 - lapel_design_loss: 0.0268 - neckline_design_loss: 0.0909 - collar_design_loss: 0.0381 - pant_length_loss: 0.0300 - neck_design_loss: 0.0341 - skirt_length_acc: 0.8769 - coat_length_acc: 0.7446 - sleeve_length_acc: 0.7919 - lapel_design_acc: 0.6406 - neckline_design_acc: 0.8154 - collar_design_acc: 0.6726 - pant_length_acc: 0.6510 - neck_design_acc: 0.5199 - val_loss: 0.4851 - val_skirt_length_loss: 0.0793 - val_coat_length_loss: 0.0730 - val_sleeve_length_loss: 0.0613 - val_lapel_design_loss: 0.0402 - val_neckline_design_loss: 0.1059 - val_collar_design_loss: 0.0479 - val_pant_length_loss: 0.0316 - val_neck_design_loss: 0.0460 - val_skirt_length_acc: 0.8571 - val_coat_length_acc: 0.7006 - val_sleeve_length_acc: 0.7813 - val_lapel_design_acc: 0.6064 - val_neckline_design_acc: 0.7913 - val_collar_design_acc: 0.6599 - val_pant_length_acc: 0.6370 - val_neck_design_acc: 0.5200\n",
      "Epoch 2/4\n",
      "4933/4933 [==============================] - 2236s 453ms/step - loss: 0.3364 - skirt_length_loss: 0.0529 - coat_length_loss: 0.0484 - sleeve_length_loss: 0.0486 - lapel_design_loss: 0.0213 - neckline_design_loss: 0.0772 - collar_design_loss: 0.0328 - pant_length_loss: 0.0261 - neck_design_loss: 0.0290 - skirt_length_acc: 0.8941 - coat_length_acc: 0.7659 - sleeve_length_acc: 0.8097 - lapel_design_acc: 0.6611 - neckline_design_acc: 0.8368 - collar_design_acc: 0.6980 - pant_length_acc: 0.6645 - neck_design_acc: 0.5418 - val_loss: 0.5017 - val_skirt_length_loss: 0.0774 - val_coat_length_loss: 0.0554 - val_sleeve_length_loss: 0.0867 - val_lapel_design_loss: 0.0319 - val_neckline_design_loss: 0.1134 - val_collar_design_loss: 0.0483 - val_pant_length_loss: 0.0328 - val_neck_design_loss: 0.0557 - val_skirt_length_acc: 0.8508 - val_coat_length_acc: 0.7617 - val_sleeve_length_acc: 0.7456 - val_lapel_design_acc: 0.6259 - val_neckline_design_acc: 0.7975 - val_collar_design_acc: 0.6707 - val_pant_length_acc: 0.6208 - val_neck_design_acc: 0.4989\n",
      "Epoch 3/4\n",
      "4933/4933 [==============================] - 2236s 453ms/step - loss: 0.2832 - skirt_length_loss: 0.0422 - coat_length_loss: 0.0413 - sleeve_length_loss: 0.0408 - lapel_design_loss: 0.0182 - neckline_design_loss: 0.0661 - collar_design_loss: 0.0273 - pant_length_loss: 0.0215 - neck_design_loss: 0.0260 - skirt_length_acc: 0.9131 - coat_length_acc: 0.7794 - sleeve_length_acc: 0.8308 - lapel_design_acc: 0.6748 - neckline_design_acc: 0.8591 - collar_design_acc: 0.7149 - pant_length_acc: 0.6872 - neck_design_acc: 0.5530 - val_loss: 0.4711 - val_skirt_length_loss: 0.0729 - val_coat_length_loss: 0.0682 - val_sleeve_length_loss: 0.0602 - val_lapel_design_loss: 0.0442 - val_neckline_design_loss: 0.1008 - val_collar_design_loss: 0.0589 - val_pant_length_loss: 0.0332 - val_neck_design_loss: 0.0327 - val_skirt_length_acc: 0.8697 - val_coat_length_acc: 0.7334 - val_sleeve_length_acc: 0.7859 - val_lapel_design_acc: 0.6079 - val_neckline_design_acc: 0.8084 - val_collar_design_acc: 0.6447 - val_pant_length_acc: 0.6238 - val_neck_design_acc: 0.5376\n",
      "Epoch 4/4\n",
      "4933/4933 [==============================] - 2248s 456ms/step - loss: 0.2415 - skirt_length_loss: 0.0367 - coat_length_loss: 0.0355 - sleeve_length_loss: 0.0348 - lapel_design_loss: 0.0153 - neckline_design_loss: 0.0558 - collar_design_loss: 0.0227 - pant_length_loss: 0.0190 - neck_design_loss: 0.0218 - skirt_length_acc: 0.9225 - coat_length_acc: 0.7965 - sleeve_length_acc: 0.8429 - lapel_design_acc: 0.6798 - neckline_design_acc: 0.8733 - collar_design_acc: 0.7252 - pant_length_acc: 0.6927 - neck_design_acc: 0.5715 - val_loss: 0.4396 - val_skirt_length_loss: 0.0517 - val_coat_length_loss: 0.0627 - val_sleeve_length_loss: 0.0673 - val_lapel_design_loss: 0.0347 - val_neckline_design_loss: 0.0990 - val_collar_design_loss: 0.0579 - val_pant_length_loss: 0.0295 - val_neck_design_loss: 0.0369 - val_skirt_length_acc: 0.9021 - val_coat_length_acc: 0.7514 - val_sleeve_length_acc: 0.7810 - val_lapel_design_acc: 0.6309 - val_neckline_design_acc: 0.8148 - val_collar_design_acc: 0.6633 - val_pant_length_acc: 0.6373 - val_neck_design_acc: 0.5389\n"
     ]
    },
    {
     "data": {
      "text/plain": [
       "<keras.callbacks.History at 0x7ef5f4232e80>"
      ]
     },
     "execution_count": 18,
     "metadata": {},
     "output_type": "execute_result"
    }
   ],
   "source": [
    "model2.compile(optimizer=Adam(1e-4), loss='categorical_crossentropy', metrics=[acc])\n",
    "model2.fit_generator(gen_train.generator, steps_per_epoch=gen_train.steps, epochs=4, validation_data=(X_valid, y_valid))"
   ]
  },
  {
   "cell_type": "code",
   "execution_count": 19,
   "metadata": {
    "ExecuteTime": {
     "end_time": "2018-04-20T22:51:37.879536Z",
     "start_time": "2018-04-20T20:20:59.202343Z"
    }
   },
   "outputs": [
    {
     "name": "stdout",
     "output_type": "stream",
     "text": [
      "Epoch 1/4\n",
      "4933/4933 [==============================] - 2273s 461ms/step - loss: 0.1365 - skirt_length_loss: 0.0182 - coat_length_loss: 0.0210 - sleeve_length_loss: 0.0199 - lapel_design_loss: 0.0077 - neckline_design_loss: 0.0338 - collar_design_loss: 0.0125 - pant_length_loss: 0.0107 - neck_design_loss: 0.0126 - skirt_length_acc: 0.9541 - coat_length_acc: 0.8355 - sleeve_length_acc: 0.8822 - lapel_design_acc: 0.7073 - neckline_design_acc: 0.9098 - collar_design_acc: 0.7609 - pant_length_acc: 0.7215 - neck_design_acc: 0.6055 - val_loss: 0.3568 - val_skirt_length_loss: 0.0343 - val_coat_length_loss: 0.0540 - val_sleeve_length_loss: 0.0487 - val_lapel_design_loss: 0.0299 - val_neckline_design_loss: 0.0854 - val_collar_design_loss: 0.0451 - val_pant_length_loss: 0.0277 - val_neck_design_loss: 0.0318 - val_skirt_length_acc: 0.9337 - val_coat_length_acc: 0.7705 - val_sleeve_length_acc: 0.8316 - val_lapel_design_acc: 0.6522 - val_neckline_design_acc: 0.8377 - val_collar_design_acc: 0.6938 - val_pant_length_acc: 0.6520 - val_neck_design_acc: 0.5522\n",
      "Epoch 2/4\n",
      "4933/4933 [==============================] - 2250s 456ms/step - loss: 0.0934 - skirt_length_loss: 0.0111 - coat_length_loss: 0.0139 - sleeve_length_loss: 0.0139 - lapel_design_loss: 0.0048 - neckline_design_loss: 0.0246 - collar_design_loss: 0.0084 - pant_length_loss: 0.0078 - neck_design_loss: 0.0089 - skirt_length_acc: 0.9645 - coat_length_acc: 0.8553 - sleeve_length_acc: 0.8959 - lapel_design_acc: 0.7159 - neckline_design_acc: 0.9241 - collar_design_acc: 0.7745 - pant_length_acc: 0.7311 - neck_design_acc: 0.6193 - val_loss: 0.3675 - val_skirt_length_loss: 0.0351 - val_coat_length_loss: 0.0551 - val_sleeve_length_loss: 0.0520 - val_lapel_design_loss: 0.0300 - val_neckline_design_loss: 0.0882 - val_collar_design_loss: 0.0452 - val_pant_length_loss: 0.0290 - val_neck_design_loss: 0.0328 - val_skirt_length_acc: 0.9320 - val_coat_length_acc: 0.7721 - val_sleeve_length_acc: 0.8270 - val_lapel_design_acc: 0.6498 - val_neckline_design_acc: 0.8414 - val_collar_design_acc: 0.7006 - val_pant_length_acc: 0.6594 - val_neck_design_acc: 0.5512\n",
      "Epoch 3/4\n",
      "4933/4933 [==============================] - 2248s 456ms/step - loss: 0.0739 - skirt_length_loss: 0.0087 - coat_length_loss: 0.0108 - sleeve_length_loss: 0.0110 - lapel_design_loss: 0.0032 - neckline_design_loss: 0.0200 - collar_design_loss: 0.0068 - pant_length_loss: 0.0058 - neck_design_loss: 0.0075 - skirt_length_acc: 0.9680 - coat_length_acc: 0.8621 - sleeve_length_acc: 0.8999 - lapel_design_acc: 0.7208 - neckline_design_acc: 0.9346 - collar_design_acc: 0.7769 - pant_length_acc: 0.7363 - neck_design_acc: 0.6251 - val_loss: 0.3832 - val_skirt_length_loss: 0.0350 - val_coat_length_loss: 0.0574 - val_sleeve_length_loss: 0.0571 - val_lapel_design_loss: 0.0310 - val_neckline_design_loss: 0.0917 - val_collar_design_loss: 0.0461 - val_pant_length_loss: 0.0314 - val_neck_design_loss: 0.0335 - val_skirt_length_acc: 0.9314 - val_coat_length_acc: 0.7709 - val_sleeve_length_acc: 0.8247 - val_lapel_design_acc: 0.6452 - val_neckline_design_acc: 0.8359 - val_collar_design_acc: 0.6993 - val_pant_length_acc: 0.6591 - val_neck_design_acc: 0.5583\n",
      "Epoch 4/4\n",
      "4933/4933 [==============================] - 2245s 455ms/step - loss: 0.0599 - skirt_length_loss: 0.0071 - coat_length_loss: 0.0087 - sleeve_length_loss: 0.0084 - lapel_design_loss: 0.0033 - neckline_design_loss: 0.0158 - collar_design_loss: 0.0054 - pant_length_loss: 0.0053 - neck_design_loss: 0.0058 - skirt_length_acc: 0.9707 - coat_length_acc: 0.8657 - sleeve_length_acc: 0.9069 - lapel_design_acc: 0.7208 - neckline_design_acc: 0.9413 - collar_design_acc: 0.7820 - pant_length_acc: 0.7371 - neck_design_acc: 0.6296 - val_loss: 0.3953 - val_skirt_length_loss: 0.0361 - val_coat_length_loss: 0.0572 - val_sleeve_length_loss: 0.0569 - val_lapel_design_loss: 0.0305 - val_neckline_design_loss: 0.0964 - val_collar_design_loss: 0.0505 - val_pant_length_loss: 0.0313 - val_neck_design_loss: 0.0362 - val_skirt_length_acc: 0.9369 - val_coat_length_acc: 0.7760 - val_sleeve_length_acc: 0.8232 - val_lapel_design_acc: 0.6497 - val_neckline_design_acc: 0.8360 - val_collar_design_acc: 0.7032 - val_pant_length_acc: 0.6560 - val_neck_design_acc: 0.5564\n"
     ]
    },
    {
     "data": {
      "text/plain": [
       "<keras.callbacks.History at 0x7ef585bd4588>"
      ]
     },
     "execution_count": 19,
     "metadata": {},
     "output_type": "execute_result"
    }
   ],
   "source": [
    "model2.compile(optimizer=Adam(1e-5), loss='categorical_crossentropy', metrics=[acc])\n",
    "model2.fit_generator(gen_train.generator, steps_per_epoch=gen_train.steps, epochs=4, validation_data=(X_valid, y_valid))"
   ]
  },
  {
   "cell_type": "code",
   "execution_count": 20,
   "metadata": {
    "ExecuteTime": {
     "end_time": "2018-04-20T23:30:00.323042Z",
     "start_time": "2018-04-20T22:51:37.884083Z"
    }
   },
   "outputs": [
    {
     "name": "stdout",
     "output_type": "stream",
     "text": [
      "Epoch 1/1\n",
      "4933/4933 [==============================] - 2278s 462ms/step - loss: 0.0463 - skirt_length_loss: 0.0055 - coat_length_loss: 0.0069 - sleeve_length_loss: 0.0068 - lapel_design_loss: 0.0022 - neckline_design_loss: 0.0124 - collar_design_loss: 0.0039 - pant_length_loss: 0.0041 - neck_design_loss: 0.0045 - skirt_length_acc: 0.9723 - coat_length_acc: 0.8706 - sleeve_length_acc: 0.9100 - lapel_design_acc: 0.7247 - neckline_design_acc: 0.9479 - collar_design_acc: 0.7853 - pant_length_acc: 0.7411 - neck_design_acc: 0.6346 - val_loss: 0.3925 - val_skirt_length_loss: 0.0349 - val_coat_length_loss: 0.0571 - val_sleeve_length_loss: 0.0559 - val_lapel_design_loss: 0.0310 - val_neckline_design_loss: 0.0955 - val_collar_design_loss: 0.0511 - val_pant_length_loss: 0.0311 - val_neck_design_loss: 0.0358 - val_skirt_length_acc: 0.9356 - val_coat_length_acc: 0.7752 - val_sleeve_length_acc: 0.8293 - val_lapel_design_acc: 0.6493 - val_neckline_design_acc: 0.8381 - val_collar_design_acc: 0.7013 - val_pant_length_acc: 0.6533 - val_neck_design_acc: 0.5578\n"
     ]
    },
    {
     "data": {
      "text/plain": [
       "<keras.callbacks.History at 0x7ef585c366a0>"
      ]
     },
     "execution_count": 20,
     "metadata": {},
     "output_type": "execute_result"
    }
   ],
   "source": [
    "model2.compile(optimizer=Adam(1e-6), loss='categorical_crossentropy', metrics=[acc])\n",
    "model2.fit_generator(gen_train.generator, steps_per_epoch=gen_train.steps, epochs=1, validation_data=(X_valid, y_valid))"
   ]
  },
  {
   "cell_type": "markdown",
   "metadata": {},
   "source": [
    "# 计算验证集准确率"
   ]
  },
  {
   "cell_type": "code",
   "execution_count": 21,
   "metadata": {
    "ExecuteTime": {
     "end_time": "2018-04-20T23:30:21.899133Z",
     "start_time": "2018-04-20T23:30:00.325574Z"
    }
   },
   "outputs": [],
   "source": [
    "model.save('B_model_%s.h5' % model_name)"
   ]
  },
  {
   "cell_type": "code",
   "execution_count": 22,
   "metadata": {
    "ExecuteTime": {
     "end_time": "2018-04-20T23:32:18.344553Z",
     "start_time": "2018-04-20T23:30:21.903203Z"
    }
   },
   "outputs": [
    {
     "name": "stdout",
     "output_type": "stream",
     "text": [
      "10762/10762 [==============================] - 116s 11ms/step\n",
      "skirt_length 0.961618690029\n",
      "coat_length 0.878587196468\n",
      "sleeve_length 0.894736842105\n",
      "lapel_design 0.890840652447\n",
      "neckline_design 0.871373307544\n",
      "collar_design 0.862403100775\n",
      "pant_length 0.889411764706\n",
      "neck_design 0.843137254902\n"
     ]
    }
   ],
   "source": [
    "y_pred = model2.predict(X_valid, batch_size=128, verbose=1)\n",
    "a = np.array([x.any(axis=-1) for x in y_valid]).T.astype('uint8')\n",
    "b = [np.where((a == np.eye(8)[x]).all(axis=-1))[0] for x in range(8)]\n",
    "for c in range(8):\n",
    "    y_pred2 = y_pred[c][b[c]].argmax(axis=-1)\n",
    "    y_true2 = y_valid[c][b[c]].argmax(axis=-1)\n",
    "    print(label_names[c], (y_pred2 == y_true2).mean())"
   ]
  },
  {
   "cell_type": "code",
   "execution_count": 23,
   "metadata": {
    "ExecuteTime": {
     "end_time": "2018-04-20T23:32:18.541168Z",
     "start_time": "2018-04-20T23:32:18.350668Z"
    }
   },
   "outputs": [
    {
     "data": {
      "text/plain": [
       "Counter({'coat_length': 11320,\n",
       "         'collar_design': 8393,\n",
       "         'lapel_design': 7034,\n",
       "         'neck_design': 5696,\n",
       "         'neckline_design': 17148,\n",
       "         'pant_length': 7460,\n",
       "         'skirt_length': 19333,\n",
       "         'sleeve_length': 13299})"
      ]
     },
     "execution_count": 23,
     "metadata": {},
     "output_type": "execute_result"
    }
   ],
   "source": [
    "counts = Counter(df.label_name)\n",
    "counts"
   ]
  },
  {
   "cell_type": "code",
   "execution_count": 24,
   "metadata": {
    "ExecuteTime": {
     "end_time": "2018-04-20T23:32:18.575544Z",
     "start_time": "2018-04-20T23:32:18.543826Z"
    }
   },
   "outputs": [
    {
     "name": "stdout",
     "output_type": "stream",
     "text": [
      "0.895597157566\n"
     ]
    }
   ],
   "source": [
    "s = 0\n",
    "n = 0\n",
    "for c in range(8):\n",
    "    y_pred2 = y_pred[c][b[c]].argmax(axis=-1)\n",
    "    y_true2 = y_valid[c][b[c]].argmax(axis=-1)\n",
    "    s += counts[label_names[c]] * (y_pred2 == y_true2).mean()\n",
    "    n += counts[label_names[c]]\n",
    "print(s / n)"
   ]
  },
  {
   "cell_type": "markdown",
   "metadata": {},
   "source": [
    "# 在测试集上预测"
   ]
  },
  {
   "cell_type": "code",
   "execution_count": 25,
   "metadata": {
    "ExecuteTime": {
     "end_time": "2018-04-20T23:32:19.216151Z",
     "start_time": "2018-04-20T23:32:18.578342Z"
    }
   },
   "outputs": [
    {
     "data": {
      "text/html": [
       "<div>\n",
       "<style scoped>\n",
       "    .dataframe tbody tr th:only-of-type {\n",
       "        vertical-align: middle;\n",
       "    }\n",
       "\n",
       "    .dataframe tbody tr th {\n",
       "        vertical-align: top;\n",
       "    }\n",
       "\n",
       "    .dataframe thead th {\n",
       "        text-align: right;\n",
       "    }\n",
       "</style>\n",
       "<table border=\"1\" class=\"dataframe\">\n",
       "  <thead>\n",
       "    <tr style=\"text-align: right;\">\n",
       "      <th></th>\n",
       "      <th>filename</th>\n",
       "      <th>label_name</th>\n",
       "      <th>label</th>\n",
       "    </tr>\n",
       "  </thead>\n",
       "  <tbody>\n",
       "    <tr>\n",
       "      <th>0</th>\n",
       "      <td>Images/collar_design_labels/faad3490a16c7f3d4f...</td>\n",
       "      <td>collar_design_labels</td>\n",
       "      <td>?</td>\n",
       "    </tr>\n",
       "    <tr>\n",
       "      <th>1</th>\n",
       "      <td>Images/collar_design_labels/0b2b4254f35ce3a41a...</td>\n",
       "      <td>collar_design_labels</td>\n",
       "      <td>?</td>\n",
       "    </tr>\n",
       "    <tr>\n",
       "      <th>2</th>\n",
       "      <td>Images/collar_design_labels/7f2be608e06f804dd5...</td>\n",
       "      <td>collar_design_labels</td>\n",
       "      <td>?</td>\n",
       "    </tr>\n",
       "    <tr>\n",
       "      <th>3</th>\n",
       "      <td>Images/collar_design_labels/4b09d4dca80caac42e...</td>\n",
       "      <td>collar_design_labels</td>\n",
       "      <td>?</td>\n",
       "    </tr>\n",
       "    <tr>\n",
       "      <th>4</th>\n",
       "      <td>Images/collar_design_labels/de91f00a05e84d7239...</td>\n",
       "      <td>collar_design_labels</td>\n",
       "      <td>?</td>\n",
       "    </tr>\n",
       "  </tbody>\n",
       "</table>\n",
       "</div>"
      ],
      "text/plain": [
       "                                            filename            label_name  \\\n",
       "0  Images/collar_design_labels/faad3490a16c7f3d4f...  collar_design_labels   \n",
       "1  Images/collar_design_labels/0b2b4254f35ce3a41a...  collar_design_labels   \n",
       "2  Images/collar_design_labels/7f2be608e06f804dd5...  collar_design_labels   \n",
       "3  Images/collar_design_labels/4b09d4dca80caac42e...  collar_design_labels   \n",
       "4  Images/collar_design_labels/de91f00a05e84d7239...  collar_design_labels   \n",
       "\n",
       "  label  \n",
       "0     ?  \n",
       "1     ?  \n",
       "2     ?  \n",
       "3     ?  \n",
       "4     ?  "
      ]
     },
     "execution_count": 25,
     "metadata": {},
     "output_type": "execute_result"
    }
   ],
   "source": [
    "df_test = pd.read_csv('../test/z_rank/Tests/question.csv', header=None)\n",
    "df_test.columns = ['filename', 'label_name', 'label']\n",
    "\n",
    "fnames_test = df_test.filename\n",
    "\n",
    "n_test = len(df_test)\n",
    "df_test.head()"
   ]
  },
  {
   "cell_type": "code",
   "execution_count": 26,
   "metadata": {
    "ExecuteTime": {
     "end_time": "2018-04-20T23:34:15.970179Z",
     "start_time": "2018-04-20T23:32:19.219348Z"
    }
   },
   "outputs": [
    {
     "name": "stderr",
     "output_type": "stream",
     "text": [
      "100%|██████████| 15042/15042 [01:46<00:00, 141.42it/s]\n"
     ]
    }
   ],
   "source": [
    "def f(index):\n",
    "    return index, cv2.resize(cv2.imread('../test/z_rank/'+fnames_test[index]), (width, width))\n",
    "\n",
    "X_test = np.zeros((n_test, width, width, 3), dtype=np.uint8)\n",
    "with multiprocessing.Pool(12) as pool:\n",
    "    with tqdm(pool.imap_unordered(f, range(n_test)), total=n_test) as pbar:\n",
    "        for i, img in pbar:\n",
    "            X_test[i] = img[:,:,::-1]"
   ]
  },
  {
   "cell_type": "code",
   "execution_count": 27,
   "metadata": {
    "ExecuteTime": {
     "end_time": "2018-04-20T23:37:00.080501Z",
     "start_time": "2018-04-20T23:34:16.919499Z"
    }
   },
   "outputs": [
    {
     "name": "stdout",
     "output_type": "stream",
     "text": [
      "15042/15042 [==============================] - 162s 11ms/step\n"
     ]
    }
   ],
   "source": [
    "y_pred = model2.predict(X_test, batch_size=128, verbose=1)"
   ]
  },
  {
   "cell_type": "code",
   "execution_count": 28,
   "metadata": {
    "ExecuteTime": {
     "end_time": "2018-04-20T23:37:05.391181Z",
     "start_time": "2018-04-20T23:37:00.147242Z"
    }
   },
   "outputs": [],
   "source": [
    "for i in range(n_test):\n",
    "    problem_name = df_test.label_name[i].replace('_labels', '')\n",
    "    problem_index = label_names.index(problem_name)\n",
    "    probs = y_pred[problem_index][i]\n",
    "    df_test.label[i] = ';'.join(np.char.mod('%.8f', probs))"
   ]
  },
  {
   "cell_type": "code",
   "execution_count": 29,
   "metadata": {
    "ExecuteTime": {
     "end_time": "2018-04-20T23:37:05.792661Z",
     "start_time": "2018-04-20T23:37:05.394268Z"
    }
   },
   "outputs": [],
   "source": [
    "fname_csv = 'B_test_%sv2.csv' % model_name\n",
    "df_test.to_csv(fname_csv, index=None, header=None)"
   ]
  }
 ],
 "metadata": {
  "kernelspec": {
   "display_name": "Python 3",
   "language": "python",
   "name": "python3"
  },
  "language_info": {
   "codemirror_mode": {
    "name": "ipython",
    "version": 3
   },
   "file_extension": ".py",
   "mimetype": "text/x-python",
   "name": "python",
   "nbconvert_exporter": "python",
   "pygments_lexer": "ipython3",
   "version": "3.6.4"
  },
  "toc": {
   "nav_menu": {},
   "number_sections": true,
   "sideBar": true,
   "skip_h1_title": false,
   "toc_cell": false,
   "toc_position": {},
   "toc_section_display": "block",
   "toc_window_display": false
  },
  "varInspector": {
   "cols": {
    "lenName": "40",
    "lenType": 16,
    "lenVar": 40
   },
   "kernels_config": {
    "python": {
     "delete_cmd_postfix": "",
     "delete_cmd_prefix": "del ",
     "library": "var_list.py",
     "varRefreshCmd": "print(var_dic_list())"
    },
    "r": {
     "delete_cmd_postfix": ") ",
     "delete_cmd_prefix": "rm(",
     "library": "var_list.r",
     "varRefreshCmd": "cat(var_dic_list()) "
    }
   },
   "position": {
    "height": "456px",
    "left": "980px",
    "right": "20px",
    "top": "134px",
    "width": "521px"
   },
   "types_to_exclude": [
    "module",
    "function",
    "builtin_function_or_method",
    "instance",
    "_Feature"
   ],
   "window_display": false
  }
 },
 "nbformat": 4,
 "nbformat_minor": 2
}
