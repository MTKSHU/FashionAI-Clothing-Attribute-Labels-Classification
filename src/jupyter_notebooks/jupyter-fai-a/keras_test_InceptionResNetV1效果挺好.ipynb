{
 "cells": [
  {
   "cell_type": "markdown",
   "metadata": {},
   "source": [
    "优化算法:使用Keras提供的其他优化器，如梯度下降，看在其他算法下模型参数对模型训练和过拟合的速度有怎样的影响。\n",
    "损失函数:尝试使用Keras其他可用的损失函数，探究选用其他的损失函数是否可以提升模型的性能。\n",
    "学习率与迭代次数更新策略\n",
    "更大的Batch Size:使用更大的Batch Size意味着模型在训练集和测试集上的数据操作规模更大了"
   ]
  },
  {
   "cell_type": "code",
   "execution_count": 1,
   "metadata": {
    "ExecuteTime": {
     "end_time": "2018-04-20T03:58:38.527265Z",
     "start_time": "2018-04-20T03:58:36.260529Z"
    }
   },
   "outputs": [
    {
     "name": "stderr",
     "output_type": "stream",
     "text": [
      "Using TensorFlow backend.\n"
     ]
    }
   ],
   "source": [
    "#from __future__ import absolute_import\n",
    "#from __future__ import division\n",
    "#from __future__ import print_function\n",
    "import os\n",
    "import cv2\n",
    "import random\n",
    "import numpy as np\n",
    "import pandas as pd\n",
    "import seaborn as sns\n",
    "import matplotlib.pyplot as plt\n",
    "\n",
    "from tqdm import tqdm\n",
    "from sklearn.utils import shuffle\n",
    "from sklearn.model_selection import train_test_split\n",
    "\n",
    "from keras.applications.inception_v3 import preprocess_input\n",
    "from keras.applications import imagenet_utils\n",
    "from keras.preprocessing.image import img_to_array\n",
    "from keras.preprocessing.image import load_img\n",
    "\n",
    "from keras.layers import *\n",
    "#from keras.layers import Input\n",
    "from keras.models import *\n",
    "#from keras.models import Model\n",
    "#from keras.layers import Input, Dense\n",
    "#a = Input(shape=(32,))\n",
    "#b = Dense(32)(a)\n",
    "#model = Model(inputs=a, outputs=b)\n",
    "from keras.callbacks import *\n",
    "from keras.optimizers import *\n",
    "from keras.regularizers import *\n",
    "from keras import initializers\n",
    "from keras.applications import *\n",
    "\n",
    "plt.ion()   # interactive mode 画图不阻止程序运行\n",
    "#from keras.utils import multi_gpu_model \n",
    "#from keras.applications import ResNet50\n",
    "#from keras.applications import VGG16\n",
    "#from keras.applications import VGG19\n",
    "#from keras.applications import Xception # TensorFlow ONLY\n",
    "#from keras.applications import InceptionResNetV2\n",
    "#from keras.applications import InceptionV3\n",
    "\n",
    "#tf.keras.applications.inception_v3.InceptionV3\n",
    "#tf.keras.applications.inception_resnet_v2.InceptionResNetV2\n",
    "####################################################################\n",
    "#设置GPU\n",
    "os.environ[\"CUDA_DEVICE_ORDER\"]=\"PCI_BUS_ID\"   \n",
    "#os.environ[\"CUDA_VISIBLE_DEVICES\"]=\"0,1\" \n",
    "os.environ[\"CUDA_VISIBLE_DEVICES\"] = \"2\"\n",
    "\n",
    "#设置项\n",
    "#看具体的模型参数设置在:https://www.tensorflow.org/api_docs/python/tf/keras/applications\n",
    "MODELS = {\"InceptionResNetV2\":InceptionResNetV2}\n",
    "#MODELS = {\"DenseNet121\":DenseNet121,\"DenseNet201\":DenseNet201,\"InceptionResNetV2\":InceptionResNetV2}\n",
    "#\"InceptionV3\":InceptionV3,\"DenseNet121\":DenseNet121,\n",
    " #       \"DenseNet169\":DenseNet169,\"DenseNet201\":DenseNet201,\"Xception\":Xception, \n",
    " #       \"InceptionResNetV2\":InceptionResNetV2,\n",
    "#\"ResNet50\":ResNet50, \n",
    "#\"VGG16\":VGG16,\"VGG16\":VGG19,\"NASNetMobile\":NASNetMobile\n",
    "\n",
    "%matplotlib inline\n",
    "%config InlineBackend.figure_format = 'retina'\n",
    "\n",
    "# classes = ['collar_design_labels', 'neckline_design_labels', 'skirt_length_labels', \n",
    "#             'sleeve_length_labels', 'neck_design_labels', 'lapel_design_labels', \n",
    "#             'pant_length_labels','coat_length_labels']   \n",
    "classes = ['pant_length_labels']    \n",
    "fai_result = []"
   ]
  },
  {
   "cell_type": "code",
   "execution_count": 2,
   "metadata": {
    "ExecuteTime": {
     "end_time": "2018-04-20T04:00:41.408761Z",
     "start_time": "2018-04-20T03:58:38.529128Z"
    }
   },
   "outputs": [
    {
     "name": "stdout",
     "output_type": "stream",
     "text": [
      "######################在InceptionResNetV2下训练8个分类器####################\n",
      "#######InceptionResNetV2:pant_length_labels####################\n",
      "模型装在完毕,开始测试!\n",
      "completed!\n"
     ]
    }
   ],
   "source": [
    "for KEY, MODLE in MODELS.items():\n",
    "    #\n",
    "    #为299*299,设置如下\n",
    "    ppreprocess = preprocess_input\n",
    "    if KEY in [\"InceptionV3\",\"Xception\", \"InceptionResNetV2\"]:\n",
    "        width = 299\n",
    "    elif KEY == \"NASNetLarge\":\n",
    "        width = 331\n",
    "    else:\n",
    "        width = 224\n",
    "        ppreprocess = imagenet_utils.preprocess_input \n",
    "    print('######################在{0}下训练8个分类器####################'.format(KEY))\n",
    "    for cur_class in classes:\n",
    "        print('#######{0}:{1}####################'.format(KEY,cur_class ))\n",
    "        \n",
    "\n",
    "        #checkpointer = ModelCheckpoint(filepath='../models/{0}/{0}_{1}效果很好.best.h5'.format(prefix_cls,KEY), verbose=1, \n",
    "        #                            save_best_only=True)\n",
    "        pre_attr = cur_class.split('_')[0]\n",
    "        model=load_model('../models/{0}/{0}_{1}效果很好.best.h5'.format(pre_attr, KEY),\n",
    "            {'imagenet_utils':imagenet_utils})######当时在这不加这句dict就会出现imagenet_utils未定义,貌似是Lamda层的影响\n",
    "        #解决办法:https://github.com/keras-team/keras/issues/4609,到处第3个,最下面有:\n",
    "        \n",
    "        print(\"模型装在完毕,开始测试!\")\n",
    "        #测试集上预测并输出结果\n",
    "        df_test = pd.read_csv('../test/z_rank/Tests/question.csv', header=None)\n",
    "        df_test.columns = ['image_id', 'class', 'x']\n",
    "        del df_test['x']\n",
    "        \n",
    "        df_load = df_test[(df_test['class'] == cur_class)].copy()\n",
    "        df_load.reset_index(inplace=True)\n",
    "        del df_load['index']\n",
    "        \n",
    "        n = len(df_load)\n",
    "        X_test = np.zeros((n, width, width, 3), dtype=np.uint8)\n",
    "\n",
    "        for i in range(n):\n",
    "            X_test[i] = cv2.resize(cv2.imread('../test/z_rank/{0}'.format(df_load['image_id'][i])), (width, width))\n",
    "        test_np = model.predict(X_test, batch_size=256)\n",
    "        result = []\n",
    "        for i, row in df_load.iterrows():\n",
    "            tmp_list = test_np[i]\n",
    "            tmp_result = ''\n",
    "            for tmp_ret in tmp_list:\n",
    "                tmp_result += '{:.4f};'.format(tmp_ret)\n",
    "\n",
    "            result.append(tmp_result[:-1])\n",
    "\n",
    "        df_load['result'] = result     \n",
    "        df_load.to_csv('../result/B/B_{0}_{1}.csv'.format(pre_attr, KEY), header=None, index=False)\n",
    "\n",
    "print(\"completed!\")"
   ]
  }
 ],
 "metadata": {
  "kernelspec": {
   "display_name": "Python 3",
   "language": "python",
   "name": "python3"
  },
  "language_info": {
   "codemirror_mode": {
    "name": "ipython",
    "version": 3
   },
   "file_extension": ".py",
   "mimetype": "text/x-python",
   "name": "python",
   "nbconvert_exporter": "python",
   "pygments_lexer": "ipython3",
   "version": "3.6.4"
  }
 },
 "nbformat": 4,
 "nbformat_minor": 2
}
