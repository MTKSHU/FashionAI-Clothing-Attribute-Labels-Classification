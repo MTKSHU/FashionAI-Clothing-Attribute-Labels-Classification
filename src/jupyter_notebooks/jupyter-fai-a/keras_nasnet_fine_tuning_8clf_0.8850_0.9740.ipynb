{
 "cells": [
  {
   "cell_type": "code",
   "execution_count": 1,
   "metadata": {
    "ExecuteTime": {
     "end_time": "2018-04-20T02:36:22.248594Z",
     "start_time": "2018-04-20T02:36:20.207253Z"
    }
   },
   "outputs": [
    {
     "name": "stderr",
     "output_type": "stream",
     "text": [
      "Using TensorFlow backend.\n"
     ]
    }
   ],
   "source": [
    "import os\n",
    "os.environ['CUDA_VISIBLE_DEVICES'] = '3'\n",
    "n_gpus = len(os.environ['CUDA_VISIBLE_DEVICES'].split(','))\n",
    "model_name = 'nasnet_8classifier_trained'\n",
    "\n",
    "train_batch_size=8\n",
    "import keras.backend as K\n",
    "import tensorflow as tf\n",
    "\n",
    "# gpu_options = tf.GPUOptions(per_process_gpu_memory_fraction=0.7)\n",
    "# sess = tf.Session(config=tf.ConfigProto(gpu_options=gpu_options))"
   ]
  },
  {
   "cell_type": "markdown",
   "metadata": {},
   "source": [
    "# 导入必要的库"
   ]
  },
  {
   "cell_type": "code",
   "execution_count": 2,
   "metadata": {
    "ExecuteTime": {
     "end_time": "2018-04-20T02:36:22.834299Z",
     "start_time": "2018-04-20T02:36:22.251689Z"
    }
   },
   "outputs": [],
   "source": [
    "import numpy as np\n",
    "import pandas as pd\n",
    "from keras.layers import *\n",
    "from keras.models import *\n",
    "from keras.optimizers import *\n",
    "from keras.applications import *\n",
    "from keras.regularizers import l2\n",
    "\n",
    "from keras.preprocessing.image import *\n",
    "\n",
    "import matplotlib.pyplot as plt\n",
    "import random\n",
    "import os\n",
    "import cv2\n",
    "from tqdm import tqdm\n",
    "from glob import glob\n",
    "import multiprocessing\n",
    "\n",
    "from sklearn.model_selection import train_test_split\n",
    "from collections import Counter\n",
    "from keras import backend as K\n",
    "from keras.utils import multi_gpu_model\n",
    "\n",
    "from IPython.display import display, Image\n",
    "\n",
    "%matplotlib inline\n",
    "%config InlineBackend.figure_format = 'retina'"
   ]
  },
  {
   "cell_type": "markdown",
   "metadata": {},
   "source": [
    "# 读取数据集"
   ]
  },
  {
   "cell_type": "code",
   "execution_count": 3,
   "metadata": {
    "ExecuteTime": {
     "end_time": "2018-04-20T02:36:23.299941Z",
     "start_time": "2018-04-20T02:36:22.836652Z"
    }
   },
   "outputs": [
    {
     "data": {
      "text/html": [
       "<div>\n",
       "<style scoped>\n",
       "    .dataframe tbody tr th:only-of-type {\n",
       "        vertical-align: middle;\n",
       "    }\n",
       "\n",
       "    .dataframe tbody tr th {\n",
       "        vertical-align: top;\n",
       "    }\n",
       "\n",
       "    .dataframe thead th {\n",
       "        text-align: right;\n",
       "    }\n",
       "</style>\n",
       "<table border=\"1\" class=\"dataframe\">\n",
       "  <thead>\n",
       "    <tr style=\"text-align: right;\">\n",
       "      <th></th>\n",
       "      <th>filename</th>\n",
       "      <th>label_name</th>\n",
       "      <th>label</th>\n",
       "    </tr>\n",
       "  </thead>\n",
       "  <tbody>\n",
       "    <tr>\n",
       "      <th>0</th>\n",
       "      <td>Images/collar_design_labels/9a015b42c4d2a2f4e4...</td>\n",
       "      <td>collar_design</td>\n",
       "      <td>nnnyn</td>\n",
       "    </tr>\n",
       "    <tr>\n",
       "      <th>1</th>\n",
       "      <td>Images/neckline_design_labels/a4cb0151431b18b8...</td>\n",
       "      <td>neckline_design</td>\n",
       "      <td>nynnnnnnnn</td>\n",
       "    </tr>\n",
       "    <tr>\n",
       "      <th>2</th>\n",
       "      <td>Images/skirt_length_labels/a0d69afce8845f87641...</td>\n",
       "      <td>skirt_length</td>\n",
       "      <td>nnnnyn</td>\n",
       "    </tr>\n",
       "    <tr>\n",
       "      <th>3</th>\n",
       "      <td>Images/sleeve_length_labels/50330ed94647da3524...</td>\n",
       "      <td>sleeve_length</td>\n",
       "      <td>nnnnnnnny</td>\n",
       "    </tr>\n",
       "    <tr>\n",
       "      <th>4</th>\n",
       "      <td>Images/skirt_length_labels/4302bd7414e68b44c42...</td>\n",
       "      <td>skirt_length</td>\n",
       "      <td>nnnnny</td>\n",
       "    </tr>\n",
       "  </tbody>\n",
       "</table>\n",
       "</div>"
      ],
      "text/plain": [
       "                                            filename       label_name  \\\n",
       "0  Images/collar_design_labels/9a015b42c4d2a2f4e4...    collar_design   \n",
       "1  Images/neckline_design_labels/a4cb0151431b18b8...  neckline_design   \n",
       "2  Images/skirt_length_labels/a0d69afce8845f87641...     skirt_length   \n",
       "3  Images/sleeve_length_labels/50330ed94647da3524...    sleeve_length   \n",
       "4  Images/skirt_length_labels/4302bd7414e68b44c42...     skirt_length   \n",
       "\n",
       "        label  \n",
       "0       nnnyn  \n",
       "1  nynnnnnnnn  \n",
       "2      nnnnyn  \n",
       "3   nnnnnnnny  \n",
       "4      nnnnny  "
      ]
     },
     "metadata": {},
     "output_type": "display_data"
    },
    {
     "data": {
      "text/plain": [
       "Counter({'coat_length': 11320,\n",
       "         'collar_design': 8393,\n",
       "         'lapel_design': 7034,\n",
       "         'neck_design': 5696,\n",
       "         'neckline_design': 17148,\n",
       "         'pant_length': 7460,\n",
       "         'skirt_length': 19333,\n",
       "         'sleeve_length': 13299})"
      ]
     },
     "execution_count": 3,
     "metadata": {},
     "output_type": "execute_result"
    }
   ],
   "source": [
    "df = pd.read_csv('../train/Annotations/train.csv', header=None)\n",
    "df.columns = ['filename', 'label_name', 'label']\n",
    "df = df.sample(frac=1).reset_index(drop=True) # shuffle\n",
    "\n",
    "df.label_name = df.label_name.str.replace('_labels', '')\n",
    "\n",
    "display(df.head())\n",
    "c = Counter(df.label_name)\n",
    "c"
   ]
  },
  {
   "cell_type": "code",
   "execution_count": 4,
   "metadata": {
    "ExecuteTime": {
     "end_time": "2018-04-20T02:36:23.493780Z",
     "start_time": "2018-04-20T02:36:23.302485Z"
    },
    "code_folding": []
   },
   "outputs": [
    {
     "data": {
      "text/plain": [
       "{'coat_length': 8,\n",
       " 'collar_design': 5,\n",
       " 'lapel_design': 5,\n",
       " 'neck_design': 5,\n",
       " 'neckline_design': 10,\n",
       " 'pant_length': 6,\n",
       " 'skirt_length': 6,\n",
       " 'sleeve_length': 9}"
      ]
     },
     "metadata": {},
     "output_type": "display_data"
    }
   ],
   "source": [
    "label_count = dict([(x, len(df[df.label_name == x].label.values[0])) for x in c.keys()])\n",
    "label_names = list(label_count.keys())\n",
    "display(label_count)"
   ]
  },
  {
   "cell_type": "markdown",
   "metadata": {},
   "source": [
    "## 生成 y"
   ]
  },
  {
   "cell_type": "code",
   "execution_count": 5,
   "metadata": {
    "ExecuteTime": {
     "end_time": "2018-04-20T02:36:28.380015Z",
     "start_time": "2018-04-20T02:36:23.498881Z"
    }
   },
   "outputs": [],
   "source": [
    "fnames = df['filename'].values\n",
    "width = 331\n",
    "#width = 299\n",
    "n = len(df)\n",
    "y = [np.zeros((n, label_count[x])) for x in label_count.keys()]\n",
    "for i in range(n):\n",
    "    label_name = df.label_name[i]\n",
    "    label = df.label[i]\n",
    "    y[label_names.index(label_name)][i, label.find('y')] = 1"
   ]
  },
  {
   "cell_type": "markdown",
   "metadata": {},
   "source": [
    "## 读取图片"
   ]
  },
  {
   "cell_type": "code",
   "execution_count": 6,
   "metadata": {
    "ExecuteTime": {
     "end_time": "2018-04-20T02:41:29.970717Z",
     "start_time": "2018-04-20T02:36:28.383940Z"
    },
    "code_folding": []
   },
   "outputs": [
    {
     "name": "stderr",
     "output_type": "stream",
     "text": [
      "100%|██████████| 89683/89683 [05:00<00:00, 298.78it/s]\n"
     ]
    }
   ],
   "source": [
    "def f(index):\n",
    "    return index, cv2.resize(cv2.imread('../train/'+fnames[index]), (width, width))\n",
    "\n",
    "X = np.zeros((n, width, width, 3), dtype=np.uint8)\n",
    "with multiprocessing.Pool(30) as pool:\n",
    "    with tqdm(pool.imap_unordered(f, range(n)), total=n) as pbar:\n",
    "        for i, img in pbar:\n",
    "            X[i] = img[:,:,::-1]"
   ]
  },
  {
   "cell_type": "code",
   "execution_count": 7,
   "metadata": {
    "ExecuteTime": {
     "end_time": "2018-04-20T02:41:31.283543Z",
     "start_time": "2018-04-20T02:41:30.494830Z"
    }
   },
   "outputs": [],
   "source": [
    "n_train = int(n*0.83)\n",
    "\n",
    "X_train = X[:n_train]\n",
    "X_valid = X[n_train:]\n",
    "y_train = [x[:n_train] for x in y]\n",
    "y_valid = [x[n_train:] for x in y]"
   ]
  },
  {
   "cell_type": "code",
   "execution_count": 8,
   "metadata": {
    "ExecuteTime": {
     "end_time": "2018-04-20T02:41:31.900592Z",
     "start_time": "2018-04-20T02:41:31.286323Z"
    }
   },
   "outputs": [],
   "source": [
    "def display_images(imgs, w=8, h=4, figsize=(24, 12)):\n",
    "    plt.figure(figsize=figsize)\n",
    "    for i in range(w*h):\n",
    "        plt.subplot(h, w, i+1)\n",
    "        plt.imshow(imgs[i])"
   ]
  },
  {
   "cell_type": "code",
   "execution_count": 9,
   "metadata": {
    "ExecuteTime": {
     "end_time": "2018-04-20T02:41:32.500679Z",
     "start_time": "2018-04-20T02:41:31.902786Z"
    }
   },
   "outputs": [],
   "source": [
    "class Generator():\n",
    "    def __init__(self, X, y, batch_size=32, aug=False):\n",
    "        def generator():\n",
    "            idg = ImageDataGenerator(horizontal_flip=True,\n",
    "                                     rotation_range=20,\n",
    "                                     zoom_range=0.15)\n",
    "            while True:\n",
    "                for i in range(0, len(X), batch_size):\n",
    "                    X_batch = X[i:i+batch_size].copy()\n",
    "                    y_barch = [x[i:i+batch_size] for x in y]\n",
    "                    if aug:\n",
    "                        for j in range(len(X_batch)):\n",
    "                            X_batch[j] = idg.random_transform(X_batch[j])\n",
    "                    yield X_batch, y_barch\n",
    "        self.generator = generator()\n",
    "        self.steps = len(X) // batch_size + 1"
   ]
  },
  {
   "cell_type": "code",
   "execution_count": 10,
   "metadata": {
    "ExecuteTime": {
     "end_time": "2018-04-20T02:41:33.286949Z",
     "start_time": "2018-04-20T02:41:32.531528Z"
    }
   },
   "outputs": [],
   "source": [
    "gen_train = Generator(X_train, y_train, batch_size=train_batch_size, aug=True)"
   ]
  },
  {
   "cell_type": "markdown",
   "metadata": {},
   "source": [
    "# 数据集探索\n",
    "\n",
    "## 类别分布"
   ]
  },
  {
   "cell_type": "code",
   "execution_count": 11,
   "metadata": {
    "ExecuteTime": {
     "end_time": "2018-04-20T02:41:33.892603Z",
     "start_time": "2018-04-20T02:41:33.289682Z"
    }
   },
   "outputs": [],
   "source": [
    "# plt.figure(figsize=(26, 14))\n",
    "# for i in range(8):\n",
    "#     plt.subplot(2, 4, i+1)\n",
    "#     counts = Counter(y[i].argmax(axis=-1)[np.where(y[i].any(axis=-1))])\n",
    "#     pd.Series(counts).plot('bar')"
   ]
  },
  {
   "cell_type": "markdown",
   "metadata": {},
   "source": [
    "### 抽样可视化"
   ]
  },
  {
   "cell_type": "code",
   "execution_count": 12,
   "metadata": {
    "ExecuteTime": {
     "end_time": "2018-04-20T02:41:34.576373Z",
     "start_time": "2018-04-20T02:41:33.895137Z"
    }
   },
   "outputs": [],
   "source": [
    "# plt.figure(figsize=(26, 14))\n",
    "# w = 8\n",
    "# h = 4\n",
    "# for i in range(w*h):\n",
    "#     plt.subplot(h, w, i+1)\n",
    "#     index = np.random.randint(n)\n",
    "#     plt.title(str([y[x][index].argmax() if y[x][index].any() else -1 for x in range(8) ]))\n",
    "#     plt.imshow(X[index])\n",
    "#     plt.axis('off')"
   ]
  },
  {
   "cell_type": "markdown",
   "metadata": {},
   "source": [
    "# 搭建模型并训练\n",
    "\n",
    "## 搭建模型"
   ]
  },
  {
   "cell_type": "code",
   "execution_count": 13,
   "metadata": {
    "ExecuteTime": {
     "end_time": "2018-04-20T02:41:35.153175Z",
     "start_time": "2018-04-20T02:41:34.578937Z"
    }
   },
   "outputs": [],
   "source": [
    "def acc(y_true, y_pred):\n",
    "    index = tf.reduce_any(y_true > 0.5, axis=-1)\n",
    "    res = tf.equal(tf.argmax(y_true, axis=-1), tf.argmax(y_pred, axis=-1))\n",
    "    index = tf.cast(index, tf.float32)\n",
    "    res = tf.cast(res, tf.float32)\n",
    "    return tf.reduce_sum(res * index) / (tf.reduce_sum(index) + 1e-7)"
   ]
  },
  {
   "cell_type": "code",
   "execution_count": 14,
   "metadata": {
    "ExecuteTime": {
     "end_time": "2018-04-20T02:43:51.033578Z",
     "start_time": "2018-04-20T02:41:35.156594Z"
    }
   },
   "outputs": [],
   "source": [
    "base_model = NASNetLarge(weights='imagenet', input_shape=(width, width, 3), include_top=False, pooling='avg')\n",
    "#InceptionResNetV2,Xception\n",
    "input_tensor = Input((width, width, 3))\n",
    "x = input_tensor\n",
    "x = Lambda(nasnet.preprocess_input)(x)\n",
    "x = base_model(x)\n",
    "x = Dropout(0.5)(x)\n",
    "x = [Dense(count, activation='softmax', name=name)(x) for name, count in label_count.items()]\n",
    "\n",
    "model = Model(input_tensor, x)\n",
    "model.compile(optimizer='adam', loss='categorical_crossentropy', metrics=['acc'])\n",
    "\n",
    "from IPython.display import SVG\n",
    "#from keras.utils.vis_utils import model_to_dot, plot_model\n",
    "\n",
    "#plot_model(model, show_shapes=True, to_file='model_simple.png')\n",
    "#SVG(model_to_dot(model, show_shapes=True).create(prog='dot', format='svg'))"
   ]
  },
  {
   "cell_type": "code",
   "execution_count": 15,
   "metadata": {
    "ExecuteTime": {
     "end_time": "2018-04-20T02:43:51.048661Z",
     "start_time": "2018-04-20T02:43:51.035674Z"
    }
   },
   "outputs": [],
   "source": [
    "#model2 = multi_gpu_model(model, n_gpus)\n",
    "model2 = model"
   ]
  },
  {
   "cell_type": "code",
   "execution_count": 16,
   "metadata": {
    "ExecuteTime": {
     "end_time": "2018-04-20T02:43:51.381761Z",
     "start_time": "2018-04-20T02:43:51.052490Z"
    }
   },
   "outputs": [],
   "source": [
    "# opt = SGD(1e-3, momentum=0.9, nesterov=True, decay=1e-5)"
   ]
  },
  {
   "cell_type": "code",
   "execution_count": 17,
   "metadata": {
    "ExecuteTime": {
     "end_time": "2018-04-20T07:30:27.015703Z",
     "start_time": "2018-04-20T02:43:51.384876Z"
    },
    "scrolled": false
   },
   "outputs": [
    {
     "name": "stdout",
     "output_type": "stream",
     "text": [
      "Epoch 1/2\n",
      "9305/9305 [==============================] - 8554s 919ms/step - loss: 0.8700 - collar_design_loss: 0.0852 - neckline_design_loss: 0.2050 - skirt_length_loss: 0.1362 - sleeve_length_loss: 0.1333 - lapel_design_loss: 0.0681 - coat_length_loss: 0.1132 - pant_length_loss: 0.0587 - neck_design_loss: 0.0704 - collar_design_acc: 0.3564 - neckline_design_acc: 0.5237 - skirt_length_acc: 0.6605 - sleeve_length_acc: 0.4878 - lapel_design_acc: 0.3219 - coat_length_acc: 0.4429 - pant_length_acc: 0.3667 - neck_design_acc: 0.2304 - val_loss: 0.6785 - val_collar_design_loss: 0.0703 - val_neckline_design_loss: 0.1485 - val_skirt_length_loss: 0.0984 - val_sleeve_length_loss: 0.1064 - val_lapel_design_loss: 0.0580 - val_coat_length_loss: 0.0888 - val_pant_length_loss: 0.0419 - val_neck_design_loss: 0.0662 - val_collar_design_acc: 0.2380 - val_neckline_design_acc: 0.4236 - val_skirt_length_acc: 0.5218 - val_sleeve_length_acc: 0.3575 - val_lapel_design_acc: 0.2138 - val_coat_length_acc: 0.2984 - val_pant_length_acc: 0.2421 - val_neck_design_acc: 0.1362\n",
      "Epoch 2/2\n",
      "9305/9305 [==============================] - 8596s 924ms/step - loss: 0.5558 - collar_design_loss: 0.0556 - neckline_design_loss: 0.1284 - skirt_length_loss: 0.0878 - sleeve_length_loss: 0.0788 - lapel_design_loss: 0.0424 - coat_length_loss: 0.0769 - pant_length_loss: 0.0382 - neck_design_loss: 0.0477 - collar_design_acc: 0.4283 - neckline_design_acc: 0.6390 - skirt_length_acc: 0.7321 - sleeve_length_acc: 0.5867 - lapel_design_acc: 0.3871 - coat_length_acc: 0.5186 - pant_length_acc: 0.4180 - neck_design_acc: 0.2983 - val_loss: 0.5486 - val_collar_design_loss: 0.0513 - val_neckline_design_loss: 0.1345 - val_skirt_length_loss: 0.0805 - val_sleeve_length_loss: 0.0769 - val_lapel_design_loss: 0.0406 - val_coat_length_loss: 0.0771 - val_pant_length_loss: 0.0351 - val_neck_design_loss: 0.0526 - val_collar_design_acc: 0.2576 - val_neckline_design_acc: 0.4480 - val_skirt_length_acc: 0.5427 - val_sleeve_length_acc: 0.3902 - val_lapel_design_acc: 0.2381 - val_coat_length_acc: 0.3189 - val_pant_length_acc: 0.2511 - val_neck_design_acc: 0.1599\n"
     ]
    },
    {
     "data": {
      "text/plain": [
       "<keras.callbacks.History at 0x7f8f749da0b8>"
      ]
     },
     "execution_count": 17,
     "metadata": {},
     "output_type": "execute_result"
    }
   ],
   "source": [
    "model2.compile(optimizer=Adam(1e-4), loss='categorical_crossentropy', metrics=[acc])\n",
    "model2.fit_generator(gen_train.generator, steps_per_epoch=gen_train.steps, epochs=2, validation_data=(X_valid, y_valid))"
   ]
  },
  {
   "cell_type": "code",
   "execution_count": 18,
   "metadata": {
    "ExecuteTime": {
     "end_time": "2018-04-20T14:30:22.142147Z",
     "start_time": "2018-04-20T07:30:27.375668Z"
    }
   },
   "outputs": [
    {
     "name": "stdout",
     "output_type": "stream",
     "text": [
      "Epoch 1/3\n",
      "9305/9305 [==============================] - 8416s 904ms/step - loss: 0.3224 - collar_design_loss: 0.0336 - neckline_design_loss: 0.0747 - skirt_length_loss: 0.0493 - sleeve_length_loss: 0.0446 - lapel_design_loss: 0.0225 - coat_length_loss: 0.0443 - pant_length_loss: 0.0229 - neck_design_loss: 0.0306 - collar_design_acc: 0.4750 - neckline_design_acc: 0.7119 - skirt_length_acc: 0.7857 - sleeve_length_acc: 0.6512 - lapel_design_acc: 0.4306 - coat_length_acc: 0.5788 - pant_length_acc: 0.4475 - neck_design_acc: 0.3423 - val_loss: 0.3672 - val_collar_design_loss: 0.0392 - val_neckline_design_loss: 0.0925 - val_skirt_length_loss: 0.0494 - val_sleeve_length_loss: 0.0494 - val_lapel_design_loss: 0.0265 - val_coat_length_loss: 0.0515 - val_pant_length_loss: 0.0257 - val_neck_design_loss: 0.0331 - val_collar_design_acc: 0.4646 - val_neckline_design_acc: 0.6968 - val_skirt_length_acc: 0.7811 - val_sleeve_length_acc: 0.6368 - val_lapel_design_acc: 0.4457 - val_coat_length_acc: 0.5721 - val_pant_length_acc: 0.4465 - val_neck_design_acc: 0.3263\n",
      "Epoch 2/3\n",
      "9305/9305 [==============================] - 8370s 899ms/step - loss: 0.2546 - collar_design_loss: 0.0275 - neckline_design_loss: 0.0599 - skirt_length_loss: 0.0386 - sleeve_length_loss: 0.0340 - lapel_design_loss: 0.0167 - coat_length_loss: 0.0345 - pant_length_loss: 0.0185 - neck_design_loss: 0.0248 - collar_design_acc: 0.4876 - neckline_design_acc: 0.7327 - skirt_length_acc: 0.7986 - sleeve_length_acc: 0.6698 - lapel_design_acc: 0.4449 - coat_length_acc: 0.5979 - pant_length_acc: 0.4580 - neck_design_acc: 0.3529 - val_loss: 0.3597 - val_collar_design_loss: 0.0381 - val_neckline_design_loss: 0.0899 - val_skirt_length_loss: 0.0453 - val_sleeve_length_loss: 0.0514 - val_lapel_design_loss: 0.0246 - val_coat_length_loss: 0.0530 - val_pant_length_loss: 0.0244 - val_neck_design_loss: 0.0330 - val_collar_design_acc: 0.4650 - val_neckline_design_acc: 0.6983 - val_skirt_length_acc: 0.7862 - val_sleeve_length_acc: 0.6402 - val_lapel_design_acc: 0.4496 - val_coat_length_acc: 0.5744 - val_pant_length_acc: 0.4486 - val_neck_design_acc: 0.3331\n",
      "Epoch 3/3\n",
      "9305/9305 [==============================] - 8353s 898ms/step - loss: 0.2124 - collar_design_loss: 0.0242 - neckline_design_loss: 0.0500 - skirt_length_loss: 0.0311 - sleeve_length_loss: 0.0287 - lapel_design_loss: 0.0133 - coat_length_loss: 0.0281 - pant_length_loss: 0.0158 - neck_design_loss: 0.0213 - collar_design_acc: 0.4923 - neckline_design_acc: 0.7465 - skirt_length_acc: 0.8097 - sleeve_length_acc: 0.6789 - lapel_design_acc: 0.4514 - coat_length_acc: 0.6115 - pant_length_acc: 0.4652 - neck_design_acc: 0.3635 - val_loss: 0.3674 - val_collar_design_loss: 0.0388 - val_neckline_design_loss: 0.0929 - val_skirt_length_loss: 0.0422 - val_sleeve_length_loss: 0.0535 - val_lapel_design_loss: 0.0234 - val_coat_length_loss: 0.0550 - val_pant_length_loss: 0.0259 - val_neck_design_loss: 0.0357 - val_collar_design_acc: 0.4691 - val_neckline_design_acc: 0.7002 - val_skirt_length_acc: 0.7905 - val_sleeve_length_acc: 0.6412 - val_lapel_design_acc: 0.4559 - val_coat_length_acc: 0.5726 - val_pant_length_acc: 0.4496 - val_neck_design_acc: 0.3337\n"
     ]
    },
    {
     "data": {
      "text/plain": [
       "<keras.callbacks.History at 0x7f98201cf4a8>"
      ]
     },
     "execution_count": 18,
     "metadata": {},
     "output_type": "execute_result"
    }
   ],
   "source": [
    "model2.compile(optimizer=Adam(1e-5), loss='categorical_crossentropy', metrics=[acc])\n",
    "model2.fit_generator(gen_train.generator, steps_per_epoch=gen_train.steps, epochs=3, validation_data=(X_valid, y_valid))"
   ]
  },
  {
   "cell_type": "code",
   "execution_count": 19,
   "metadata": {
    "ExecuteTime": {
     "end_time": "2018-04-20T16:57:40.331227Z",
     "start_time": "2018-04-20T14:30:22.145882Z"
    }
   },
   "outputs": [
    {
     "name": "stdout",
     "output_type": "stream",
     "text": [
      "Epoch 1/1\n",
      "9305/9305 [==============================] - 8792s 945ms/step - loss: 0.1758 - collar_design_loss: 0.0198 - neckline_design_loss: 0.0436 - skirt_length_loss: 0.0250 - sleeve_length_loss: 0.0234 - lapel_design_loss: 0.0100 - coat_length_loss: 0.0226 - pant_length_loss: 0.0130 - neck_design_loss: 0.0185 - collar_design_acc: 0.5039 - neckline_design_acc: 0.7552 - skirt_length_acc: 0.8169 - sleeve_length_acc: 0.6898 - lapel_design_acc: 0.4608 - coat_length_acc: 0.6202 - pant_length_acc: 0.4711 - neck_design_acc: 0.3699 - val_loss: 0.3524 - val_collar_design_loss: 0.0376 - val_neckline_design_loss: 0.0880 - val_skirt_length_loss: 0.0393 - val_sleeve_length_loss: 0.0515 - val_lapel_design_loss: 0.0217 - val_coat_length_loss: 0.0561 - val_pant_length_loss: 0.0249 - val_neck_design_loss: 0.0334 - val_collar_design_acc: 0.4708 - val_neckline_design_acc: 0.7048 - val_skirt_length_acc: 0.7948 - val_sleeve_length_acc: 0.6466 - val_lapel_design_acc: 0.4564 - val_coat_length_acc: 0.5763 - val_pant_length_acc: 0.4484 - val_neck_design_acc: 0.3362\n"
     ]
    },
    {
     "data": {
      "text/plain": [
       "<keras.callbacks.History at 0x7f8f1d6ffeb8>"
      ]
     },
     "execution_count": 19,
     "metadata": {},
     "output_type": "execute_result"
    }
   ],
   "source": [
    "model2.compile(optimizer=Adam(1e-6), loss='categorical_crossentropy', metrics=[acc])\n",
    "model2.fit_generator(gen_train.generator, steps_per_epoch=gen_train.steps, epochs=1, validation_data=(X_valid, y_valid))"
   ]
  },
  {
   "cell_type": "markdown",
   "metadata": {},
   "source": [
    "# 计算验证集准确率"
   ]
  },
  {
   "cell_type": "code",
   "execution_count": null,
   "metadata": {
    "ExecuteTime": {
     "end_time": "2018-04-20T23:42:22.102516Z",
     "start_time": "2018-04-20T23:42:16.604193Z"
    }
   },
   "outputs": [],
   "source": [
    "#model.save('B_model_%s.h5' % model_name)"
   ]
  },
  {
   "cell_type": "code",
   "execution_count": 31,
   "metadata": {
    "ExecuteTime": {
     "end_time": "2018-04-21T00:34:19.311941Z",
     "start_time": "2018-04-21T00:27:51.001896Z"
    }
   },
   "outputs": [
    {
     "name": "stdout",
     "output_type": "stream",
     "text": [
      "15247/15247 [==============================] - 388s 25ms/step\n",
      "collar_design 0.863572433193\n",
      "neckline_design 0.869475847893\n",
      "skirt_length 0.935757575758\n",
      "sleeve_length 0.886933567972\n",
      "lapel_design 0.921375921376\n",
      "coat_length 0.870047543582\n",
      "pant_length 0.89477786438\n",
      "neck_design 0.833333333333\n"
     ]
    }
   ],
   "source": [
    "y_pred = model2.predict(X_valid, batch_size=128, verbose=1)\n",
    "a = np.array([x.any(axis=-1) for x in y_valid]).T.astype('uint8')\n",
    "b = [np.where((a == np.eye(8)[x]).all(axis=-1))[0] for x in range(8)]\n",
    "for c in range(8):\n",
    "    y_pred2 = y_pred[c][b[c]].argmax(axis=-1)\n",
    "    y_true2 = y_valid[c][b[c]].argmax(axis=-1)\n",
    "    print(label_names[c], (y_pred2 == y_true2).mean())"
   ]
  },
  {
   "cell_type": "code",
   "execution_count": 23,
   "metadata": {
    "ExecuteTime": {
     "end_time": "2018-04-21T00:11:48.417402Z",
     "start_time": "2018-04-21T00:11:47.837230Z"
    }
   },
   "outputs": [
    {
     "data": {
      "text/plain": [
       "Counter({'coat_length': 11320,\n",
       "         'collar_design': 8393,\n",
       "         'lapel_design': 7034,\n",
       "         'neck_design': 5696,\n",
       "         'neckline_design': 17148,\n",
       "         'pant_length': 7460,\n",
       "         'skirt_length': 19333,\n",
       "         'sleeve_length': 13299})"
      ]
     },
     "execution_count": 23,
     "metadata": {},
     "output_type": "execute_result"
    }
   ],
   "source": [
    "counts = Counter(df.label_name)\n",
    "counts"
   ]
  },
  {
   "cell_type": "code",
   "execution_count": 24,
   "metadata": {
    "ExecuteTime": {
     "end_time": "2018-04-21T00:11:50.809249Z",
     "start_time": "2018-04-21T00:11:50.784100Z"
    }
   },
   "outputs": [
    {
     "name": "stdout",
     "output_type": "stream",
     "text": [
      "0.889752483339\n"
     ]
    }
   ],
   "source": [
    "s = 0\n",
    "n = 0\n",
    "for c in range(8):\n",
    "    y_pred2 = y_pred[c][b[c]].argmax(axis=-1)\n",
    "    y_true2 = y_valid[c][b[c]].argmax(axis=-1)\n",
    "    s += counts[label_names[c]] * (y_pred2 == y_true2).mean()\n",
    "    n += counts[label_names[c]]\n",
    "print(s / n)"
   ]
  },
  {
   "cell_type": "markdown",
   "metadata": {},
   "source": [
    "# 在测试集上预测"
   ]
  },
  {
   "cell_type": "code",
   "execution_count": 25,
   "metadata": {
    "ExecuteTime": {
     "end_time": "2018-04-21T00:11:57.159233Z",
     "start_time": "2018-04-21T00:11:55.416787Z"
    }
   },
   "outputs": [
    {
     "data": {
      "text/html": [
       "<div>\n",
       "<style scoped>\n",
       "    .dataframe tbody tr th:only-of-type {\n",
       "        vertical-align: middle;\n",
       "    }\n",
       "\n",
       "    .dataframe tbody tr th {\n",
       "        vertical-align: top;\n",
       "    }\n",
       "\n",
       "    .dataframe thead th {\n",
       "        text-align: right;\n",
       "    }\n",
       "</style>\n",
       "<table border=\"1\" class=\"dataframe\">\n",
       "  <thead>\n",
       "    <tr style=\"text-align: right;\">\n",
       "      <th></th>\n",
       "      <th>filename</th>\n",
       "      <th>label_name</th>\n",
       "      <th>label</th>\n",
       "    </tr>\n",
       "  </thead>\n",
       "  <tbody>\n",
       "    <tr>\n",
       "      <th>0</th>\n",
       "      <td>Images/collar_design_labels/faad3490a16c7f3d4f...</td>\n",
       "      <td>collar_design_labels</td>\n",
       "      <td>?</td>\n",
       "    </tr>\n",
       "    <tr>\n",
       "      <th>1</th>\n",
       "      <td>Images/collar_design_labels/0b2b4254f35ce3a41a...</td>\n",
       "      <td>collar_design_labels</td>\n",
       "      <td>?</td>\n",
       "    </tr>\n",
       "    <tr>\n",
       "      <th>2</th>\n",
       "      <td>Images/collar_design_labels/7f2be608e06f804dd5...</td>\n",
       "      <td>collar_design_labels</td>\n",
       "      <td>?</td>\n",
       "    </tr>\n",
       "    <tr>\n",
       "      <th>3</th>\n",
       "      <td>Images/collar_design_labels/4b09d4dca80caac42e...</td>\n",
       "      <td>collar_design_labels</td>\n",
       "      <td>?</td>\n",
       "    </tr>\n",
       "    <tr>\n",
       "      <th>4</th>\n",
       "      <td>Images/collar_design_labels/de91f00a05e84d7239...</td>\n",
       "      <td>collar_design_labels</td>\n",
       "      <td>?</td>\n",
       "    </tr>\n",
       "  </tbody>\n",
       "</table>\n",
       "</div>"
      ],
      "text/plain": [
       "                                            filename            label_name  \\\n",
       "0  Images/collar_design_labels/faad3490a16c7f3d4f...  collar_design_labels   \n",
       "1  Images/collar_design_labels/0b2b4254f35ce3a41a...  collar_design_labels   \n",
       "2  Images/collar_design_labels/7f2be608e06f804dd5...  collar_design_labels   \n",
       "3  Images/collar_design_labels/4b09d4dca80caac42e...  collar_design_labels   \n",
       "4  Images/collar_design_labels/de91f00a05e84d7239...  collar_design_labels   \n",
       "\n",
       "  label  \n",
       "0     ?  \n",
       "1     ?  \n",
       "2     ?  \n",
       "3     ?  \n",
       "4     ?  "
      ]
     },
     "execution_count": 25,
     "metadata": {},
     "output_type": "execute_result"
    }
   ],
   "source": [
    "df_test = pd.read_csv('../test/z_rank/Tests/question.csv', header=None)\n",
    "df_test.columns = ['filename', 'label_name', 'label']\n",
    "\n",
    "fnames_test = df_test.filename\n",
    "\n",
    "n_test = len(df_test)\n",
    "df_test.head()"
   ]
  },
  {
   "cell_type": "code",
   "execution_count": 28,
   "metadata": {
    "ExecuteTime": {
     "end_time": "2018-04-21T00:14:42.141515Z",
     "start_time": "2018-04-21T00:13:09.964722Z"
    }
   },
   "outputs": [
    {
     "name": "stderr",
     "output_type": "stream",
     "text": [
      "100%|██████████| 15042/15042 [01:19<00:00, 189.15it/s]\n"
     ]
    }
   ],
   "source": [
    "def f(index):\n",
    "    return index, cv2.resize(cv2.imread('../test/z_rank/'+fnames_test[index]), (width, width))\n",
    "\n",
    "X_test = np.zeros((n_test, width, width, 3), dtype=np.uint8)\n",
    "with multiprocessing.Pool(12) as pool:\n",
    "    with tqdm(pool.imap_unordered(f, range(n_test)), total=n_test) as pbar:\n",
    "        for i, img in pbar:\n",
    "            X_test[i] = img[:,:,::-1]"
   ]
  },
  {
   "cell_type": "code",
   "execution_count": 29,
   "metadata": {
    "ExecuteTime": {
     "end_time": "2018-04-21T00:21:19.793882Z",
     "start_time": "2018-04-21T00:14:42.919958Z"
    }
   },
   "outputs": [
    {
     "name": "stdout",
     "output_type": "stream",
     "text": [
      "15042/15042 [==============================] - 397s 26ms/step\n"
     ]
    }
   ],
   "source": [
    "y_pred = model2.predict(X_test, batch_size=128, verbose=1)"
   ]
  },
  {
   "cell_type": "code",
   "execution_count": 30,
   "metadata": {
    "ExecuteTime": {
     "end_time": "2018-04-21T00:26:07.107917Z",
     "start_time": "2018-04-21T00:26:01.924451Z"
    }
   },
   "outputs": [],
   "source": [
    "for i in range(n_test):\n",
    "    problem_name = df_test.label_name[i].replace('_labels', '')\n",
    "    problem_index = label_names.index(problem_name)\n",
    "    probs = y_pred[problem_index][i]\n",
    "    df_test.label[i] = ';'.join(np.char.mod('%.8f', probs))"
   ]
  },
  {
   "cell_type": "code",
   "execution_count": 32,
   "metadata": {
    "ExecuteTime": {
     "end_time": "2018-04-21T01:57:03.757251Z",
     "start_time": "2018-04-21T01:57:03.484866Z"
    }
   },
   "outputs": [],
   "source": [
    "fname_csv = 'B_test_%s.csv' % model_name\n",
    "df_test.to_csv(fname_csv, index=None, header=None)"
   ]
  }
 ],
 "metadata": {
  "kernelspec": {
   "display_name": "Python 3",
   "language": "python",
   "name": "python3"
  },
  "toc": {
   "nav_menu": {},
   "number_sections": true,
   "sideBar": true,
   "skip_h1_title": false,
   "toc_cell": false,
   "toc_position": {},
   "toc_section_display": "block",
   "toc_window_display": false
  },
  "varInspector": {
   "cols": {
    "lenName": "40",
    "lenType": 16,
    "lenVar": 40
   },
   "kernels_config": {
    "python": {
     "delete_cmd_postfix": "",
     "delete_cmd_prefix": "del ",
     "library": "var_list.py",
     "varRefreshCmd": "print(var_dic_list())"
    },
    "r": {
     "delete_cmd_postfix": ") ",
     "delete_cmd_prefix": "rm(",
     "library": "var_list.r",
     "varRefreshCmd": "cat(var_dic_list()) "
    }
   },
   "position": {
    "height": "456px",
    "left": "980px",
    "right": "20px",
    "top": "134px",
    "width": "521px"
   },
   "types_to_exclude": [
    "module",
    "function",
    "builtin_function_or_method",
    "instance",
    "_Feature"
   ],
   "window_display": false
  }
 },
 "nbformat": 4,
 "nbformat_minor": 2
}
